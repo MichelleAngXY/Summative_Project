{
 "cells": [
  {
   "cell_type": "markdown",
   "metadata": {
    "id": "aIKxRFiJhLlv"
   },
   "source": [
    "#Machine Learning Prediction in Sales for SuperMart"
   ]
  },
  {
   "cell_type": "markdown",
   "metadata": {
    "id": "hPGh4EuJty3i"
   },
   "source": [
    "#Import Libraries"
   ]
  },
  {
   "cell_type": "code",
   "execution_count": 1,
   "metadata": {
    "colab": {
     "base_uri": "https://localhost:8080/"
    },
    "id": "oJ5_fbCrqjmK",
    "outputId": "eb1d0edc-c4a4-4300-8909-7d753e175211"
   },
   "outputs": [
    {
     "name": "stdout",
     "output_type": "stream",
     "text": [
      "Requirement already satisfied: scikit-learn==0.24.1 in c:\\users\\mich\\anaconda3\\lib\\site-packages (0.24.1)\n",
      "Requirement already satisfied: numpy>=1.13.3 in c:\\users\\mich\\anaconda3\\lib\\site-packages (from scikit-learn==0.24.1) (1.19.2)\n",
      "Requirement already satisfied: scipy>=0.19.1 in c:\\users\\mich\\anaconda3\\lib\\site-packages (from scikit-learn==0.24.1) (1.5.2)\n",
      "Requirement already satisfied: threadpoolctl>=2.0.0 in c:\\users\\mich\\anaconda3\\lib\\site-packages (from scikit-learn==0.24.1) (2.1.0)\n",
      "Requirement already satisfied: joblib>=0.11 in c:\\users\\mich\\anaconda3\\lib\\site-packages (from scikit-learn==0.24.1) (0.17.0)\n"
     ]
    }
   ],
   "source": [
    "!pip install scikit-learn==0.24.1"
   ]
  },
  {
   "cell_type": "code",
   "execution_count": 2,
   "metadata": {
    "id": "Q53Kbt1GCQAM",
    "outputId": "75769cfc-7309-485f-dbb7-cc28aafdf732"
   },
   "outputs": [
    {
     "name": "stdout",
     "output_type": "stream",
     "text": [
      "Requirement already satisfied: pyodbc in c:\\users\\mich\\anaconda3\\lib\\site-packages (4.0.0-unsupported)\n",
      "Note: you may need to restart the kernel to use updated packages.\n"
     ]
    }
   ],
   "source": [
    "pip install pyodbc"
   ]
  },
  {
   "cell_type": "code",
   "execution_count": 3,
   "metadata": {
    "id": "yuhz7hkv7ZLl",
    "outputId": "84403dc1-8ac9-4658-a0ba-a6ab8a2ae27b"
   },
   "outputs": [
    {
     "name": "stdout",
     "output_type": "stream",
     "text": [
      "Requirement already satisfied: xgboost in c:\\users\\mich\\anaconda3\\lib\\site-packages (1.4.2)Note: you may need to restart the kernel to use updated packages.\n",
      "Requirement already satisfied: scipy in c:\\users\\mich\\anaconda3\\lib\\site-packages (from xgboost) (1.5.2)\n",
      "Requirement already satisfied: numpy in c:\\users\\mich\\anaconda3\\lib\\site-packages (from xgboost) (1.19.2)\n",
      "\n"
     ]
    }
   ],
   "source": [
    "pip install xgboost"
   ]
  },
  {
   "cell_type": "code",
   "execution_count": 4,
   "metadata": {
    "id": "agHEGuxUdwhS"
   },
   "outputs": [],
   "source": [
    "# Importing the required libraries\n",
    "import numpy as np\n",
    "import pandas as pd\n",
    "import matplotlib.pyplot as plt\n",
    "import seaborn as sns\n",
    "import pyodbc\n",
    "import datetime\n",
    "from pandas import Series, DataFrame #numerical data back to categorical data\n",
    "\n",
    "from sklearn.preprocessing import LabelEncoder\n",
    "from sklearn.model_selection import train_test_split, cross_val_score\n",
    "\n",
    "# Import the regression algorithm\n",
    "from sklearn import linear_model\n",
    "from sklearn.linear_model import LinearRegression\n",
    "from sklearn.linear_model import Ridge\n",
    "from sklearn.tree import DecisionTreeRegressor\n",
    "from sklearn.neighbors import KNeighborsRegressor\n",
    "from sklearn.neural_network import MLPRegressor\n",
    "from sklearn.ensemble import GradientBoostingRegressor\n",
    "from sklearn.ensemble import RandomForestRegressor\n",
    "from xgboost import XGBRegressor\n",
    "\n",
    "from sklearn.metrics import explained_variance_score, mean_squared_error, r2_score, mean_absolute_error\n",
    "\n",
    "from sklearn.model_selection import GridSearchCV\n",
    "from sklearn.model_selection import RandomizedSearchCV\n",
    "\n",
    "#Preprocessing Steps\n",
    "from sklearn.preprocessing import StandardScaler\n",
    "\n",
    "#Pipeline\n",
    "from sklearn.pipeline import Pipeline\n",
    "\n",
    "SEED = 0 "
   ]
  },
  {
   "cell_type": "markdown",
   "metadata": {
    "id": "5KQ6mWuRMMGa"
   },
   "source": [
    "#Loading the Data"
   ]
  },
  {
   "cell_type": "markdown",
   "metadata": {
    "id": "hO3lxUUBCQAP"
   },
   "source": [
    "https://datatofish.com/how-to-connect-python-to-sql-server-using-pyodbc/"
   ]
  },
  {
   "cell_type": "code",
   "execution_count": 5,
   "metadata": {
    "id": "97y-3YtVCQAP"
   },
   "outputs": [],
   "source": [
    "conn = pyodbc.connect('Driver={SQL Server};'\n",
    "                      'Server=A0126316\\SQLEXPRESS;'\n",
    "                      'Database=capstone_project1;'\n",
    "                      'Trusted_Connection=yes;')\n",
    "\n",
    "cursor = conn.cursor()"
   ]
  },
  {
   "cell_type": "code",
   "execution_count": 6,
   "metadata": {
    "id": "ghycemmUCQAQ",
    "outputId": "47438547-68ac-425c-c09f-8374ab609d42"
   },
   "outputs": [
    {
     "name": "stdout",
     "output_type": "stream",
     "text": [
      "  Transaction_ID   Tran_Date Cust_ID  Age     Category     SubCategory  \\\n",
      "0    10000237880  2013-10-13  271389   25     Footwear  Men's Footwear   \n",
      "1    10008786951  2012-09-18  267242   27  Electronics       Computers   \n",
      "2    10011215362  2012-08-26  270641   21     Clothing  Kids' Clothing   \n",
      "3    10014712375  2013-06-11  270234   38        Books          Comics   \n",
      "4    10017543415  2014-02-18  267097   41        Books          Comics   \n",
      "\n",
      "       Store_Type  Qty   Price     Tax  Total_Amt  \n",
      "0             MBR    1  1200.0  126.00    1326.00  \n",
      "1        TeleShop    2   512.0  107.52    1131.52  \n",
      "2        TeleShop    4   936.0  393.12    4137.12  \n",
      "3        TeleShop    3  1199.0  377.69    3974.69  \n",
      "4  Flagship store    1   164.0   17.22     181.22  \n",
      "<class 'pandas.core.frame.DataFrame'>\n"
     ]
    }
   ],
   "source": [
    "transaction = pd.read_sql_query('SELECT * FROM capstone_project1.dbo.Transactions_Age',conn)\n",
    "print(transaction.head())\n",
    "print(type(transaction))"
   ]
  },
  {
   "cell_type": "code",
   "execution_count": 7,
   "metadata": {
    "id": "K8UzSV24CQAR",
    "outputId": "a6589ac4-7846-4341-945f-02fe4c812bca"
   },
   "outputs": [
    {
     "name": "stdout",
     "output_type": "stream",
     "text": [
      "  Customer_ID         DOB Gender  City_Code\n",
      "0      266783  1974-05-01      M        4.0\n",
      "1      266784  1991-12-13      F       10.0\n",
      "2      266785  1985-06-29      F        3.0\n",
      "3      266788  1972-03-20      F        2.0\n",
      "4      266794  1971-02-28      F        9.0\n",
      "<class 'pandas.core.frame.DataFrame'>\n"
     ]
    }
   ],
   "source": [
    "customer = pd.read_sql_query('SELECT * FROM capstone_project1.dbo.Customer',conn)\n",
    "print(customer.head())\n",
    "print(type(customer))"
   ]
  },
  {
   "cell_type": "code",
   "execution_count": 8,
   "metadata": {
    "id": "KcH-TmbkCQAS"
   },
   "outputs": [],
   "source": [
    "transaction_customer = pd.merge(customer, transaction, left_on = 'Customer_ID', right_on = 'Cust_ID')"
   ]
  },
  {
   "cell_type": "code",
   "execution_count": 9,
   "metadata": {
    "id": "F7HnmBTOCQAT"
   },
   "outputs": [],
   "source": [
    "transaction_customer = transaction_customer.drop('Customer_ID', axis = 1)"
   ]
  },
  {
   "cell_type": "code",
   "execution_count": 10,
   "metadata": {
    "id": "EwjRBtJMCQAU"
   },
   "outputs": [],
   "source": [
    "transaction_customer = transaction_customer.drop('Transaction_ID', axis = 1)"
   ]
  },
  {
   "cell_type": "code",
   "execution_count": 11,
   "metadata": {
    "id": "W8xJ9gFxCQAU"
   },
   "outputs": [],
   "source": [
    "transaction_customer = transaction_customer.drop('Cust_ID', axis = 1)"
   ]
  },
  {
   "cell_type": "code",
   "execution_count": 12,
   "metadata": {
    "id": "NfPE4mAvCQAV"
   },
   "outputs": [],
   "source": [
    "transaction_customer = transaction_customer.drop('DOB', axis = 1)"
   ]
  },
  {
   "cell_type": "code",
   "execution_count": 13,
   "metadata": {
    "id": "QxlXtS21CQAV"
   },
   "outputs": [],
   "source": [
    "transaction_customer = transaction_customer.drop('City_Code', axis = 1)"
   ]
  },
  {
   "cell_type": "code",
   "execution_count": 14,
   "metadata": {
    "id": "WAjCICul7ZLq"
   },
   "outputs": [],
   "source": [
    "#change to datetime format to extract year\n",
    "transaction_customer['Trans_Date_DT'] = pd.to_datetime(transaction_customer['Tran_Date'], format='%Y-%m-%d')"
   ]
  },
  {
   "cell_type": "code",
   "execution_count": 15,
   "metadata": {
    "id": "0wkiDemr7ZLr"
   },
   "outputs": [],
   "source": [
    "transaction_customer['Year'] = transaction_customer['Trans_Date_DT'].dt.year"
   ]
  },
  {
   "cell_type": "code",
   "execution_count": 16,
   "metadata": {
    "id": "lGky63RBCQAV"
   },
   "outputs": [],
   "source": [
    "transaction_customer = transaction_customer.drop('Tran_Date', axis = 1)"
   ]
  },
  {
   "cell_type": "code",
   "execution_count": 17,
   "metadata": {
    "id": "dKfcyoHs7ZLr"
   },
   "outputs": [],
   "source": [
    "transaction_customer = transaction_customer.drop('Trans_Date_DT', axis = 1)"
   ]
  },
  {
   "cell_type": "code",
   "execution_count": 18,
   "metadata": {
    "id": "x76X_dn17ZLr",
    "outputId": "d8478826-25b8-4af0-df65-8d1de7868fab"
   },
   "outputs": [
    {
     "data": {
      "text/html": [
       "<div>\n",
       "<style scoped>\n",
       "    .dataframe tbody tr th:only-of-type {\n",
       "        vertical-align: middle;\n",
       "    }\n",
       "\n",
       "    .dataframe tbody tr th {\n",
       "        vertical-align: top;\n",
       "    }\n",
       "\n",
       "    .dataframe thead th {\n",
       "        text-align: right;\n",
       "    }\n",
       "</style>\n",
       "<table border=\"1\" class=\"dataframe\">\n",
       "  <thead>\n",
       "    <tr style=\"text-align: right;\">\n",
       "      <th></th>\n",
       "      <th>Gender</th>\n",
       "      <th>Age</th>\n",
       "      <th>Category</th>\n",
       "      <th>SubCategory</th>\n",
       "      <th>Store_Type</th>\n",
       "      <th>Qty</th>\n",
       "      <th>Price</th>\n",
       "      <th>Tax</th>\n",
       "      <th>Total_Amt</th>\n",
       "      <th>Year</th>\n",
       "    </tr>\n",
       "  </thead>\n",
       "  <tbody>\n",
       "    <tr>\n",
       "      <th>0</th>\n",
       "      <td>M</td>\n",
       "      <td>39</td>\n",
       "      <td>Books</td>\n",
       "      <td>Non-Fiction</td>\n",
       "      <td>e-Shop</td>\n",
       "      <td>2</td>\n",
       "      <td>835.0</td>\n",
       "      <td>175.35</td>\n",
       "      <td>1845.35</td>\n",
       "      <td>2013</td>\n",
       "    </tr>\n",
       "    <tr>\n",
       "      <th>1</th>\n",
       "      <td>M</td>\n",
       "      <td>39</td>\n",
       "      <td>Clothing</td>\n",
       "      <td>Men's Clothing</td>\n",
       "      <td>e-Shop</td>\n",
       "      <td>1</td>\n",
       "      <td>869.0</td>\n",
       "      <td>91.25</td>\n",
       "      <td>960.25</td>\n",
       "      <td>2013</td>\n",
       "    </tr>\n",
       "    <tr>\n",
       "      <th>2</th>\n",
       "      <td>M</td>\n",
       "      <td>38</td>\n",
       "      <td>Clothing</td>\n",
       "      <td>Men's Clothing</td>\n",
       "      <td>TeleShop</td>\n",
       "      <td>3</td>\n",
       "      <td>93.0</td>\n",
       "      <td>29.30</td>\n",
       "      <td>308.30</td>\n",
       "      <td>2012</td>\n",
       "    </tr>\n",
       "    <tr>\n",
       "      <th>3</th>\n",
       "      <td>F</td>\n",
       "      <td>21</td>\n",
       "      <td>Books</td>\n",
       "      <td>Fiction</td>\n",
       "      <td>e-Shop</td>\n",
       "      <td>5</td>\n",
       "      <td>176.0</td>\n",
       "      <td>92.40</td>\n",
       "      <td>972.40</td>\n",
       "      <td>2012</td>\n",
       "    </tr>\n",
       "    <tr>\n",
       "      <th>4</th>\n",
       "      <td>F</td>\n",
       "      <td>21</td>\n",
       "      <td>Electronics</td>\n",
       "      <td>Mobiles</td>\n",
       "      <td>Flagship store</td>\n",
       "      <td>2</td>\n",
       "      <td>200.0</td>\n",
       "      <td>42.00</td>\n",
       "      <td>442.00</td>\n",
       "      <td>2012</td>\n",
       "    </tr>\n",
       "  </tbody>\n",
       "</table>\n",
       "</div>"
      ],
      "text/plain": [
       "  Gender  Age     Category     SubCategory      Store_Type  Qty  Price  \\\n",
       "0      M   39        Books     Non-Fiction          e-Shop    2  835.0   \n",
       "1      M   39     Clothing  Men's Clothing          e-Shop    1  869.0   \n",
       "2      M   38     Clothing  Men's Clothing        TeleShop    3   93.0   \n",
       "3      F   21        Books         Fiction          e-Shop    5  176.0   \n",
       "4      F   21  Electronics         Mobiles  Flagship store    2  200.0   \n",
       "\n",
       "      Tax  Total_Amt  Year  \n",
       "0  175.35    1845.35  2013  \n",
       "1   91.25     960.25  2013  \n",
       "2   29.30     308.30  2012  \n",
       "3   92.40     972.40  2012  \n",
       "4   42.00     442.00  2012  "
      ]
     },
     "execution_count": 18,
     "metadata": {},
     "output_type": "execute_result"
    }
   ],
   "source": [
    "transaction_customer.head()"
   ]
  },
  {
   "cell_type": "code",
   "execution_count": 19,
   "metadata": {
    "id": "HbBs3YPY7ZLs"
   },
   "outputs": [],
   "source": [
    "# Interaction Terms\n",
    "\n",
    "# Price , Year\n",
    "#transaction_customer['Price_*_Year'] = transaction_customer['Price'] * transaction_customer['Year']"
   ]
  },
  {
   "cell_type": "code",
   "execution_count": 20,
   "metadata": {
    "id": "2kkoc88r7ZLs"
   },
   "outputs": [],
   "source": [
    "# Interaction Terms\n",
    "\n",
    "# Price , Age\n",
    "transaction_customer['Price_*_Age'] = transaction_customer['Price'] * transaction_customer['Age']"
   ]
  },
  {
   "cell_type": "code",
   "execution_count": 21,
   "metadata": {
    "id": "8Q_MhjDj7ZLs"
   },
   "outputs": [],
   "source": [
    "transaction_customer['Sales_Amount'] = transaction_customer['Total_Amt']"
   ]
  },
  {
   "cell_type": "code",
   "execution_count": 22,
   "metadata": {
    "id": "de2lP13X7ZLs"
   },
   "outputs": [],
   "source": [
    "#https://statisticsbyjim.com/regression/r-squared-too-high/\n",
    "transaction_customer = transaction_customer.drop('Tax', axis = 1)"
   ]
  },
  {
   "cell_type": "code",
   "execution_count": 23,
   "metadata": {
    "id": "LocNHJH47ZLs"
   },
   "outputs": [],
   "source": [
    "#https://statisticsbyjim.com/regression/r-squared-too-high/\n",
    "transaction_customer = transaction_customer.drop('Price', axis = 1)"
   ]
  },
  {
   "cell_type": "code",
   "execution_count": 24,
   "metadata": {
    "id": "FA2l1Uh_7ZLt"
   },
   "outputs": [],
   "source": [
    "transaction_customer = transaction_customer.drop('Total_Amt', axis = 1)"
   ]
  },
  {
   "cell_type": "code",
   "execution_count": 25,
   "metadata": {
    "id": "wM_EpJylCQAW",
    "outputId": "1ca9db18-d3e2-4bc5-e356-85d66fde6dc7",
    "scrolled": true
   },
   "outputs": [
    {
     "data": {
      "text/html": [
       "<div>\n",
       "<style scoped>\n",
       "    .dataframe tbody tr th:only-of-type {\n",
       "        vertical-align: middle;\n",
       "    }\n",
       "\n",
       "    .dataframe tbody tr th {\n",
       "        vertical-align: top;\n",
       "    }\n",
       "\n",
       "    .dataframe thead th {\n",
       "        text-align: right;\n",
       "    }\n",
       "</style>\n",
       "<table border=\"1\" class=\"dataframe\">\n",
       "  <thead>\n",
       "    <tr style=\"text-align: right;\">\n",
       "      <th></th>\n",
       "      <th>Gender</th>\n",
       "      <th>Age</th>\n",
       "      <th>Category</th>\n",
       "      <th>SubCategory</th>\n",
       "      <th>Store_Type</th>\n",
       "      <th>Qty</th>\n",
       "      <th>Year</th>\n",
       "      <th>Price_*_Age</th>\n",
       "      <th>Sales_Amount</th>\n",
       "    </tr>\n",
       "  </thead>\n",
       "  <tbody>\n",
       "    <tr>\n",
       "      <th>0</th>\n",
       "      <td>M</td>\n",
       "      <td>39</td>\n",
       "      <td>Books</td>\n",
       "      <td>Non-Fiction</td>\n",
       "      <td>e-Shop</td>\n",
       "      <td>2</td>\n",
       "      <td>2013</td>\n",
       "      <td>32565.0</td>\n",
       "      <td>1845.35</td>\n",
       "    </tr>\n",
       "    <tr>\n",
       "      <th>1</th>\n",
       "      <td>M</td>\n",
       "      <td>39</td>\n",
       "      <td>Clothing</td>\n",
       "      <td>Men's Clothing</td>\n",
       "      <td>e-Shop</td>\n",
       "      <td>1</td>\n",
       "      <td>2013</td>\n",
       "      <td>33891.0</td>\n",
       "      <td>960.25</td>\n",
       "    </tr>\n",
       "    <tr>\n",
       "      <th>2</th>\n",
       "      <td>M</td>\n",
       "      <td>38</td>\n",
       "      <td>Clothing</td>\n",
       "      <td>Men's Clothing</td>\n",
       "      <td>TeleShop</td>\n",
       "      <td>3</td>\n",
       "      <td>2012</td>\n",
       "      <td>3534.0</td>\n",
       "      <td>308.30</td>\n",
       "    </tr>\n",
       "    <tr>\n",
       "      <th>3</th>\n",
       "      <td>F</td>\n",
       "      <td>21</td>\n",
       "      <td>Books</td>\n",
       "      <td>Fiction</td>\n",
       "      <td>e-Shop</td>\n",
       "      <td>5</td>\n",
       "      <td>2012</td>\n",
       "      <td>3696.0</td>\n",
       "      <td>972.40</td>\n",
       "    </tr>\n",
       "    <tr>\n",
       "      <th>4</th>\n",
       "      <td>F</td>\n",
       "      <td>21</td>\n",
       "      <td>Electronics</td>\n",
       "      <td>Mobiles</td>\n",
       "      <td>Flagship store</td>\n",
       "      <td>2</td>\n",
       "      <td>2012</td>\n",
       "      <td>4200.0</td>\n",
       "      <td>442.00</td>\n",
       "    </tr>\n",
       "  </tbody>\n",
       "</table>\n",
       "</div>"
      ],
      "text/plain": [
       "  Gender  Age     Category     SubCategory      Store_Type  Qty  Year  \\\n",
       "0      M   39        Books     Non-Fiction          e-Shop    2  2013   \n",
       "1      M   39     Clothing  Men's Clothing          e-Shop    1  2013   \n",
       "2      M   38     Clothing  Men's Clothing        TeleShop    3  2012   \n",
       "3      F   21        Books         Fiction          e-Shop    5  2012   \n",
       "4      F   21  Electronics         Mobiles  Flagship store    2  2012   \n",
       "\n",
       "   Price_*_Age  Sales_Amount  \n",
       "0      32565.0       1845.35  \n",
       "1      33891.0        960.25  \n",
       "2       3534.0        308.30  \n",
       "3       3696.0        972.40  \n",
       "4       4200.0        442.00  "
      ]
     },
     "execution_count": 25,
     "metadata": {},
     "output_type": "execute_result"
    }
   ],
   "source": [
    "transaction_customer.head()"
   ]
  },
  {
   "cell_type": "markdown",
   "metadata": {
    "id": "-ndrNP-1MRb6"
   },
   "source": [
    "#Data Pre-processing and Exploratory Data Analysis"
   ]
  },
  {
   "cell_type": "code",
   "execution_count": 26,
   "metadata": {
    "colab": {
     "base_uri": "https://localhost:8080/"
    },
    "id": "s1dGDcNke-zU",
    "outputId": "03d69141-2e16-4a97-934e-990b422ebfde"
   },
   "outputs": [
    {
     "name": "stdout",
     "output_type": "stream",
     "text": [
      "<class 'pandas.core.frame.DataFrame'>\n",
      "Int64Index: 18819 entries, 0 to 18818\n",
      "Data columns (total 9 columns):\n",
      " #   Column        Non-Null Count  Dtype  \n",
      "---  ------        --------------  -----  \n",
      " 0   Gender        18812 non-null  object \n",
      " 1   Age           18819 non-null  int64  \n",
      " 2   Category      18819 non-null  object \n",
      " 3   SubCategory   18819 non-null  object \n",
      " 4   Store_Type    18819 non-null  object \n",
      " 5   Qty           18819 non-null  int64  \n",
      " 6   Year          18819 non-null  int64  \n",
      " 7   Price_*_Age   18819 non-null  float64\n",
      " 8   Sales_Amount  18819 non-null  float64\n",
      "dtypes: float64(2), int64(3), object(4)\n",
      "memory usage: 1.4+ MB\n"
     ]
    }
   ],
   "source": [
    "transaction_customer.info()"
   ]
  },
  {
   "cell_type": "code",
   "execution_count": 27,
   "metadata": {
    "colab": {
     "base_uri": "https://localhost:8080/",
     "height": 300
    },
    "id": "zSWNodwoTtnU",
    "outputId": "34f44f8b-dd75-4af7-b925-a5581035b8c4"
   },
   "outputs": [
    {
     "data": {
      "text/html": [
       "<div>\n",
       "<style scoped>\n",
       "    .dataframe tbody tr th:only-of-type {\n",
       "        vertical-align: middle;\n",
       "    }\n",
       "\n",
       "    .dataframe tbody tr th {\n",
       "        vertical-align: top;\n",
       "    }\n",
       "\n",
       "    .dataframe thead th {\n",
       "        text-align: right;\n",
       "    }\n",
       "</style>\n",
       "<table border=\"1\" class=\"dataframe\">\n",
       "  <thead>\n",
       "    <tr style=\"text-align: right;\">\n",
       "      <th></th>\n",
       "      <th>Age</th>\n",
       "      <th>Qty</th>\n",
       "      <th>Year</th>\n",
       "      <th>Price_*_Age</th>\n",
       "      <th>Sales_Amount</th>\n",
       "    </tr>\n",
       "  </thead>\n",
       "  <tbody>\n",
       "    <tr>\n",
       "      <th>count</th>\n",
       "      <td>18819.000000</td>\n",
       "      <td>18819.000000</td>\n",
       "      <td>18819.000000</td>\n",
       "      <td>18819.000000</td>\n",
       "      <td>18819.000000</td>\n",
       "    </tr>\n",
       "    <tr>\n",
       "      <th>mean</th>\n",
       "      <td>31.074233</td>\n",
       "      <td>2.998778</td>\n",
       "      <td>2012.115309</td>\n",
       "      <td>24371.663053</td>\n",
       "      <td>2598.615483</td>\n",
       "    </tr>\n",
       "    <tr>\n",
       "      <th>std</th>\n",
       "      <td>6.652917</td>\n",
       "      <td>1.420493</td>\n",
       "      <td>0.893160</td>\n",
       "      <td>14195.543371</td>\n",
       "      <td>1958.367392</td>\n",
       "    </tr>\n",
       "    <tr>\n",
       "      <th>min</th>\n",
       "      <td>19.000000</td>\n",
       "      <td>1.000000</td>\n",
       "      <td>2011.000000</td>\n",
       "      <td>1463.000000</td>\n",
       "      <td>77.350000</td>\n",
       "    </tr>\n",
       "    <tr>\n",
       "      <th>25%</th>\n",
       "      <td>25.000000</td>\n",
       "      <td>2.000000</td>\n",
       "      <td>2011.000000</td>\n",
       "      <td>12672.000000</td>\n",
       "      <td>1025.440000</td>\n",
       "    </tr>\n",
       "    <tr>\n",
       "      <th>50%</th>\n",
       "      <td>31.000000</td>\n",
       "      <td>3.000000</td>\n",
       "      <td>2012.000000</td>\n",
       "      <td>23180.000000</td>\n",
       "      <td>2079.610000</td>\n",
       "    </tr>\n",
       "    <tr>\n",
       "      <th>75%</th>\n",
       "      <td>37.000000</td>\n",
       "      <td>4.000000</td>\n",
       "      <td>2013.000000</td>\n",
       "      <td>34400.000000</td>\n",
       "      <td>3805.620000</td>\n",
       "    </tr>\n",
       "    <tr>\n",
       "      <th>max</th>\n",
       "      <td>44.000000</td>\n",
       "      <td>5.000000</td>\n",
       "      <td>2014.000000</td>\n",
       "      <td>64242.000000</td>\n",
       "      <td>8287.500000</td>\n",
       "    </tr>\n",
       "  </tbody>\n",
       "</table>\n",
       "</div>"
      ],
      "text/plain": [
       "                Age           Qty          Year   Price_*_Age  Sales_Amount\n",
       "count  18819.000000  18819.000000  18819.000000  18819.000000  18819.000000\n",
       "mean      31.074233      2.998778   2012.115309  24371.663053   2598.615483\n",
       "std        6.652917      1.420493      0.893160  14195.543371   1958.367392\n",
       "min       19.000000      1.000000   2011.000000   1463.000000     77.350000\n",
       "25%       25.000000      2.000000   2011.000000  12672.000000   1025.440000\n",
       "50%       31.000000      3.000000   2012.000000  23180.000000   2079.610000\n",
       "75%       37.000000      4.000000   2013.000000  34400.000000   3805.620000\n",
       "max       44.000000      5.000000   2014.000000  64242.000000   8287.500000"
      ]
     },
     "execution_count": 27,
     "metadata": {},
     "output_type": "execute_result"
    }
   ],
   "source": [
    "transaction_customer.describe()"
   ]
  },
  {
   "cell_type": "code",
   "execution_count": 28,
   "metadata": {
    "colab": {
     "base_uri": "https://localhost:8080/"
    },
    "id": "jBHZlugWfCdu",
    "outputId": "a513f93d-66de-4e11-d1a6-8b23ae420173"
   },
   "outputs": [
    {
     "data": {
      "text/plain": [
       "Gender           True\n",
       "Age             False\n",
       "Category        False\n",
       "SubCategory     False\n",
       "Store_Type      False\n",
       "Qty             False\n",
       "Year            False\n",
       "Price_*_Age     False\n",
       "Sales_Amount    False\n",
       "dtype: bool"
      ]
     },
     "execution_count": 28,
     "metadata": {},
     "output_type": "execute_result"
    }
   ],
   "source": [
    "# Clean our data\n",
    "# Look for any missing values\n",
    "transaction_customer.isna().any()"
   ]
  },
  {
   "cell_type": "code",
   "execution_count": 29,
   "metadata": {
    "id": "E1jbg3a8fkqU"
   },
   "outputs": [],
   "source": [
    "# if have empty data\n",
    "transaction_customer = transaction_customer.dropna()"
   ]
  },
  {
   "cell_type": "code",
   "execution_count": 30,
   "metadata": {
    "id": "-ojd7DevCQAZ",
    "outputId": "bbfcc800-28a5-4b23-a148-2e64b51044d9"
   },
   "outputs": [
    {
     "data": {
      "text/plain": [
       "Gender          False\n",
       "Age             False\n",
       "Category        False\n",
       "SubCategory     False\n",
       "Store_Type      False\n",
       "Qty             False\n",
       "Year            False\n",
       "Price_*_Age     False\n",
       "Sales_Amount    False\n",
       "dtype: bool"
      ]
     },
     "execution_count": 30,
     "metadata": {},
     "output_type": "execute_result"
    }
   ],
   "source": [
    "# Look for any missing values\n",
    "transaction_customer.isna().any()"
   ]
  },
  {
   "cell_type": "code",
   "execution_count": 31,
   "metadata": {
    "colab": {
     "base_uri": "https://localhost:8080/"
    },
    "id": "CFdL0dSeK5kB",
    "outputId": "b2998b6f-8f8a-4148-c2ee-cde60e7b0e4a"
   },
   "outputs": [
    {
     "data": {
      "text/plain": [
       "Gender              2\n",
       "Age                26\n",
       "Category            6\n",
       "SubCategory        23\n",
       "Store_Type          4\n",
       "Qty                 5\n",
       "Year                4\n",
       "Price_*_Age     11335\n",
       "Sales_Amount     4147\n",
       "dtype: int64"
      ]
     },
     "execution_count": 31,
     "metadata": {},
     "output_type": "execute_result"
    }
   ],
   "source": [
    "# count number of items for each unique numerical feature\n",
    "transaction_customer.nunique()"
   ]
  },
  {
   "cell_type": "markdown",
   "metadata": {
    "id": "NWzYt0oyOKQi"
   },
   "source": [
    "###Visualisation"
   ]
  },
  {
   "cell_type": "code",
   "execution_count": 32,
   "metadata": {
    "colab": {
     "base_uri": "https://localhost:8080/",
     "height": 392
    },
    "id": "wOn733MlB6mY",
    "outputId": "5051ca56-bcc2-4540-c417-1d8cf789d02c"
   },
   "outputs": [
    {
     "data": {
      "text/plain": [
       "Text(0.5, 1.0, 'Gender')"
      ]
     },
     "execution_count": 32,
     "metadata": {},
     "output_type": "execute_result"
    },
    {
     "data": {
      "image/png": "[encoded data removed]",
      "text/plain": [
       "<Figure size 864x432 with 1 Axes>"
      ]
     },
     "metadata": {},
     "output_type": "display_data"
    }
   ],
   "source": [
    "plt.figure(figsize=[12,6])\n",
    "\n",
    "my_colors = ['seagreen','darkseagreen']\n",
    "transaction_customer['Gender'].value_counts(normalize=True).plot(kind='pie',labels=['Males','Females'],\n",
    "                                                           fontsize=15,autopct='%1.1f%%', colors=my_colors)\n",
    "plt.title('Gender',fontname='Times new roman',fontsize=14)"
   ]
  },
  {
   "cell_type": "code",
   "execution_count": 33,
   "metadata": {
    "colab": {
     "base_uri": "https://localhost:8080/",
     "height": 1000
    },
    "id": "hnEKqZaArwax",
    "outputId": "c4e55602-9785-4377-8e6c-5d89be4b3a32",
    "scrolled": false
   },
   "outputs": [
    {
     "data": {
      "image/png": "[encoded data removed]",
      "text/plain": [
       "<Figure size 864x720 with 2 Axes>"
      ]
     },
     "metadata": {},
     "output_type": "display_data"
    }
   ],
   "source": [
    "# correlation matrix heatmap visualization\n",
    "sns.set(style=\"white\")\n",
    "\n",
    "# Generate a mask for the upper triangle\n",
    "matrix = np.triu(transaction_customer.corr())\n",
    "\n",
    "# Set up the matplotlib figure to control size of heatmap\n",
    "fig, ax = plt.subplots(figsize=(12,10))\n",
    "\n",
    "# Plot the heatmap\n",
    "_ = sns.heatmap(transaction_customer.corr(), mask=matrix, annot=True, annot_kws={\"size\": 12}, square=True, \n",
    "                cmap='coolwarm' , vmin=-1, vmax=1, fmt='.2f')  # annot=True display corr label\n",
    "\n",
    "# _ = sns.heatmap(transaction.corr(), annot=True, annot_kws={\"size\": 12}, square=True, \n",
    "#                 cmap='coolwarm' , vmin=-1, vmax=1, fmt='.2f')\n",
    "\n",
    "# Prevent Heatmap Cut-Off Issue\n",
    "# bottom, top = ax.get_ylim()\n",
    "# ax.set_ylim(bottom+0.5, top-0.5)"
   ]
  },
  {
   "cell_type": "markdown",
   "metadata": {
    "id": "bpUSljIRyWyo"
   },
   "source": [
    "#Defining the data"
   ]
  },
  {
   "cell_type": "code",
   "execution_count": 34,
   "metadata": {
    "colab": {
     "base_uri": "https://localhost:8080/",
     "height": 202
    },
    "id": "oswl6nV2xYaC",
    "outputId": "97222fad-a4e6-40fd-ce89-886ff0e733b6"
   },
   "outputs": [
    {
     "data": {
      "text/html": [
       "<div>\n",
       "<style scoped>\n",
       "    .dataframe tbody tr th:only-of-type {\n",
       "        vertical-align: middle;\n",
       "    }\n",
       "\n",
       "    .dataframe tbody tr th {\n",
       "        vertical-align: top;\n",
       "    }\n",
       "\n",
       "    .dataframe thead th {\n",
       "        text-align: right;\n",
       "    }\n",
       "</style>\n",
       "<table border=\"1\" class=\"dataframe\">\n",
       "  <thead>\n",
       "    <tr style=\"text-align: right;\">\n",
       "      <th></th>\n",
       "      <th>Gender</th>\n",
       "      <th>Age</th>\n",
       "      <th>Category</th>\n",
       "      <th>SubCategory</th>\n",
       "      <th>Store_Type</th>\n",
       "      <th>Qty</th>\n",
       "      <th>Year</th>\n",
       "      <th>Price_*_Age</th>\n",
       "      <th>Sales_Amount</th>\n",
       "    </tr>\n",
       "  </thead>\n",
       "  <tbody>\n",
       "    <tr>\n",
       "      <th>0</th>\n",
       "      <td>M</td>\n",
       "      <td>39</td>\n",
       "      <td>Books</td>\n",
       "      <td>Non-Fiction</td>\n",
       "      <td>e-Shop</td>\n",
       "      <td>2</td>\n",
       "      <td>2013</td>\n",
       "      <td>32565.0</td>\n",
       "      <td>1845.35</td>\n",
       "    </tr>\n",
       "    <tr>\n",
       "      <th>1</th>\n",
       "      <td>M</td>\n",
       "      <td>39</td>\n",
       "      <td>Clothing</td>\n",
       "      <td>Men's Clothing</td>\n",
       "      <td>e-Shop</td>\n",
       "      <td>1</td>\n",
       "      <td>2013</td>\n",
       "      <td>33891.0</td>\n",
       "      <td>960.25</td>\n",
       "    </tr>\n",
       "    <tr>\n",
       "      <th>2</th>\n",
       "      <td>M</td>\n",
       "      <td>38</td>\n",
       "      <td>Clothing</td>\n",
       "      <td>Men's Clothing</td>\n",
       "      <td>TeleShop</td>\n",
       "      <td>3</td>\n",
       "      <td>2012</td>\n",
       "      <td>3534.0</td>\n",
       "      <td>308.30</td>\n",
       "    </tr>\n",
       "    <tr>\n",
       "      <th>3</th>\n",
       "      <td>F</td>\n",
       "      <td>21</td>\n",
       "      <td>Books</td>\n",
       "      <td>Fiction</td>\n",
       "      <td>e-Shop</td>\n",
       "      <td>5</td>\n",
       "      <td>2012</td>\n",
       "      <td>3696.0</td>\n",
       "      <td>972.40</td>\n",
       "    </tr>\n",
       "    <tr>\n",
       "      <th>4</th>\n",
       "      <td>F</td>\n",
       "      <td>21</td>\n",
       "      <td>Electronics</td>\n",
       "      <td>Mobiles</td>\n",
       "      <td>Flagship store</td>\n",
       "      <td>2</td>\n",
       "      <td>2012</td>\n",
       "      <td>4200.0</td>\n",
       "      <td>442.00</td>\n",
       "    </tr>\n",
       "  </tbody>\n",
       "</table>\n",
       "</div>"
      ],
      "text/plain": [
       "  Gender  Age     Category     SubCategory      Store_Type  Qty  Year  \\\n",
       "0      M   39        Books     Non-Fiction          e-Shop    2  2013   \n",
       "1      M   39     Clothing  Men's Clothing          e-Shop    1  2013   \n",
       "2      M   38     Clothing  Men's Clothing        TeleShop    3  2012   \n",
       "3      F   21        Books         Fiction          e-Shop    5  2012   \n",
       "4      F   21  Electronics         Mobiles  Flagship store    2  2012   \n",
       "\n",
       "   Price_*_Age  Sales_Amount  \n",
       "0      32565.0       1845.35  \n",
       "1      33891.0        960.25  \n",
       "2       3534.0        308.30  \n",
       "3       3696.0        972.40  \n",
       "4       4200.0        442.00  "
      ]
     },
     "execution_count": 34,
     "metadata": {},
     "output_type": "execute_result"
    }
   ],
   "source": [
    "transaction_customer.head()"
   ]
  },
  {
   "cell_type": "code",
   "execution_count": 35,
   "metadata": {
    "id": "3KwINbY27ZLw",
    "outputId": "02f34026-f9bb-4f43-9d8d-c84c3814d2ec"
   },
   "outputs": [
    {
     "data": {
      "image/png": "[encoded data removed]",
      "text/plain": [
       "<Figure size 432x432 with 3 Axes>"
      ]
     },
     "metadata": {},
     "output_type": "display_data"
    }
   ],
   "source": [
    "_ = sns.jointplot(x=\"Qty\", y=\"Sales_Amount\", data=transaction_customer, kind=\"reg\")"
   ]
  },
  {
   "cell_type": "markdown",
   "metadata": {
    "id": "6g8Qo_COE1Bu"
   },
   "source": [
    "#####Nominal Data"
   ]
  },
  {
   "cell_type": "code",
   "execution_count": 36,
   "metadata": {
    "id": "CVIkln73KSWq"
   },
   "outputs": [],
   "source": [
    "# Encoding the data - Before training the model, we need to make sure the data is in a form that the model can understand\n",
    "# Use Label Encoder for all features with 2 classes\n",
    "#le = LabelEncoder()\n",
    "#for x in [i for i in transaction_customer.columns if len(transaction_customer[i].unique())==2]:\n",
    "    #print(x, transaction_customer[x].unique())\n",
    "    #transaction_customer[x]= le.fit_transform(transaction_customer[x])"
   ]
  },
  {
   "cell_type": "code",
   "execution_count": 37,
   "metadata": {
    "id": "zTdnp9bvraXE"
   },
   "outputs": [],
   "source": [
    "# Create dummy variables\n",
    "dummy_Category = pd.get_dummies(transaction_customer['Category'], prefix='Category')\n",
    "dummy_SubCategory = pd.get_dummies(transaction_customer['SubCategory'], prefix='SubCategory')\n",
    "dummy_Store_Type = pd.get_dummies(transaction_customer['Store_Type'], prefix='Store_Type')\n",
    "\n",
    "to_drop = ['Category', 'SubCategory', 'Store_Type']\n",
    "transaction_customer.drop(to_drop, axis=1, inplace=True)"
   ]
  },
  {
   "cell_type": "code",
   "execution_count": 38,
   "metadata": {
    "id": "UCSCmx8DCQAf"
   },
   "outputs": [],
   "source": [
    "# Remap to integers\n",
    "transaction_customer['Gender'] = [0 if x == 'M' else 1 for x in transaction_customer['Gender']]"
   ]
  },
  {
   "cell_type": "code",
   "execution_count": 39,
   "metadata": {
    "id": "UuxpRk4LJvGu"
   },
   "outputs": [],
   "source": [
    "# Merge into a single data frame\n",
    "transaction_customer = pd.concat([dummy_Category, dummy_SubCategory, dummy_Store_Type, transaction_customer], axis=1) "
   ]
  },
  {
   "cell_type": "code",
   "execution_count": 40,
   "metadata": {
    "colab": {
     "base_uri": "https://localhost:8080/",
     "height": 436
    },
    "id": "VkhslkO72tlh",
    "outputId": "5c1202a6-1421-4ce3-f2c4-c9f6ae606011"
   },
   "outputs": [
    {
     "data": {
      "text/html": [
       "<div>\n",
       "<style scoped>\n",
       "    .dataframe tbody tr th:only-of-type {\n",
       "        vertical-align: middle;\n",
       "    }\n",
       "\n",
       "    .dataframe tbody tr th {\n",
       "        vertical-align: top;\n",
       "    }\n",
       "\n",
       "    .dataframe thead th {\n",
       "        text-align: right;\n",
       "    }\n",
       "</style>\n",
       "<table border=\"1\" class=\"dataframe\">\n",
       "  <thead>\n",
       "    <tr style=\"text-align: right;\">\n",
       "      <th></th>\n",
       "      <th>Category_Bags</th>\n",
       "      <th>Category_Books</th>\n",
       "      <th>Category_Clothing</th>\n",
       "      <th>Category_Electronics</th>\n",
       "      <th>Category_Footwear</th>\n",
       "      <th>Category_Home and Kitchen</th>\n",
       "      <th>SubCategory_Academic</th>\n",
       "      <th>SubCategory_Audio and Video</th>\n",
       "      <th>SubCategory_Bath</th>\n",
       "      <th>SubCategory_Cameras</th>\n",
       "      <th>...</th>\n",
       "      <th>Store_Type_Flagship store</th>\n",
       "      <th>Store_Type_MBR</th>\n",
       "      <th>Store_Type_TeleShop</th>\n",
       "      <th>Store_Type_e-Shop</th>\n",
       "      <th>Gender</th>\n",
       "      <th>Age</th>\n",
       "      <th>Qty</th>\n",
       "      <th>Year</th>\n",
       "      <th>Price_*_Age</th>\n",
       "      <th>Sales_Amount</th>\n",
       "    </tr>\n",
       "  </thead>\n",
       "  <tbody>\n",
       "    <tr>\n",
       "      <th>0</th>\n",
       "      <td>0</td>\n",
       "      <td>1</td>\n",
       "      <td>0</td>\n",
       "      <td>0</td>\n",
       "      <td>0</td>\n",
       "      <td>0</td>\n",
       "      <td>0</td>\n",
       "      <td>0</td>\n",
       "      <td>0</td>\n",
       "      <td>0</td>\n",
       "      <td>...</td>\n",
       "      <td>0</td>\n",
       "      <td>0</td>\n",
       "      <td>0</td>\n",
       "      <td>1</td>\n",
       "      <td>0</td>\n",
       "      <td>39</td>\n",
       "      <td>2</td>\n",
       "      <td>2013</td>\n",
       "      <td>32565.0</td>\n",
       "      <td>1845.35</td>\n",
       "    </tr>\n",
       "    <tr>\n",
       "      <th>1</th>\n",
       "      <td>0</td>\n",
       "      <td>0</td>\n",
       "      <td>1</td>\n",
       "      <td>0</td>\n",
       "      <td>0</td>\n",
       "      <td>0</td>\n",
       "      <td>0</td>\n",
       "      <td>0</td>\n",
       "      <td>0</td>\n",
       "      <td>0</td>\n",
       "      <td>...</td>\n",
       "      <td>0</td>\n",
       "      <td>0</td>\n",
       "      <td>0</td>\n",
       "      <td>1</td>\n",
       "      <td>0</td>\n",
       "      <td>39</td>\n",
       "      <td>1</td>\n",
       "      <td>2013</td>\n",
       "      <td>33891.0</td>\n",
       "      <td>960.25</td>\n",
       "    </tr>\n",
       "    <tr>\n",
       "      <th>2</th>\n",
       "      <td>0</td>\n",
       "      <td>0</td>\n",
       "      <td>1</td>\n",
       "      <td>0</td>\n",
       "      <td>0</td>\n",
       "      <td>0</td>\n",
       "      <td>0</td>\n",
       "      <td>0</td>\n",
       "      <td>0</td>\n",
       "      <td>0</td>\n",
       "      <td>...</td>\n",
       "      <td>0</td>\n",
       "      <td>0</td>\n",
       "      <td>1</td>\n",
       "      <td>0</td>\n",
       "      <td>0</td>\n",
       "      <td>38</td>\n",
       "      <td>3</td>\n",
       "      <td>2012</td>\n",
       "      <td>3534.0</td>\n",
       "      <td>308.30</td>\n",
       "    </tr>\n",
       "    <tr>\n",
       "      <th>3</th>\n",
       "      <td>0</td>\n",
       "      <td>1</td>\n",
       "      <td>0</td>\n",
       "      <td>0</td>\n",
       "      <td>0</td>\n",
       "      <td>0</td>\n",
       "      <td>0</td>\n",
       "      <td>0</td>\n",
       "      <td>0</td>\n",
       "      <td>0</td>\n",
       "      <td>...</td>\n",
       "      <td>0</td>\n",
       "      <td>0</td>\n",
       "      <td>0</td>\n",
       "      <td>1</td>\n",
       "      <td>1</td>\n",
       "      <td>21</td>\n",
       "      <td>5</td>\n",
       "      <td>2012</td>\n",
       "      <td>3696.0</td>\n",
       "      <td>972.40</td>\n",
       "    </tr>\n",
       "    <tr>\n",
       "      <th>4</th>\n",
       "      <td>0</td>\n",
       "      <td>0</td>\n",
       "      <td>0</td>\n",
       "      <td>1</td>\n",
       "      <td>0</td>\n",
       "      <td>0</td>\n",
       "      <td>0</td>\n",
       "      <td>0</td>\n",
       "      <td>0</td>\n",
       "      <td>0</td>\n",
       "      <td>...</td>\n",
       "      <td>1</td>\n",
       "      <td>0</td>\n",
       "      <td>0</td>\n",
       "      <td>0</td>\n",
       "      <td>1</td>\n",
       "      <td>21</td>\n",
       "      <td>2</td>\n",
       "      <td>2012</td>\n",
       "      <td>4200.0</td>\n",
       "      <td>442.00</td>\n",
       "    </tr>\n",
       "    <tr>\n",
       "      <th>...</th>\n",
       "      <td>...</td>\n",
       "      <td>...</td>\n",
       "      <td>...</td>\n",
       "      <td>...</td>\n",
       "      <td>...</td>\n",
       "      <td>...</td>\n",
       "      <td>...</td>\n",
       "      <td>...</td>\n",
       "      <td>...</td>\n",
       "      <td>...</td>\n",
       "      <td>...</td>\n",
       "      <td>...</td>\n",
       "      <td>...</td>\n",
       "      <td>...</td>\n",
       "      <td>...</td>\n",
       "      <td>...</td>\n",
       "      <td>...</td>\n",
       "      <td>...</td>\n",
       "      <td>...</td>\n",
       "      <td>...</td>\n",
       "      <td>...</td>\n",
       "    </tr>\n",
       "    <tr>\n",
       "      <th>18814</th>\n",
       "      <td>0</td>\n",
       "      <td>0</td>\n",
       "      <td>0</td>\n",
       "      <td>0</td>\n",
       "      <td>0</td>\n",
       "      <td>1</td>\n",
       "      <td>0</td>\n",
       "      <td>0</td>\n",
       "      <td>0</td>\n",
       "      <td>0</td>\n",
       "      <td>...</td>\n",
       "      <td>0</td>\n",
       "      <td>0</td>\n",
       "      <td>0</td>\n",
       "      <td>1</td>\n",
       "      <td>0</td>\n",
       "      <td>20</td>\n",
       "      <td>4</td>\n",
       "      <td>2011</td>\n",
       "      <td>11740.0</td>\n",
       "      <td>2594.54</td>\n",
       "    </tr>\n",
       "    <tr>\n",
       "      <th>18815</th>\n",
       "      <td>0</td>\n",
       "      <td>1</td>\n",
       "      <td>0</td>\n",
       "      <td>0</td>\n",
       "      <td>0</td>\n",
       "      <td>0</td>\n",
       "      <td>0</td>\n",
       "      <td>0</td>\n",
       "      <td>0</td>\n",
       "      <td>0</td>\n",
       "      <td>...</td>\n",
       "      <td>0</td>\n",
       "      <td>0</td>\n",
       "      <td>1</td>\n",
       "      <td>0</td>\n",
       "      <td>0</td>\n",
       "      <td>20</td>\n",
       "      <td>5</td>\n",
       "      <td>2011</td>\n",
       "      <td>4420.0</td>\n",
       "      <td>1221.03</td>\n",
       "    </tr>\n",
       "    <tr>\n",
       "      <th>18816</th>\n",
       "      <td>0</td>\n",
       "      <td>0</td>\n",
       "      <td>0</td>\n",
       "      <td>0</td>\n",
       "      <td>0</td>\n",
       "      <td>1</td>\n",
       "      <td>0</td>\n",
       "      <td>0</td>\n",
       "      <td>0</td>\n",
       "      <td>0</td>\n",
       "      <td>...</td>\n",
       "      <td>1</td>\n",
       "      <td>0</td>\n",
       "      <td>0</td>\n",
       "      <td>0</td>\n",
       "      <td>0</td>\n",
       "      <td>23</td>\n",
       "      <td>3</td>\n",
       "      <td>2013</td>\n",
       "      <td>16537.0</td>\n",
       "      <td>2383.49</td>\n",
       "    </tr>\n",
       "    <tr>\n",
       "      <th>18817</th>\n",
       "      <td>0</td>\n",
       "      <td>1</td>\n",
       "      <td>0</td>\n",
       "      <td>0</td>\n",
       "      <td>0</td>\n",
       "      <td>0</td>\n",
       "      <td>1</td>\n",
       "      <td>0</td>\n",
       "      <td>0</td>\n",
       "      <td>0</td>\n",
       "      <td>...</td>\n",
       "      <td>0</td>\n",
       "      <td>0</td>\n",
       "      <td>0</td>\n",
       "      <td>1</td>\n",
       "      <td>0</td>\n",
       "      <td>21</td>\n",
       "      <td>3</td>\n",
       "      <td>2011</td>\n",
       "      <td>3948.0</td>\n",
       "      <td>623.22</td>\n",
       "    </tr>\n",
       "    <tr>\n",
       "      <th>18818</th>\n",
       "      <td>1</td>\n",
       "      <td>0</td>\n",
       "      <td>0</td>\n",
       "      <td>0</td>\n",
       "      <td>0</td>\n",
       "      <td>0</td>\n",
       "      <td>0</td>\n",
       "      <td>0</td>\n",
       "      <td>0</td>\n",
       "      <td>0</td>\n",
       "      <td>...</td>\n",
       "      <td>0</td>\n",
       "      <td>0</td>\n",
       "      <td>1</td>\n",
       "      <td>0</td>\n",
       "      <td>0</td>\n",
       "      <td>21</td>\n",
       "      <td>1</td>\n",
       "      <td>2011</td>\n",
       "      <td>4662.0</td>\n",
       "      <td>245.31</td>\n",
       "    </tr>\n",
       "  </tbody>\n",
       "</table>\n",
       "<p>18812 rows × 39 columns</p>\n",
       "</div>"
      ],
      "text/plain": [
       "       Category_Bags  Category_Books  Category_Clothing  Category_Electronics  \\\n",
       "0                  0               1                  0                     0   \n",
       "1                  0               0                  1                     0   \n",
       "2                  0               0                  1                     0   \n",
       "3                  0               1                  0                     0   \n",
       "4                  0               0                  0                     1   \n",
       "...              ...             ...                ...                   ...   \n",
       "18814              0               0                  0                     0   \n",
       "18815              0               1                  0                     0   \n",
       "18816              0               0                  0                     0   \n",
       "18817              0               1                  0                     0   \n",
       "18818              1               0                  0                     0   \n",
       "\n",
       "       Category_Footwear  Category_Home and Kitchen  SubCategory_Academic  \\\n",
       "0                      0                          0                     0   \n",
       "1                      0                          0                     0   \n",
       "2                      0                          0                     0   \n",
       "3                      0                          0                     0   \n",
       "4                      0                          0                     0   \n",
       "...                  ...                        ...                   ...   \n",
       "18814                  0                          1                     0   \n",
       "18815                  0                          0                     0   \n",
       "18816                  0                          1                     0   \n",
       "18817                  0                          0                     1   \n",
       "18818                  0                          0                     0   \n",
       "\n",
       "       SubCategory_Audio and Video  SubCategory_Bath  SubCategory_Cameras  \\\n",
       "0                                0                 0                    0   \n",
       "1                                0                 0                    0   \n",
       "2                                0                 0                    0   \n",
       "3                                0                 0                    0   \n",
       "4                                0                 0                    0   \n",
       "...                            ...               ...                  ...   \n",
       "18814                            0                 0                    0   \n",
       "18815                            0                 0                    0   \n",
       "18816                            0                 0                    0   \n",
       "18817                            0                 0                    0   \n",
       "18818                            0                 0                    0   \n",
       "\n",
       "       ...  Store_Type_Flagship store  Store_Type_MBR  Store_Type_TeleShop  \\\n",
       "0      ...                          0               0                    0   \n",
       "1      ...                          0               0                    0   \n",
       "2      ...                          0               0                    1   \n",
       "3      ...                          0               0                    0   \n",
       "4      ...                          1               0                    0   \n",
       "...    ...                        ...             ...                  ...   \n",
       "18814  ...                          0               0                    0   \n",
       "18815  ...                          0               0                    1   \n",
       "18816  ...                          1               0                    0   \n",
       "18817  ...                          0               0                    0   \n",
       "18818  ...                          0               0                    1   \n",
       "\n",
       "       Store_Type_e-Shop  Gender  Age  Qty  Year  Price_*_Age  Sales_Amount  \n",
       "0                      1       0   39    2  2013      32565.0       1845.35  \n",
       "1                      1       0   39    1  2013      33891.0        960.25  \n",
       "2                      0       0   38    3  2012       3534.0        308.30  \n",
       "3                      1       1   21    5  2012       3696.0        972.40  \n",
       "4                      0       1   21    2  2012       4200.0        442.00  \n",
       "...                  ...     ...  ...  ...   ...          ...           ...  \n",
       "18814                  1       0   20    4  2011      11740.0       2594.54  \n",
       "18815                  0       0   20    5  2011       4420.0       1221.03  \n",
       "18816                  0       0   23    3  2013      16537.0       2383.49  \n",
       "18817                  1       0   21    3  2011       3948.0        623.22  \n",
       "18818                  0       0   21    1  2011       4662.0        245.31  \n",
       "\n",
       "[18812 rows x 39 columns]"
      ]
     },
     "execution_count": 40,
     "metadata": {},
     "output_type": "execute_result"
    }
   ],
   "source": [
    "transaction_customer"
   ]
  },
  {
   "cell_type": "code",
   "execution_count": 41,
   "metadata": {
    "id": "TpV_lejgCQAh",
    "outputId": "0ed1b2ae-398c-4a6a-8e3d-c7d22851fc0b"
   },
   "outputs": [
    {
     "data": {
      "text/html": [
       "<div>\n",
       "<style scoped>\n",
       "    .dataframe tbody tr th:only-of-type {\n",
       "        vertical-align: middle;\n",
       "    }\n",
       "\n",
       "    .dataframe tbody tr th {\n",
       "        vertical-align: top;\n",
       "    }\n",
       "\n",
       "    .dataframe thead th {\n",
       "        text-align: right;\n",
       "    }\n",
       "</style>\n",
       "<table border=\"1\" class=\"dataframe\">\n",
       "  <thead>\n",
       "    <tr style=\"text-align: right;\">\n",
       "      <th></th>\n",
       "      <th>Category_Bags</th>\n",
       "      <th>Category_Books</th>\n",
       "      <th>Category_Clothing</th>\n",
       "      <th>Category_Electronics</th>\n",
       "      <th>Category_Footwear</th>\n",
       "      <th>Category_Home and Kitchen</th>\n",
       "      <th>SubCategory_Academic</th>\n",
       "      <th>SubCategory_Audio and Video</th>\n",
       "      <th>SubCategory_Bath</th>\n",
       "      <th>SubCategory_Cameras</th>\n",
       "      <th>...</th>\n",
       "      <th>SubCategory_Women's Footwear</th>\n",
       "      <th>Store_Type_Flagship store</th>\n",
       "      <th>Store_Type_MBR</th>\n",
       "      <th>Store_Type_TeleShop</th>\n",
       "      <th>Store_Type_e-Shop</th>\n",
       "      <th>Gender</th>\n",
       "      <th>Age</th>\n",
       "      <th>Qty</th>\n",
       "      <th>Year</th>\n",
       "      <th>Price_*_Age</th>\n",
       "    </tr>\n",
       "    <tr>\n",
       "      <th>Sales_Amount</th>\n",
       "      <th></th>\n",
       "      <th></th>\n",
       "      <th></th>\n",
       "      <th></th>\n",
       "      <th></th>\n",
       "      <th></th>\n",
       "      <th></th>\n",
       "      <th></th>\n",
       "      <th></th>\n",
       "      <th></th>\n",
       "      <th></th>\n",
       "      <th></th>\n",
       "      <th></th>\n",
       "      <th></th>\n",
       "      <th></th>\n",
       "      <th></th>\n",
       "      <th></th>\n",
       "      <th></th>\n",
       "      <th></th>\n",
       "      <th></th>\n",
       "      <th></th>\n",
       "    </tr>\n",
       "  </thead>\n",
       "  <tbody>\n",
       "    <tr>\n",
       "      <th>8287.50</th>\n",
       "      <td>4</td>\n",
       "      <td>4</td>\n",
       "      <td>4</td>\n",
       "      <td>4</td>\n",
       "      <td>4</td>\n",
       "      <td>4</td>\n",
       "      <td>4</td>\n",
       "      <td>4</td>\n",
       "      <td>4</td>\n",
       "      <td>4</td>\n",
       "      <td>...</td>\n",
       "      <td>4</td>\n",
       "      <td>4</td>\n",
       "      <td>4</td>\n",
       "      <td>4</td>\n",
       "      <td>4</td>\n",
       "      <td>4</td>\n",
       "      <td>4</td>\n",
       "      <td>4</td>\n",
       "      <td>4</td>\n",
       "      <td>4</td>\n",
       "    </tr>\n",
       "    <tr>\n",
       "      <th>8281.98</th>\n",
       "      <td>5</td>\n",
       "      <td>5</td>\n",
       "      <td>5</td>\n",
       "      <td>5</td>\n",
       "      <td>5</td>\n",
       "      <td>5</td>\n",
       "      <td>5</td>\n",
       "      <td>5</td>\n",
       "      <td>5</td>\n",
       "      <td>5</td>\n",
       "      <td>...</td>\n",
       "      <td>5</td>\n",
       "      <td>5</td>\n",
       "      <td>5</td>\n",
       "      <td>5</td>\n",
       "      <td>5</td>\n",
       "      <td>5</td>\n",
       "      <td>5</td>\n",
       "      <td>5</td>\n",
       "      <td>5</td>\n",
       "      <td>5</td>\n",
       "    </tr>\n",
       "    <tr>\n",
       "      <th>8276.45</th>\n",
       "      <td>3</td>\n",
       "      <td>3</td>\n",
       "      <td>3</td>\n",
       "      <td>3</td>\n",
       "      <td>3</td>\n",
       "      <td>3</td>\n",
       "      <td>3</td>\n",
       "      <td>3</td>\n",
       "      <td>3</td>\n",
       "      <td>3</td>\n",
       "      <td>...</td>\n",
       "      <td>3</td>\n",
       "      <td>3</td>\n",
       "      <td>3</td>\n",
       "      <td>3</td>\n",
       "      <td>3</td>\n",
       "      <td>3</td>\n",
       "      <td>3</td>\n",
       "      <td>3</td>\n",
       "      <td>3</td>\n",
       "      <td>3</td>\n",
       "    </tr>\n",
       "    <tr>\n",
       "      <th>8270.93</th>\n",
       "      <td>2</td>\n",
       "      <td>2</td>\n",
       "      <td>2</td>\n",
       "      <td>2</td>\n",
       "      <td>2</td>\n",
       "      <td>2</td>\n",
       "      <td>2</td>\n",
       "      <td>2</td>\n",
       "      <td>2</td>\n",
       "      <td>2</td>\n",
       "      <td>...</td>\n",
       "      <td>2</td>\n",
       "      <td>2</td>\n",
       "      <td>2</td>\n",
       "      <td>2</td>\n",
       "      <td>2</td>\n",
       "      <td>2</td>\n",
       "      <td>2</td>\n",
       "      <td>2</td>\n",
       "      <td>2</td>\n",
       "      <td>2</td>\n",
       "    </tr>\n",
       "    <tr>\n",
       "      <th>8265.40</th>\n",
       "      <td>9</td>\n",
       "      <td>9</td>\n",
       "      <td>9</td>\n",
       "      <td>9</td>\n",
       "      <td>9</td>\n",
       "      <td>9</td>\n",
       "      <td>9</td>\n",
       "      <td>9</td>\n",
       "      <td>9</td>\n",
       "      <td>9</td>\n",
       "      <td>...</td>\n",
       "      <td>9</td>\n",
       "      <td>9</td>\n",
       "      <td>9</td>\n",
       "      <td>9</td>\n",
       "      <td>9</td>\n",
       "      <td>9</td>\n",
       "      <td>9</td>\n",
       "      <td>9</td>\n",
       "      <td>9</td>\n",
       "      <td>9</td>\n",
       "    </tr>\n",
       "    <tr>\n",
       "      <th>8259.88</th>\n",
       "      <td>1</td>\n",
       "      <td>1</td>\n",
       "      <td>1</td>\n",
       "      <td>1</td>\n",
       "      <td>1</td>\n",
       "      <td>1</td>\n",
       "      <td>1</td>\n",
       "      <td>1</td>\n",
       "      <td>1</td>\n",
       "      <td>1</td>\n",
       "      <td>...</td>\n",
       "      <td>1</td>\n",
       "      <td>1</td>\n",
       "      <td>1</td>\n",
       "      <td>1</td>\n",
       "      <td>1</td>\n",
       "      <td>1</td>\n",
       "      <td>1</td>\n",
       "      <td>1</td>\n",
       "      <td>1</td>\n",
       "      <td>1</td>\n",
       "    </tr>\n",
       "    <tr>\n",
       "      <th>8254.35</th>\n",
       "      <td>2</td>\n",
       "      <td>2</td>\n",
       "      <td>2</td>\n",
       "      <td>2</td>\n",
       "      <td>2</td>\n",
       "      <td>2</td>\n",
       "      <td>2</td>\n",
       "      <td>2</td>\n",
       "      <td>2</td>\n",
       "      <td>2</td>\n",
       "      <td>...</td>\n",
       "      <td>2</td>\n",
       "      <td>2</td>\n",
       "      <td>2</td>\n",
       "      <td>2</td>\n",
       "      <td>2</td>\n",
       "      <td>2</td>\n",
       "      <td>2</td>\n",
       "      <td>2</td>\n",
       "      <td>2</td>\n",
       "      <td>2</td>\n",
       "    </tr>\n",
       "    <tr>\n",
       "      <th>8248.83</th>\n",
       "      <td>4</td>\n",
       "      <td>4</td>\n",
       "      <td>4</td>\n",
       "      <td>4</td>\n",
       "      <td>4</td>\n",
       "      <td>4</td>\n",
       "      <td>4</td>\n",
       "      <td>4</td>\n",
       "      <td>4</td>\n",
       "      <td>4</td>\n",
       "      <td>...</td>\n",
       "      <td>4</td>\n",
       "      <td>4</td>\n",
       "      <td>4</td>\n",
       "      <td>4</td>\n",
       "      <td>4</td>\n",
       "      <td>4</td>\n",
       "      <td>4</td>\n",
       "      <td>4</td>\n",
       "      <td>4</td>\n",
       "      <td>4</td>\n",
       "    </tr>\n",
       "    <tr>\n",
       "      <th>8243.30</th>\n",
       "      <td>5</td>\n",
       "      <td>5</td>\n",
       "      <td>5</td>\n",
       "      <td>5</td>\n",
       "      <td>5</td>\n",
       "      <td>5</td>\n",
       "      <td>5</td>\n",
       "      <td>5</td>\n",
       "      <td>5</td>\n",
       "      <td>5</td>\n",
       "      <td>...</td>\n",
       "      <td>5</td>\n",
       "      <td>5</td>\n",
       "      <td>5</td>\n",
       "      <td>5</td>\n",
       "      <td>5</td>\n",
       "      <td>5</td>\n",
       "      <td>5</td>\n",
       "      <td>5</td>\n",
       "      <td>5</td>\n",
       "      <td>5</td>\n",
       "    </tr>\n",
       "    <tr>\n",
       "      <th>8237.78</th>\n",
       "      <td>2</td>\n",
       "      <td>2</td>\n",
       "      <td>2</td>\n",
       "      <td>2</td>\n",
       "      <td>2</td>\n",
       "      <td>2</td>\n",
       "      <td>2</td>\n",
       "      <td>2</td>\n",
       "      <td>2</td>\n",
       "      <td>2</td>\n",
       "      <td>...</td>\n",
       "      <td>2</td>\n",
       "      <td>2</td>\n",
       "      <td>2</td>\n",
       "      <td>2</td>\n",
       "      <td>2</td>\n",
       "      <td>2</td>\n",
       "      <td>2</td>\n",
       "      <td>2</td>\n",
       "      <td>2</td>\n",
       "      <td>2</td>\n",
       "    </tr>\n",
       "  </tbody>\n",
       "</table>\n",
       "<p>10 rows × 38 columns</p>\n",
       "</div>"
      ],
      "text/plain": [
       "              Category_Bags  Category_Books  Category_Clothing  \\\n",
       "Sales_Amount                                                     \n",
       "8287.50                   4               4                  4   \n",
       "8281.98                   5               5                  5   \n",
       "8276.45                   3               3                  3   \n",
       "8270.93                   2               2                  2   \n",
       "8265.40                   9               9                  9   \n",
       "8259.88                   1               1                  1   \n",
       "8254.35                   2               2                  2   \n",
       "8248.83                   4               4                  4   \n",
       "8243.30                   5               5                  5   \n",
       "8237.78                   2               2                  2   \n",
       "\n",
       "              Category_Electronics  Category_Footwear  \\\n",
       "Sales_Amount                                            \n",
       "8287.50                          4                  4   \n",
       "8281.98                          5                  5   \n",
       "8276.45                          3                  3   \n",
       "8270.93                          2                  2   \n",
       "8265.40                          9                  9   \n",
       "8259.88                          1                  1   \n",
       "8254.35                          2                  2   \n",
       "8248.83                          4                  4   \n",
       "8243.30                          5                  5   \n",
       "8237.78                          2                  2   \n",
       "\n",
       "              Category_Home and Kitchen  SubCategory_Academic  \\\n",
       "Sales_Amount                                                    \n",
       "8287.50                               4                     4   \n",
       "8281.98                               5                     5   \n",
       "8276.45                               3                     3   \n",
       "8270.93                               2                     2   \n",
       "8265.40                               9                     9   \n",
       "8259.88                               1                     1   \n",
       "8254.35                               2                     2   \n",
       "8248.83                               4                     4   \n",
       "8243.30                               5                     5   \n",
       "8237.78                               2                     2   \n",
       "\n",
       "              SubCategory_Audio and Video  SubCategory_Bath  \\\n",
       "Sales_Amount                                                  \n",
       "8287.50                                 4                 4   \n",
       "8281.98                                 5                 5   \n",
       "8276.45                                 3                 3   \n",
       "8270.93                                 2                 2   \n",
       "8265.40                                 9                 9   \n",
       "8259.88                                 1                 1   \n",
       "8254.35                                 2                 2   \n",
       "8248.83                                 4                 4   \n",
       "8243.30                                 5                 5   \n",
       "8237.78                                 2                 2   \n",
       "\n",
       "              SubCategory_Cameras  ...  SubCategory_Women's Footwear  \\\n",
       "Sales_Amount                       ...                                 \n",
       "8287.50                         4  ...                             4   \n",
       "8281.98                         5  ...                             5   \n",
       "8276.45                         3  ...                             3   \n",
       "8270.93                         2  ...                             2   \n",
       "8265.40                         9  ...                             9   \n",
       "8259.88                         1  ...                             1   \n",
       "8254.35                         2  ...                             2   \n",
       "8248.83                         4  ...                             4   \n",
       "8243.30                         5  ...                             5   \n",
       "8237.78                         2  ...                             2   \n",
       "\n",
       "              Store_Type_Flagship store  Store_Type_MBR  Store_Type_TeleShop  \\\n",
       "Sales_Amount                                                                   \n",
       "8287.50                               4               4                    4   \n",
       "8281.98                               5               5                    5   \n",
       "8276.45                               3               3                    3   \n",
       "8270.93                               2               2                    2   \n",
       "8265.40                               9               9                    9   \n",
       "8259.88                               1               1                    1   \n",
       "8254.35                               2               2                    2   \n",
       "8248.83                               4               4                    4   \n",
       "8243.30                               5               5                    5   \n",
       "8237.78                               2               2                    2   \n",
       "\n",
       "              Store_Type_e-Shop  Gender  Age  Qty  Year  Price_*_Age  \n",
       "Sales_Amount                                                          \n",
       "8287.50                       4       4    4    4     4            4  \n",
       "8281.98                       5       5    5    5     5            5  \n",
       "8276.45                       3       3    3    3     3            3  \n",
       "8270.93                       2       2    2    2     2            2  \n",
       "8265.40                       9       9    9    9     9            9  \n",
       "8259.88                       1       1    1    1     1            1  \n",
       "8254.35                       2       2    2    2     2            2  \n",
       "8248.83                       4       4    4    4     4            4  \n",
       "8243.30                       5       5    5    5     5            5  \n",
       "8237.78                       2       2    2    2     2            2  \n",
       "\n",
       "[10 rows x 38 columns]"
      ]
     },
     "execution_count": 41,
     "metadata": {},
     "output_type": "execute_result"
    }
   ],
   "source": [
    "transaction_customer.groupby(by='Sales_Amount').count().sort_values('Sales_Amount', ascending=False).head(10)"
   ]
  },
  {
   "cell_type": "markdown",
   "metadata": {
    "id": "xpqDmG4Ape26"
   },
   "source": [
    "#Correlation Plot\n"
   ]
  },
  {
   "cell_type": "code",
   "execution_count": 42,
   "metadata": {
    "id": "PR180wf1CQAh",
    "outputId": "241fa1d5-9d06-4ab6-ccfa-c8f18b63e255"
   },
   "outputs": [
    {
     "data": {
      "image/png": "[encoded data removed]",
      "text/plain": [
       "<Figure size 1440x1296 with 2 Axes>"
      ]
     },
     "metadata": {},
     "output_type": "display_data"
    }
   ],
   "source": [
    "# correlation matrix heatmap visualization\n",
    "sns.set(style=\"white\")\n",
    "\n",
    "# Generate a mask for the upper triangle\n",
    "matrix = np.triu(transaction_customer.corr())\n",
    "\n",
    "# Set up the matplotlib figure to control size of heatmap\n",
    "fig, ax = plt.subplots(figsize=(20,18))\n",
    "\n",
    "# Plot the heatmap\n",
    "_ = sns.heatmap(transaction_customer.corr(), mask=matrix, annot=True, annot_kws={\"size\": 12}, square=True, \n",
    "                cmap='coolwarm' , vmin=-1, vmax=1, fmt='.2f')  # annot=True display corr label\n",
    "\n",
    "# _ = sns.heatmap(transaction.corr(), annot=True, annot_kws={\"size\": 12}, square=True, \n",
    "#                 cmap='coolwarm' , vmin=-1, vmax=1, fmt='.2f')\n",
    "\n",
    "# Prevent Heatmap Cut-Off Issue\n",
    "# bottom, top = ax.get_ylim()\n",
    "# ax.set_ylim(bottom+0.5, top-0.5)"
   ]
  },
  {
   "cell_type": "markdown",
   "metadata": {
    "id": "BTGJum9kMXFi"
   },
   "source": [
    "# Split the data and train the models"
   ]
  },
  {
   "cell_type": "code",
   "execution_count": 43,
   "metadata": {
    "id": "6YvDpgST7ZLy"
   },
   "outputs": [],
   "source": [
    "X=transaction_customer.drop('Sales_Amount',axis=1)\n",
    "y=transaction_customer['Sales_Amount']\n"
   ]
  },
  {
   "cell_type": "code",
   "execution_count": 44,
   "metadata": {
    "id": "hPd-L3rQixhM"
   },
   "outputs": [],
   "source": [
    "# Split the Data\n",
    "X_train, X_test, y_train, y_test = train_test_split(X, y, test_size = 0.20, shuffle=False, random_state = SEED) #0.20-20% test data"
   ]
  },
  {
   "cell_type": "code",
   "execution_count": 45,
   "metadata": {
    "colab": {
     "base_uri": "https://localhost:8080/"
    },
    "id": "S1OnObsyc4si",
    "outputId": "ed777b04-d7fc-4879-d1a6-9a35ae5e1a47",
    "scrolled": true
   },
   "outputs": [
    {
     "name": "stdout",
     "output_type": "stream",
     "text": [
      "15049\n",
      "3763\n"
     ]
    }
   ],
   "source": [
    "#train data\n",
    "#X_train.head(10)\n",
    "print(len(X_train))\n",
    "\n",
    "#test data\n",
    "#X_test.head(10)\n",
    "print(len(X_test))"
   ]
  },
  {
   "cell_type": "code",
   "execution_count": 46,
   "metadata": {
    "id": "DhBU7i68sc3Z"
   },
   "outputs": [],
   "source": [
    "# Lists to keep track of model metrics\n",
    "models = []\n",
    "mean_squared_error_list = []\n",
    "r2_list = []\n",
    "training_variance_list = []\n",
    "testing_variance_list = []"
   ]
  },
  {
   "cell_type": "code",
   "execution_count": 47,
   "metadata": {
    "id": "iW57stas7ZLy"
   },
   "outputs": [],
   "source": [
    "#Standard Scaler\n",
    "scaler = StandardScaler()"
   ]
  },
  {
   "cell_type": "markdown",
   "metadata": {
    "id": "hvN0ABE07ZLy"
   },
   "source": [
    "LIST OF REGRESSION ALGORITHMS IN MACHINE LEARNING\n",
    "Linear Regression,\n",
    "Neural Network Regression,\n",
    "Decision Tree Regression, Random Forest,\n",
    "KNN Model,\n",
    "Lasso Regression \n",
    "Ridge Regression\n",
    "https://www.jigsawacademy.com/popular-regression-algorithms-ml/"
   ]
  },
  {
   "cell_type": "markdown",
   "metadata": {
    "id": "vldCvR897ZLz"
   },
   "source": [
    "There are three popular regularization techniques, each of them aiming at decreasing the size of the coefficients:\n",
    "Ridge Regression, which penalizes sum of squared coefficients (L2 penalty).\n",
    "Lasso Regression, which penalizes the sum of absolute values of the coefficients (L1 penalty).\n",
    "Elastic Net, a convex combination of Ridge and Lasso.\n",
    "https://www.datacamp.com/community/tutorials/tutorial-ridge-lasso-elastic-net"
   ]
  },
  {
   "cell_type": "markdown",
   "metadata": {
    "id": "LbGcc3XvMa-R"
   },
   "source": [
    "#Training the model"
   ]
  },
  {
   "cell_type": "markdown",
   "metadata": {
    "id": "ckznd38qCkKv"
   },
   "source": [
    "##Base Model- Multiple linear regression"
   ]
  },
  {
   "cell_type": "code",
   "execution_count": 48,
   "metadata": {
    "id": "uhsuf3jI7ZLz"
   },
   "outputs": [],
   "source": [
    "#Regressor\n",
    "#lr = Ridge(alpha=0.1,normalize=True)\n",
    "lr = LinearRegression()"
   ]
  },
  {
   "cell_type": "code",
   "execution_count": 49,
   "metadata": {
    "id": "yCccsP-r7ZLz"
   },
   "outputs": [],
   "source": [
    "# build a pipeline with two steps, the scaler and the classifier\n",
    "regressor = Pipeline([('scaler',scaler),('lr',lr)])"
   ]
  },
  {
   "cell_type": "code",
   "execution_count": 50,
   "metadata": {
    "id": "lwLUbfKH7ZLz",
    "outputId": "57aef0f8-7e20-40f3-c080-13c0713b7ade"
   },
   "outputs": [
    {
     "name": "stdout",
     "output_type": "stream",
     "text": [
      "[0.86262429 0.85617631 0.86621814 0.8700754  0.8606295 ]\n"
     ]
    }
   ],
   "source": [
    "#Mean Squared Error\n",
    "scores_r2 = cross_val_score(regressor,  \n",
    "                         X_train, \n",
    "                         y_train, cv=5, scoring='r2')\n",
    "\n",
    "print(scores_r2)\n",
    "#Note: all scoring functions follow higher return values are better than lower return values\n",
    "#This is why mean squared error is negated as a scoring function"
   ]
  },
  {
   "cell_type": "code",
   "execution_count": 51,
   "metadata": {
    "id": "7pbmYVCvCQAl",
    "outputId": "7f81de84-db32-4985-94e4-261fda40eaa6"
   },
   "outputs": [
    {
     "data": {
      "text/plain": [
       "Pipeline(steps=[('scaler', StandardScaler()), ('lr', LinearRegression())])"
      ]
     },
     "execution_count": 51,
     "metadata": {},
     "output_type": "execute_result"
    }
   ],
   "source": [
    "# Train the model\n",
    "regressor.fit(X_train, y_train)"
   ]
  },
  {
   "cell_type": "code",
   "execution_count": 52,
   "metadata": {
    "id": "khOtK-ZkCQAm"
   },
   "outputs": [],
   "source": [
    "#Testing\n",
    "# Kept aside some data to test - X_test\n",
    "y_pred = regressor.predict(X_test)\n",
    "\n",
    "compare_df = pd.DataFrame({\"Desired Output (Actuals)\": y_test, \n",
    "                           \"Predicted Output\": y_pred})"
   ]
  },
  {
   "cell_type": "code",
   "execution_count": 53,
   "metadata": {
    "id": "mNoW3ddSCQAn",
    "outputId": "04a82988-684f-4ff3-b13e-e3be94244649"
   },
   "outputs": [
    {
     "data": {
      "text/html": [
       "<div>\n",
       "<style scoped>\n",
       "    .dataframe tbody tr th:only-of-type {\n",
       "        vertical-align: middle;\n",
       "    }\n",
       "\n",
       "    .dataframe tbody tr th {\n",
       "        vertical-align: top;\n",
       "    }\n",
       "\n",
       "    .dataframe thead th {\n",
       "        text-align: right;\n",
       "    }\n",
       "</style>\n",
       "<table border=\"1\" class=\"dataframe\">\n",
       "  <thead>\n",
       "    <tr style=\"text-align: right;\">\n",
       "      <th></th>\n",
       "      <th>Desired Output (Actuals)</th>\n",
       "      <th>Predicted Output</th>\n",
       "    </tr>\n",
       "  </thead>\n",
       "  <tbody>\n",
       "    <tr>\n",
       "      <th>15056</th>\n",
       "      <td>1239.81</td>\n",
       "      <td>1085.177952</td>\n",
       "    </tr>\n",
       "    <tr>\n",
       "      <th>15057</th>\n",
       "      <td>812.18</td>\n",
       "      <td>645.728703</td>\n",
       "    </tr>\n",
       "    <tr>\n",
       "      <th>15058</th>\n",
       "      <td>2324.92</td>\n",
       "      <td>2595.284084</td>\n",
       "    </tr>\n",
       "    <tr>\n",
       "      <th>15059</th>\n",
       "      <td>885.11</td>\n",
       "      <td>1025.049325</td>\n",
       "    </tr>\n",
       "    <tr>\n",
       "      <th>15060</th>\n",
       "      <td>2629.90</td>\n",
       "      <td>3337.093165</td>\n",
       "    </tr>\n",
       "    <tr>\n",
       "      <th>...</th>\n",
       "      <td>...</td>\n",
       "      <td>...</td>\n",
       "    </tr>\n",
       "    <tr>\n",
       "      <th>18814</th>\n",
       "      <td>2594.54</td>\n",
       "      <td>3045.638233</td>\n",
       "    </tr>\n",
       "    <tr>\n",
       "      <th>18815</th>\n",
       "      <td>1221.03</td>\n",
       "      <td>3146.828499</td>\n",
       "    </tr>\n",
       "    <tr>\n",
       "      <th>18816</th>\n",
       "      <td>2383.49</td>\n",
       "      <td>2375.754078</td>\n",
       "    </tr>\n",
       "    <tr>\n",
       "      <th>18817</th>\n",
       "      <td>623.22</td>\n",
       "      <td>1291.725913</td>\n",
       "    </tr>\n",
       "    <tr>\n",
       "      <th>18818</th>\n",
       "      <td>245.31</td>\n",
       "      <td>-350.440675</td>\n",
       "    </tr>\n",
       "  </tbody>\n",
       "</table>\n",
       "<p>3763 rows × 2 columns</p>\n",
       "</div>"
      ],
      "text/plain": [
       "       Desired Output (Actuals)  Predicted Output\n",
       "15056                   1239.81       1085.177952\n",
       "15057                    812.18        645.728703\n",
       "15058                   2324.92       2595.284084\n",
       "15059                    885.11       1025.049325\n",
       "15060                   2629.90       3337.093165\n",
       "...                         ...               ...\n",
       "18814                   2594.54       3045.638233\n",
       "18815                   1221.03       3146.828499\n",
       "18816                   2383.49       2375.754078\n",
       "18817                    623.22       1291.725913\n",
       "18818                    245.31       -350.440675\n",
       "\n",
       "[3763 rows x 2 columns]"
      ]
     },
     "execution_count": 53,
     "metadata": {},
     "output_type": "execute_result"
    }
   ],
   "source": [
    "compare_df"
   ]
  },
  {
   "cell_type": "code",
   "execution_count": 54,
   "metadata": {
    "id": "OtSAtKOi7ZL0",
    "outputId": "a9e1e293-4eac-4a8a-aa88-a1a87c8a902a"
   },
   "outputs": [
    {
     "name": "stdout",
     "output_type": "stream",
     "text": [
      "Coefficients: \n",
      " [-3.13928087e+13 -1.41846426e+15  9.64692000e+14  6.77338123e+15\n",
      "  3.54178711e+15  6.56938878e+15  1.78921054e+15 -2.12309594e+15\n",
      " -2.29742278e+15 -2.08055043e+15  1.88813071e+15  1.92467146e+15\n",
      " -2.08691880e+15  1.87989426e+15  1.88813071e+15 -2.27092040e+15\n",
      "  6.33050165e+14 -9.37934696e+14 -2.27258767e+15  1.25386233e+15\n",
      "  6.25545312e+14 -8.92727362e+14 -2.19331316e+15  1.92065277e+15\n",
      " -2.14013987e+15 -2.37163694e+15  1.23747178e+15  6.31651121e+14\n",
      " -9.38599660e+14 -6.80277592e+14 -6.80277592e+14 -6.75989083e+14\n",
      " -8.35459659e+14  1.93893343e+00 -5.34614355e+02  1.23050219e+03\n",
      "  5.33411603e+00  1.44379645e+03]\n"
     ]
    }
   ],
   "source": [
    "# The coefficients\n",
    "print('Coefficients: \\n', regressor.named_steps['lr'].coef_)"
   ]
  },
  {
   "cell_type": "code",
   "execution_count": 55,
   "metadata": {
    "id": "k-TI-dzz7ZL1",
    "outputId": "2457eca9-78ed-4d61-a21b-37368d972422"
   },
   "outputs": [
    {
     "name": "stdout",
     "output_type": "stream",
     "text": [
      "Mean squared error: 505011.26\n",
      "Coefficient of determination: 0.87\n"
     ]
    }
   ],
   "source": [
    "# The mean squared error\n",
    "print('Mean squared error: {:.2f}'.format(mean_squared_error(y_test, y_pred)))\n",
    "\n",
    "# The coefficient of determination: 1 is perfect prediction\n",
    "print('Coefficient of determination: {:.2f}'.format(r2_score(y_test, y_pred)))"
   ]
  },
  {
   "cell_type": "code",
   "execution_count": 56,
   "metadata": {
    "id": "1PQWy2rYCQAo",
    "outputId": "10943b8d-b1ee-498e-d7a8-1ccf9af2093f"
   },
   "outputs": [
    {
     "name": "stdout",
     "output_type": "stream",
     "text": [
      "Regression model's training score = 0.86\n",
      "Regression model's test score     = 0.87\n"
     ]
    }
   ],
   "source": [
    "# Evaluate the model's training score and test score\n",
    "print(\"Regression model's training score = {:.2f}\".format(regressor.score(X_train, y_train)))\n",
    "print(\"Regression model's test score     = {:.2f}\".format(regressor.score(X_test, y_test)))"
   ]
  },
  {
   "cell_type": "code",
   "execution_count": 57,
   "metadata": {
    "id": "lLvunkPR7ZL1"
   },
   "outputs": [],
   "source": [
    "models.append('Baseline- Linear Regression')\n",
    "mean_squared_error_list.append(mean_squared_error(y_test, y_pred))\n",
    "training_variance_list.append(explained_variance_score(y_train, regressor.predict(X_train)))\n",
    "testing_variance_list.append(explained_variance_score(y_test, y_pred))\n",
    "r2_list.append(r2_score(y_test, y_pred))"
   ]
  },
  {
   "cell_type": "markdown",
   "metadata": {
    "id": "dAgAH0Ox7ZL1"
   },
   "source": [
    "##Multiple linear regression Lasso"
   ]
  },
  {
   "cell_type": "code",
   "execution_count": 58,
   "metadata": {
    "id": "rxj8mjNI7ZL2"
   },
   "outputs": [],
   "source": [
    "#Regressor\n",
    "#lr = Ridge(alpha=0.1,normalize=True)\n",
    "lr = linear_model.Lasso(alpha=0.1)"
   ]
  },
  {
   "cell_type": "code",
   "execution_count": 59,
   "metadata": {
    "id": "Am79oQbC7ZL2"
   },
   "outputs": [],
   "source": [
    "# build a pipeline with two steps, the scaler and the classifier\n",
    "regressor = Pipeline([('scaler',scaler),('lr',lr)])"
   ]
  },
  {
   "cell_type": "code",
   "execution_count": 60,
   "metadata": {
    "id": "yS6gYPm67ZL2",
    "outputId": "36ae474a-c145-4679-f346-c6d643ada7cb"
   },
   "outputs": [
    {
     "name": "stdout",
     "output_type": "stream",
     "text": [
      "[0.86311768 0.85659187 0.86649828 0.8701483  0.86131187]\n"
     ]
    }
   ],
   "source": [
    "#Mean Squared Error\n",
    "scores_r2 = cross_val_score(regressor,  \n",
    "                         X_train, \n",
    "                         y_train, cv=5, scoring='r2')\n",
    "\n",
    "print(scores_r2)\n",
    "#Note: all scoring functions follow higher return values are better than lower return values\n",
    "#This is why mean squared error is negated as a scoring function"
   ]
  },
  {
   "cell_type": "code",
   "execution_count": 61,
   "metadata": {
    "id": "u5Vb-5Tf7ZL2",
    "outputId": "7f81de84-db32-4985-94e4-261fda40eaa6"
   },
   "outputs": [
    {
     "data": {
      "text/plain": [
       "Pipeline(steps=[('scaler', StandardScaler()), ('lr', Lasso(alpha=0.1))])"
      ]
     },
     "execution_count": 61,
     "metadata": {},
     "output_type": "execute_result"
    }
   ],
   "source": [
    "# Train the model\n",
    "regressor.fit(X_train, y_train)"
   ]
  },
  {
   "cell_type": "code",
   "execution_count": 62,
   "metadata": {
    "id": "4DZfezr_7ZL2"
   },
   "outputs": [],
   "source": [
    "#Testing\n",
    "# Kept aside some data to test - X_test\n",
    "y_pred = regressor.predict(X_test)\n",
    "\n",
    "compare_df = pd.DataFrame({\"Desired Output (Actuals)\": y_test, \n",
    "                           \"Predicted Output\": y_pred})"
   ]
  },
  {
   "cell_type": "code",
   "execution_count": 63,
   "metadata": {
    "id": "UKsDuySj7ZL3",
    "outputId": "04a82988-684f-4ff3-b13e-e3be94244649"
   },
   "outputs": [
    {
     "data": {
      "text/html": [
       "<div>\n",
       "<style scoped>\n",
       "    .dataframe tbody tr th:only-of-type {\n",
       "        vertical-align: middle;\n",
       "    }\n",
       "\n",
       "    .dataframe tbody tr th {\n",
       "        vertical-align: top;\n",
       "    }\n",
       "\n",
       "    .dataframe thead th {\n",
       "        text-align: right;\n",
       "    }\n",
       "</style>\n",
       "<table border=\"1\" class=\"dataframe\">\n",
       "  <thead>\n",
       "    <tr style=\"text-align: right;\">\n",
       "      <th></th>\n",
       "      <th>Desired Output (Actuals)</th>\n",
       "      <th>Predicted Output</th>\n",
       "    </tr>\n",
       "  </thead>\n",
       "  <tbody>\n",
       "    <tr>\n",
       "      <th>15056</th>\n",
       "      <td>1239.81</td>\n",
       "      <td>1102.716342</td>\n",
       "    </tr>\n",
       "    <tr>\n",
       "      <th>15057</th>\n",
       "      <td>812.18</td>\n",
       "      <td>677.688059</td>\n",
       "    </tr>\n",
       "    <tr>\n",
       "      <th>15058</th>\n",
       "      <td>2324.92</td>\n",
       "      <td>2613.255076</td>\n",
       "    </tr>\n",
       "    <tr>\n",
       "      <th>15059</th>\n",
       "      <td>885.11</td>\n",
       "      <td>957.638530</td>\n",
       "    </tr>\n",
       "    <tr>\n",
       "      <th>15060</th>\n",
       "      <td>2629.90</td>\n",
       "      <td>3327.961024</td>\n",
       "    </tr>\n",
       "    <tr>\n",
       "      <th>...</th>\n",
       "      <td>...</td>\n",
       "      <td>...</td>\n",
       "    </tr>\n",
       "    <tr>\n",
       "      <th>18814</th>\n",
       "      <td>2594.54</td>\n",
       "      <td>3036.703155</td>\n",
       "    </tr>\n",
       "    <tr>\n",
       "      <th>18815</th>\n",
       "      <td>1221.03</td>\n",
       "      <td>3201.671357</td>\n",
       "    </tr>\n",
       "    <tr>\n",
       "      <th>18816</th>\n",
       "      <td>2383.49</td>\n",
       "      <td>2409.946225</td>\n",
       "    </tr>\n",
       "    <tr>\n",
       "      <th>18817</th>\n",
       "      <td>623.22</td>\n",
       "      <td>1343.828136</td>\n",
       "    </tr>\n",
       "    <tr>\n",
       "      <th>18818</th>\n",
       "      <td>245.31</td>\n",
       "      <td>-335.084497</td>\n",
       "    </tr>\n",
       "  </tbody>\n",
       "</table>\n",
       "<p>3763 rows × 2 columns</p>\n",
       "</div>"
      ],
      "text/plain": [
       "       Desired Output (Actuals)  Predicted Output\n",
       "15056                   1239.81       1102.716342\n",
       "15057                    812.18        677.688059\n",
       "15058                   2324.92       2613.255076\n",
       "15059                    885.11        957.638530\n",
       "15060                   2629.90       3327.961024\n",
       "...                         ...               ...\n",
       "18814                   2594.54       3036.703155\n",
       "18815                   1221.03       3201.671357\n",
       "18816                   2383.49       2409.946225\n",
       "18817                    623.22       1343.828136\n",
       "18818                    245.31       -335.084497\n",
       "\n",
       "[3763 rows x 2 columns]"
      ]
     },
     "execution_count": 63,
     "metadata": {},
     "output_type": "execute_result"
    }
   ],
   "source": [
    "compare_df"
   ]
  },
  {
   "cell_type": "code",
   "execution_count": 64,
   "metadata": {
    "id": "eBZfrn707ZL3",
    "outputId": "0185622c-7270-44e8-91d8-fd782007044a"
   },
   "outputs": [
    {
     "name": "stdout",
     "output_type": "stream",
     "text": [
      "Coefficients: \n",
      " [-0.00000000e+00 -0.00000000e+00  0.00000000e+00  0.00000000e+00\n",
      "  0.00000000e+00 -9.69847828e+00  2.90555940e+00  4.19719710e+00\n",
      "  2.82375699e+00  8.05863509e+00  1.76657416e+00 -5.68071680e+00\n",
      "  3.13623759e-01 -2.66906710e+00 -8.65637513e+00 -4.75471493e+00\n",
      " -4.14892880e+00  2.56404503e+00 -0.00000000e+00  0.00000000e+00\n",
      "  1.32841755e+00  1.32993260e+00 -2.96162004e-01  3.31093012e+00\n",
      " -3.23405297e+00 -1.67582321e+00 -1.16756290e+01  5.70699599e+00\n",
      " -1.05224074e+01 -5.33468792e-02 -3.47683924e+00  0.00000000e+00\n",
      "  2.00552942e+00  1.15142460e+00 -5.35420049e+02  1.23204064e+03\n",
      "  4.82046403e+00  1.44402791e+03]\n"
     ]
    }
   ],
   "source": [
    "# The coefficients\n",
    "print('Coefficients: \\n', regressor.named_steps['lr'].coef_)"
   ]
  },
  {
   "cell_type": "code",
   "execution_count": 65,
   "metadata": {
    "id": "skbNds657ZL3",
    "outputId": "6be525d8-52df-48f0-931f-80437833d8a1"
   },
   "outputs": [
    {
     "name": "stdout",
     "output_type": "stream",
     "text": [
      "Mean squared error: 502697.24\n",
      "Coefficient of determination: 0.87\n"
     ]
    }
   ],
   "source": [
    "# The mean squared error\n",
    "print('Mean squared error: {:.2f}'.format(mean_squared_error(y_test, y_pred)))\n",
    "\n",
    "# The coefficient of determination: 1 is perfect prediction\n",
    "print('Coefficient of determination: {:.2f}'.format(r2_score(y_test, y_pred)))"
   ]
  },
  {
   "cell_type": "code",
   "execution_count": 66,
   "metadata": {
    "id": "07nLu0ch7ZL3",
    "outputId": "10943b8d-b1ee-498e-d7a8-1ccf9af2093f"
   },
   "outputs": [
    {
     "name": "stdout",
     "output_type": "stream",
     "text": [
      "Regression model's training score = 0.86\n",
      "Regression model's test score     = 0.87\n"
     ]
    }
   ],
   "source": [
    "# Evaluate the model's training score and test score\n",
    "print(\"Regression model's training score = {:.2f}\".format(regressor.score(X_train, y_train)))\n",
    "print(\"Regression model's test score     = {:.2f}\".format(regressor.score(X_test, y_test)))"
   ]
  },
  {
   "cell_type": "code",
   "execution_count": 67,
   "metadata": {
    "id": "pNytWAXF7ZL3"
   },
   "outputs": [],
   "source": [
    "models.append('Lasso- Linear Regression')\n",
    "mean_squared_error_list.append(mean_squared_error(y_test, y_pred))\n",
    "training_variance_list.append(explained_variance_score(y_train, regressor.predict(X_train)))\n",
    "testing_variance_list.append(explained_variance_score(y_test, y_pred))\n",
    "r2_list.append(r2_score(y_test, y_pred))"
   ]
  },
  {
   "cell_type": "markdown",
   "metadata": {
    "id": "lm4-AeqH7ZL4"
   },
   "source": [
    "##Multiple linear regression Ridge"
   ]
  },
  {
   "cell_type": "code",
   "execution_count": 68,
   "metadata": {
    "id": "goS5Qu037ZL4"
   },
   "outputs": [],
   "source": [
    "#Regressor\n",
    "lr = Ridge(alpha=0.1,normalize=True)\n",
    "#lr = linear_model.Lasso(alpha=0.1)"
   ]
  },
  {
   "cell_type": "code",
   "execution_count": 69,
   "metadata": {
    "id": "SEsGk-Qu7ZL4"
   },
   "outputs": [],
   "source": [
    "# build a pipeline with two steps, the scaler and the classifier\n",
    "regressor = Pipeline([('scaler',scaler),('lr',lr)])"
   ]
  },
  {
   "cell_type": "code",
   "execution_count": 70,
   "metadata": {
    "id": "9X94-H447ZL4",
    "outputId": "65322d67-e27d-4f1c-ef1b-e644d6419843"
   },
   "outputs": [
    {
     "name": "stdout",
     "output_type": "stream",
     "text": [
      "[0.85135467 0.85006473 0.85428869 0.85736214 0.85464907]\n"
     ]
    }
   ],
   "source": [
    "#Mean Squared Error\n",
    "scores_r2 = cross_val_score(regressor,  \n",
    "                         X_train, \n",
    "                         y_train, cv=5, scoring='r2')\n",
    "\n",
    "print(scores_r2)\n",
    "#Note: all scoring functions follow higher return values are better than lower return values\n",
    "#This is why mean squared error is negated as a scoring function"
   ]
  },
  {
   "cell_type": "code",
   "execution_count": 71,
   "metadata": {
    "id": "n5p9FemG7ZL4",
    "outputId": "7f81de84-db32-4985-94e4-261fda40eaa6"
   },
   "outputs": [
    {
     "data": {
      "text/plain": [
       "Pipeline(steps=[('scaler', StandardScaler()),\n",
       "                ('lr', Ridge(alpha=0.1, normalize=True))])"
      ]
     },
     "execution_count": 71,
     "metadata": {},
     "output_type": "execute_result"
    }
   ],
   "source": [
    "# Train the model\n",
    "regressor.fit(X_train, y_train)"
   ]
  },
  {
   "cell_type": "code",
   "execution_count": 72,
   "metadata": {
    "id": "aBMZb1rC7ZL4"
   },
   "outputs": [],
   "source": [
    "#Testing\n",
    "# Kept aside some data to test - X_test\n",
    "y_pred = regressor.predict(X_test)\n",
    "\n",
    "compare_df = pd.DataFrame({\"Desired Output (Actuals)\": y_test, \n",
    "                           \"Predicted Output\": y_pred})"
   ]
  },
  {
   "cell_type": "code",
   "execution_count": 73,
   "metadata": {
    "id": "Vw2mx-Nr7ZL4",
    "outputId": "04a82988-684f-4ff3-b13e-e3be94244649"
   },
   "outputs": [
    {
     "data": {
      "text/html": [
       "<div>\n",
       "<style scoped>\n",
       "    .dataframe tbody tr th:only-of-type {\n",
       "        vertical-align: middle;\n",
       "    }\n",
       "\n",
       "    .dataframe tbody tr th {\n",
       "        vertical-align: top;\n",
       "    }\n",
       "\n",
       "    .dataframe thead th {\n",
       "        text-align: right;\n",
       "    }\n",
       "</style>\n",
       "<table border=\"1\" class=\"dataframe\">\n",
       "  <thead>\n",
       "    <tr style=\"text-align: right;\">\n",
       "      <th></th>\n",
       "      <th>Desired Output (Actuals)</th>\n",
       "      <th>Predicted Output</th>\n",
       "    </tr>\n",
       "  </thead>\n",
       "  <tbody>\n",
       "    <tr>\n",
       "      <th>15056</th>\n",
       "      <td>1239.81</td>\n",
       "      <td>1236.944813</td>\n",
       "    </tr>\n",
       "    <tr>\n",
       "      <th>15057</th>\n",
       "      <td>812.18</td>\n",
       "      <td>849.258911</td>\n",
       "    </tr>\n",
       "    <tr>\n",
       "      <th>15058</th>\n",
       "      <td>2324.92</td>\n",
       "      <td>2634.155396</td>\n",
       "    </tr>\n",
       "    <tr>\n",
       "      <th>15059</th>\n",
       "      <td>885.11</td>\n",
       "      <td>1119.765676</td>\n",
       "    </tr>\n",
       "    <tr>\n",
       "      <th>15060</th>\n",
       "      <td>2629.90</td>\n",
       "      <td>3272.957503</td>\n",
       "    </tr>\n",
       "    <tr>\n",
       "      <th>...</th>\n",
       "      <td>...</td>\n",
       "      <td>...</td>\n",
       "    </tr>\n",
       "    <tr>\n",
       "      <th>18814</th>\n",
       "      <td>2594.54</td>\n",
       "      <td>2922.419929</td>\n",
       "    </tr>\n",
       "    <tr>\n",
       "      <th>18815</th>\n",
       "      <td>1221.03</td>\n",
       "      <td>3103.182779</td>\n",
       "    </tr>\n",
       "    <tr>\n",
       "      <th>18816</th>\n",
       "      <td>2383.49</td>\n",
       "      <td>2376.837240</td>\n",
       "    </tr>\n",
       "    <tr>\n",
       "      <th>18817</th>\n",
       "      <td>623.22</td>\n",
       "      <td>1440.556698</td>\n",
       "    </tr>\n",
       "    <tr>\n",
       "      <th>18818</th>\n",
       "      <td>245.31</td>\n",
       "      <td>-96.262387</td>\n",
       "    </tr>\n",
       "  </tbody>\n",
       "</table>\n",
       "<p>3763 rows × 2 columns</p>\n",
       "</div>"
      ],
      "text/plain": [
       "       Desired Output (Actuals)  Predicted Output\n",
       "15056                   1239.81       1236.944813\n",
       "15057                    812.18        849.258911\n",
       "15058                   2324.92       2634.155396\n",
       "15059                    885.11       1119.765676\n",
       "15060                   2629.90       3272.957503\n",
       "...                         ...               ...\n",
       "18814                   2594.54       2922.419929\n",
       "18815                   1221.03       3103.182779\n",
       "18816                   2383.49       2376.837240\n",
       "18817                    623.22       1440.556698\n",
       "18818                    245.31        -96.262387\n",
       "\n",
       "[3763 rows x 2 columns]"
      ]
     },
     "execution_count": 73,
     "metadata": {},
     "output_type": "execute_result"
    }
   ],
   "source": [
    "compare_df"
   ]
  },
  {
   "cell_type": "code",
   "execution_count": 74,
   "metadata": {
    "id": "IlmZPMs57ZL5",
    "outputId": "0369f327-8609-46c2-f228-c2b497c86ef0"
   },
   "outputs": [
    {
     "name": "stdout",
     "output_type": "stream",
     "text": [
      "Coefficients: \n",
      " [-2.40989544e+00  6.95641245e-01  3.46733289e+00  4.40209769e+00\n",
      " -1.18576798e+00 -5.75466568e+00  5.51500577e+00  4.21474003e+00\n",
      "  3.08629038e-01  7.15252958e+00  4.41295590e+00 -4.38931373e+00\n",
      "  1.44982870e+00 -2.94018544e+00 -4.68136518e+00 -3.81508586e+00\n",
      " -2.73054253e+00  4.29005545e+00 -1.31375236e+00  4.00591829e+00\n",
      "  3.28595185e+00  3.01991612e+00 -5.33582287e-01  3.87078578e+00\n",
      " -3.15666186e+00 -5.75566521e+00 -7.41103137e+00  5.19968619e+00\n",
      " -9.08643962e+00  1.23051427e+00 -4.03192950e+00 -8.80306227e-01\n",
      "  2.99334310e+00  2.00303459e+00 -4.29731005e+02  1.11911228e+03\n",
      " -1.52814708e+00  1.27717600e+03]\n"
     ]
    }
   ],
   "source": [
    "# The coefficients\n",
    "print('Coefficients: \\n', regressor.named_steps['lr'].coef_)"
   ]
  },
  {
   "cell_type": "code",
   "execution_count": 75,
   "metadata": {
    "id": "s5vVEPVF7ZL5",
    "outputId": "bb6247c4-502e-4659-dbc2-0e0e576c0a09"
   },
   "outputs": [
    {
     "name": "stdout",
     "output_type": "stream",
     "text": [
      "Mean squared error: 536539.52\n",
      "Coefficient of determination: 0.86\n"
     ]
    }
   ],
   "source": [
    "# The mean squared error\n",
    "print('Mean squared error: {:.2f}'.format(mean_squared_error(y_test, y_pred)))\n",
    "\n",
    "# The coefficient of determination: 1 is perfect prediction\n",
    "print('Coefficient of determination: {:.2f}'.format(r2_score(y_test, y_pred)))"
   ]
  },
  {
   "cell_type": "code",
   "execution_count": 76,
   "metadata": {
    "id": "xXVMBiXZ7ZL5",
    "outputId": "10943b8d-b1ee-498e-d7a8-1ccf9af2093f"
   },
   "outputs": [
    {
     "name": "stdout",
     "output_type": "stream",
     "text": [
      "Regression model's training score = 0.85\n",
      "Regression model's test score     = 0.86\n"
     ]
    }
   ],
   "source": [
    "# Evaluate the model's training score and test score\n",
    "print(\"Regression model's training score = {:.2f}\".format(regressor.score(X_train, y_train)))\n",
    "print(\"Regression model's test score     = {:.2f}\".format(regressor.score(X_test, y_test)))"
   ]
  },
  {
   "cell_type": "code",
   "execution_count": 77,
   "metadata": {
    "id": "BHWdUEyR7ZL5"
   },
   "outputs": [],
   "source": [
    "models.append('Ridge- Linear Regression')\n",
    "mean_squared_error_list.append(mean_squared_error(y_test, y_pred))\n",
    "training_variance_list.append(explained_variance_score(y_train, regressor.predict(X_train)))\n",
    "testing_variance_list.append(explained_variance_score(y_test, y_pred))\n",
    "r2_list.append(r2_score(y_test, y_pred))"
   ]
  },
  {
   "cell_type": "markdown",
   "metadata": {
    "id": "3_DlX0Zh7ZL5"
   },
   "source": [
    "####Coefficient importance"
   ]
  },
  {
   "cell_type": "code",
   "execution_count": 78,
   "metadata": {
    "id": "nGHqZEik7ZL5",
    "outputId": "dc73723d-e0db-47d6-e324-5a8765662229"
   },
   "outputs": [
    {
     "name": "stdout",
     "output_type": "stream",
     "text": [
      "Feature: 0, Score: -2.40990\n",
      "Feature: 1, Score: 0.69564\n",
      "Feature: 2, Score: 3.46733\n",
      "Feature: 3, Score: 4.40210\n",
      "Feature: 4, Score: -1.18577\n",
      "Feature: 5, Score: -5.75467\n",
      "Feature: 6, Score: 5.51501\n",
      "Feature: 7, Score: 4.21474\n",
      "Feature: 8, Score: 0.30863\n",
      "Feature: 9, Score: 7.15253\n",
      "Feature: 10, Score: 4.41296\n",
      "Feature: 11, Score: -4.38931\n",
      "Feature: 12, Score: 1.44983\n",
      "Feature: 13, Score: -2.94019\n",
      "Feature: 14, Score: -4.68137\n",
      "Feature: 15, Score: -3.81509\n",
      "Feature: 16, Score: -2.73054\n",
      "Feature: 17, Score: 4.29006\n",
      "Feature: 18, Score: -1.31375\n",
      "Feature: 19, Score: 4.00592\n",
      "Feature: 20, Score: 3.28595\n",
      "Feature: 21, Score: 3.01992\n",
      "Feature: 22, Score: -0.53358\n",
      "Feature: 23, Score: 3.87079\n",
      "Feature: 24, Score: -3.15666\n",
      "Feature: 25, Score: -5.75567\n",
      "Feature: 26, Score: -7.41103\n",
      "Feature: 27, Score: 5.19969\n",
      "Feature: 28, Score: -9.08644\n",
      "Feature: 29, Score: 1.23051\n",
      "Feature: 30, Score: -4.03193\n",
      "Feature: 31, Score: -0.88031\n",
      "Feature: 32, Score: 2.99334\n",
      "Feature: 33, Score: 2.00303\n",
      "Feature: 34, Score: -429.73100\n",
      "Feature: 35, Score: 1119.11228\n",
      "Feature: 36, Score: -1.52815\n",
      "Feature: 37, Score: 1277.17600\n"
     ]
    }
   ],
   "source": [
    "# get importance\n",
    "importance = regressor.named_steps['lr'].coef_\n",
    "# summarize feature importance\n",
    "for i,v in enumerate(importance):\n",
    "    print('Feature: %0d, Score: %.5f' % (i,v))"
   ]
  },
  {
   "cell_type": "code",
   "execution_count": 79,
   "metadata": {
    "id": "xNWoge4h7ZL6",
    "outputId": "d1adb33c-c080-437d-b916-3ad1e3f1578b"
   },
   "outputs": [
    {
     "data": {
      "image/png": "[encoded data removed]",
      "text/plain": [
       "<Figure size 720x360 with 1 Axes>"
      ]
     },
     "metadata": {},
     "output_type": "display_data"
    }
   ],
   "source": [
    "# plot feature importance\n",
    "#plt.bar([x for x in range(len(importance))], importance)\n",
    "plt.figure(figsize=(10,5))\n",
    "plt.bar([x for x in X], importance)\n",
    "plt.xticks(rotation=90)\n",
    "plt.show()"
   ]
  },
  {
   "cell_type": "markdown",
   "metadata": {
    "id": "l_esGeGF7ZL6"
   },
   "source": [
    "##Decision Tree"
   ]
  },
  {
   "cell_type": "code",
   "execution_count": 80,
   "metadata": {
    "id": "1XMVqQ0e7ZL6"
   },
   "outputs": [],
   "source": [
    "# Decision Tree \n",
    "dt = DecisionTreeRegressor(random_state=SEED)"
   ]
  },
  {
   "cell_type": "code",
   "execution_count": 81,
   "metadata": {
    "id": "N5d7JgzE7ZL6"
   },
   "outputs": [],
   "source": [
    "#Create Pipeline\n",
    "dt_reg = Pipeline([('scaler',scaler),('dt',dt)])"
   ]
  },
  {
   "cell_type": "code",
   "execution_count": 82,
   "metadata": {
    "id": "Fv-lp8AO7ZL6",
    "outputId": "b2fd202b-ec2d-4491-e481-55fa6e76e200"
   },
   "outputs": [
    {
     "name": "stdout",
     "output_type": "stream",
     "text": [
      "Wall time: 11min 46s\n"
     ]
    },
    {
     "data": {
      "text/plain": [
       "GridSearchCV(cv=10,\n",
       "             estimator=Pipeline(steps=[('scaler', StandardScaler()),\n",
       "                                       ('dt',\n",
       "                                        DecisionTreeRegressor(random_state=0))]),\n",
       "             n_jobs=-1,\n",
       "             param_grid={'dt__criterion': ['mse', 'mae'],\n",
       "                         'dt__max_depth': [5, 10, 15, 20],\n",
       "                         'dt__min_samples_split': [2, 3, 5]},\n",
       "             scoring='r2')"
      ]
     },
     "execution_count": 82,
     "metadata": {},
     "output_type": "execute_result"
    }
   ],
   "source": [
    "%%time\n",
    "# Hyperparameter tuning using K-fold cross validation\n",
    "# ... via Grid Search method\n",
    "#'gini', 'entropy'\n",
    "#optimising the parameter, best value for best model\n",
    "\n",
    "param_grid = {'dt__criterion': ['mse', 'mae'],\n",
    "              'dt__max_depth': [5, 10, 15, 20],\n",
    "              'dt__min_samples_split': [2, 3, 5]}\n",
    "              \n",
    "gs_dt = GridSearchCV(dt_reg,\n",
    "                      param_grid, \n",
    "                      cv=10,\n",
    "                      scoring='r2',\n",
    "                      n_jobs=-1)\n",
    "gs_dt.fit(X_train, y_train)"
   ]
  },
  {
   "cell_type": "code",
   "execution_count": 83,
   "metadata": {
    "colab": {
     "base_uri": "https://localhost:8080/"
    },
    "id": "1O9rWZy3rB-A",
    "outputId": "b9ee77cd-8575-49c6-afcd-9d38b54ee799"
   },
   "outputs": [
    {
     "name": "stdout",
     "output_type": "stream",
     "text": [
      "Pipeline(steps=[('scaler', StandardScaler()),\n",
      "                ('dt',\n",
      "                 DecisionTreeRegressor(max_depth=20, min_samples_split=3,\n",
      "                                       random_state=0))])\n",
      "{'dt__criterion': 'mse', 'dt__max_depth': 20, 'dt__min_samples_split': 3}\n",
      "0.9984540564598566\n"
     ]
    }
   ],
   "source": [
    "# Best model hyperparameters and score\n",
    "print(gs_dt.best_estimator_)\n",
    "print(gs_dt.best_params_)\n",
    "print(gs_dt.best_score_)"
   ]
  },
  {
   "cell_type": "code",
   "execution_count": 84,
   "metadata": {
    "colab": {
     "base_uri": "https://localhost:8080/"
    },
    "id": "7vIqEwCZrB-B",
    "outputId": "5defb7bc-0f35-47f8-fb44-64a3e789c636"
   },
   "outputs": [
    {
     "data": {
      "text/plain": [
       "Pipeline(steps=[('scaler', StandardScaler()),\n",
       "                ('dt',\n",
       "                 DecisionTreeRegressor(max_depth=20, min_samples_split=3,\n",
       "                                       random_state=0))])"
      ]
     },
     "execution_count": 84,
     "metadata": {},
     "output_type": "execute_result"
    }
   ],
   "source": [
    "# Using best estimator found by GridSearchCV\n",
    "dt = gs_dt.best_estimator_\n",
    "dt.fit(X_train, y_train)"
   ]
  },
  {
   "cell_type": "code",
   "execution_count": 85,
   "metadata": {
    "id": "mlr7Q__ZrB-B"
   },
   "outputs": [],
   "source": [
    "y_pred = dt.predict(X_test)"
   ]
  },
  {
   "cell_type": "code",
   "execution_count": 86,
   "metadata": {
    "id": "C3hFPos8rB-D"
   },
   "outputs": [],
   "source": [
    "compare_df = pd.DataFrame({\"Desired Output (Actuals)\": y_test, \n",
    "                           \"Predicted Output\": y_pred})"
   ]
  },
  {
   "cell_type": "code",
   "execution_count": 87,
   "metadata": {
    "id": "FRHWh8zB7ZL7",
    "outputId": "b46d0366-4d45-433d-e9a0-63354e7e692b",
    "scrolled": false
   },
   "outputs": [
    {
     "data": {
      "text/html": [
       "<div>\n",
       "<style scoped>\n",
       "    .dataframe tbody tr th:only-of-type {\n",
       "        vertical-align: middle;\n",
       "    }\n",
       "\n",
       "    .dataframe tbody tr th {\n",
       "        vertical-align: top;\n",
       "    }\n",
       "\n",
       "    .dataframe thead th {\n",
       "        text-align: right;\n",
       "    }\n",
       "</style>\n",
       "<table border=\"1\" class=\"dataframe\">\n",
       "  <thead>\n",
       "    <tr style=\"text-align: right;\">\n",
       "      <th></th>\n",
       "      <th>Desired Output (Actuals)</th>\n",
       "      <th>Predicted Output</th>\n",
       "    </tr>\n",
       "  </thead>\n",
       "  <tbody>\n",
       "    <tr>\n",
       "      <th>15056</th>\n",
       "      <td>1239.81</td>\n",
       "      <td>1185.665</td>\n",
       "    </tr>\n",
       "    <tr>\n",
       "      <th>15057</th>\n",
       "      <td>812.18</td>\n",
       "      <td>802.230</td>\n",
       "    </tr>\n",
       "    <tr>\n",
       "      <th>15058</th>\n",
       "      <td>2324.92</td>\n",
       "      <td>2389.010</td>\n",
       "    </tr>\n",
       "    <tr>\n",
       "      <th>15059</th>\n",
       "      <td>885.11</td>\n",
       "      <td>867.425</td>\n",
       "    </tr>\n",
       "    <tr>\n",
       "      <th>15060</th>\n",
       "      <td>2629.90</td>\n",
       "      <td>2530.450</td>\n",
       "    </tr>\n",
       "    <tr>\n",
       "      <th>...</th>\n",
       "      <td>...</td>\n",
       "      <td>...</td>\n",
       "    </tr>\n",
       "    <tr>\n",
       "      <th>18814</th>\n",
       "      <td>2594.54</td>\n",
       "      <td>2576.860</td>\n",
       "    </tr>\n",
       "    <tr>\n",
       "      <th>18815</th>\n",
       "      <td>1221.03</td>\n",
       "      <td>1204.450</td>\n",
       "    </tr>\n",
       "    <tr>\n",
       "      <th>18816</th>\n",
       "      <td>2383.49</td>\n",
       "      <td>2376.860</td>\n",
       "    </tr>\n",
       "    <tr>\n",
       "      <th>18817</th>\n",
       "      <td>623.22</td>\n",
       "      <td>689.520</td>\n",
       "    </tr>\n",
       "    <tr>\n",
       "      <th>18818</th>\n",
       "      <td>245.31</td>\n",
       "      <td>240.340</td>\n",
       "    </tr>\n",
       "  </tbody>\n",
       "</table>\n",
       "<p>3763 rows × 2 columns</p>\n",
       "</div>"
      ],
      "text/plain": [
       "       Desired Output (Actuals)  Predicted Output\n",
       "15056                   1239.81          1185.665\n",
       "15057                    812.18           802.230\n",
       "15058                   2324.92          2389.010\n",
       "15059                    885.11           867.425\n",
       "15060                   2629.90          2530.450\n",
       "...                         ...               ...\n",
       "18814                   2594.54          2576.860\n",
       "18815                   1221.03          1204.450\n",
       "18816                   2383.49          2376.860\n",
       "18817                    623.22           689.520\n",
       "18818                    245.31           240.340\n",
       "\n",
       "[3763 rows x 2 columns]"
      ]
     },
     "execution_count": 87,
     "metadata": {},
     "output_type": "execute_result"
    }
   ],
   "source": [
    "compare_df"
   ]
  },
  {
   "cell_type": "code",
   "execution_count": 88,
   "metadata": {
    "id": "wSZZ6zJL7ZL7"
   },
   "outputs": [],
   "source": [
    "models.append('Decision Tree')\n",
    "mean_squared_error_list.append(mean_squared_error(y_test, y_pred))\n",
    "training_variance_list.append(explained_variance_score(y_train, dt.predict(X_train)))\n",
    "testing_variance_list.append(explained_variance_score(y_test, y_pred))\n",
    "r2_list.append(r2_score(y_test, y_pred))"
   ]
  },
  {
   "cell_type": "markdown",
   "metadata": {
    "id": "xVFxnE9I7ZL7"
   },
   "source": [
    "##Random Forest"
   ]
  },
  {
   "cell_type": "code",
   "execution_count": 89,
   "metadata": {
    "id": "U1a15cpf7ZL8"
   },
   "outputs": [],
   "source": [
    "# Random Forest\n",
    "rf = RandomForestRegressor(n_jobs=-1, random_state = SEED)"
   ]
  },
  {
   "cell_type": "code",
   "execution_count": 90,
   "metadata": {
    "id": "cmdV5zHA7ZL8"
   },
   "outputs": [],
   "source": [
    "#Create Pipeline\n",
    "rf = Pipeline([('scaler',scaler),('rf',rf)])"
   ]
  },
  {
   "cell_type": "code",
   "execution_count": 91,
   "metadata": {
    "id": "nvmfW8IC7ZL8",
    "outputId": "4306f04d-3db5-4c08-faf1-7fc2fe754edb"
   },
   "outputs": [
    {
     "name": "stdout",
     "output_type": "stream",
     "text": [
      "Wall time: 8min 34s\n"
     ]
    },
    {
     "data": {
      "text/plain": [
       "GridSearchCV(cv=10,\n",
       "             estimator=Pipeline(steps=[('scaler', StandardScaler()),\n",
       "                                       ('rf',\n",
       "                                        RandomForestRegressor(n_jobs=-1,\n",
       "                                                              random_state=0))]),\n",
       "             n_jobs=-1,\n",
       "             param_grid={'rf__max_depth': [5, 10, 25],\n",
       "                         'rf__max_features': ['auto', 'sqrt'],\n",
       "                         'rf__n_estimators': [100, 200, 300]},\n",
       "             scoring='r2')"
      ]
     },
     "execution_count": 91,
     "metadata": {},
     "output_type": "execute_result"
    }
   ],
   "source": [
    "%%time\n",
    "# Hyperparameter tuning using K-fold cross validation\n",
    "# ... via Grid Search method\n",
    "param_grid = {   \n",
    "              'rf__n_estimators': [100, 200, 300], \n",
    "              'rf__max_features': [\"auto\", \"sqrt\"], \n",
    "              'rf__max_depth': [5, 10, 25]\n",
    "              }\n",
    "              \n",
    "#'min_samples_split': [5, 10, 15]\n",
    "\n",
    "gs_rf = GridSearchCV(rf,\n",
    "                    param_grid, \n",
    "                    cv=10,\n",
    "                    scoring='r2',\n",
    "                    n_jobs=-1)\n",
    "gs_rf.fit(X_train, y_train)\n"
   ]
  },
  {
   "cell_type": "code",
   "execution_count": 92,
   "metadata": {
    "id": "B3wfeQIL7ZL8"
   },
   "outputs": [],
   "source": [
    "#gs_rf.cv_results_"
   ]
  },
  {
   "cell_type": "code",
   "execution_count": 93,
   "metadata": {
    "id": "XYic3lrQ7ZL8",
    "outputId": "c5247d50-3c21-42a2-b83f-3f2de90ebb8a"
   },
   "outputs": [
    {
     "name": "stdout",
     "output_type": "stream",
     "text": [
      "Pipeline(steps=[('scaler', StandardScaler()),\n",
      "                ('rf',\n",
      "                 RandomForestRegressor(max_depth=25, n_estimators=300,\n",
      "                                       n_jobs=-1, random_state=0))])\n",
      "{'rf__max_depth': 25, 'rf__max_features': 'auto', 'rf__n_estimators': 300}\n",
      "0.9995848442547037\n"
     ]
    }
   ],
   "source": [
    "# Best model hyperparameters and score\n",
    "print(gs_rf.best_estimator_)\n",
    "print(gs_rf.best_params_)\n",
    "print(gs_rf.best_score_)"
   ]
  },
  {
   "cell_type": "code",
   "execution_count": 94,
   "metadata": {
    "id": "YbmLSJV67ZL8",
    "outputId": "b49761b9-1ba9-498e-d949-3ac1a50d9c7a"
   },
   "outputs": [
    {
     "data": {
      "text/plain": [
       "Pipeline(steps=[('scaler', StandardScaler()),\n",
       "                ('rf',\n",
       "                 RandomForestRegressor(max_depth=25, n_estimators=300,\n",
       "                                       n_jobs=-1, random_state=0))])"
      ]
     },
     "execution_count": 94,
     "metadata": {},
     "output_type": "execute_result"
    }
   ],
   "source": [
    "# Using best estimator found by GridSearchCV\n",
    "rf = gs_rf.best_estimator_\n",
    "rf.fit(X_train, y_train)"
   ]
  },
  {
   "cell_type": "code",
   "execution_count": 95,
   "metadata": {
    "id": "8fK3KgwQ7ZL9"
   },
   "outputs": [],
   "source": [
    "y_pred = rf.predict(X_test)"
   ]
  },
  {
   "cell_type": "code",
   "execution_count": 96,
   "metadata": {
    "id": "_ozqSqHQ7ZL9"
   },
   "outputs": [],
   "source": [
    "compare_df = pd.DataFrame({\"Desired Output (Actuals)\": y_test, \n",
    "                           \"Predicted Output\": y_pred})"
   ]
  },
  {
   "cell_type": "code",
   "execution_count": 97,
   "metadata": {
    "id": "XATRuLJF7ZL9",
    "outputId": "32e11f13-250b-4532-b2e9-eba829f00bd5"
   },
   "outputs": [
    {
     "data": {
      "text/html": [
       "<div>\n",
       "<style scoped>\n",
       "    .dataframe tbody tr th:only-of-type {\n",
       "        vertical-align: middle;\n",
       "    }\n",
       "\n",
       "    .dataframe tbody tr th {\n",
       "        vertical-align: top;\n",
       "    }\n",
       "\n",
       "    .dataframe thead th {\n",
       "        text-align: right;\n",
       "    }\n",
       "</style>\n",
       "<table border=\"1\" class=\"dataframe\">\n",
       "  <thead>\n",
       "    <tr style=\"text-align: right;\">\n",
       "      <th></th>\n",
       "      <th>Desired Output (Actuals)</th>\n",
       "      <th>Predicted Output</th>\n",
       "    </tr>\n",
       "  </thead>\n",
       "  <tbody>\n",
       "    <tr>\n",
       "      <th>15056</th>\n",
       "      <td>1239.81</td>\n",
       "      <td>1231.043667</td>\n",
       "    </tr>\n",
       "    <tr>\n",
       "      <th>15057</th>\n",
       "      <td>812.18</td>\n",
       "      <td>812.306033</td>\n",
       "    </tr>\n",
       "    <tr>\n",
       "      <th>15058</th>\n",
       "      <td>2324.92</td>\n",
       "      <td>2368.515933</td>\n",
       "    </tr>\n",
       "    <tr>\n",
       "      <th>15059</th>\n",
       "      <td>885.11</td>\n",
       "      <td>881.291333</td>\n",
       "    </tr>\n",
       "    <tr>\n",
       "      <th>15060</th>\n",
       "      <td>2629.90</td>\n",
       "      <td>2621.082167</td>\n",
       "    </tr>\n",
       "    <tr>\n",
       "      <th>...</th>\n",
       "      <td>...</td>\n",
       "      <td>...</td>\n",
       "    </tr>\n",
       "    <tr>\n",
       "      <th>18814</th>\n",
       "      <td>2594.54</td>\n",
       "      <td>2546.689833</td>\n",
       "    </tr>\n",
       "    <tr>\n",
       "      <th>18815</th>\n",
       "      <td>1221.03</td>\n",
       "      <td>1236.387833</td>\n",
       "    </tr>\n",
       "    <tr>\n",
       "      <th>18816</th>\n",
       "      <td>2383.49</td>\n",
       "      <td>2341.840833</td>\n",
       "    </tr>\n",
       "    <tr>\n",
       "      <th>18817</th>\n",
       "      <td>623.22</td>\n",
       "      <td>622.178500</td>\n",
       "    </tr>\n",
       "    <tr>\n",
       "      <th>18818</th>\n",
       "      <td>245.31</td>\n",
       "      <td>239.555800</td>\n",
       "    </tr>\n",
       "  </tbody>\n",
       "</table>\n",
       "<p>3763 rows × 2 columns</p>\n",
       "</div>"
      ],
      "text/plain": [
       "       Desired Output (Actuals)  Predicted Output\n",
       "15056                   1239.81       1231.043667\n",
       "15057                    812.18        812.306033\n",
       "15058                   2324.92       2368.515933\n",
       "15059                    885.11        881.291333\n",
       "15060                   2629.90       2621.082167\n",
       "...                         ...               ...\n",
       "18814                   2594.54       2546.689833\n",
       "18815                   1221.03       1236.387833\n",
       "18816                   2383.49       2341.840833\n",
       "18817                    623.22        622.178500\n",
       "18818                    245.31        239.555800\n",
       "\n",
       "[3763 rows x 2 columns]"
      ]
     },
     "execution_count": 97,
     "metadata": {},
     "output_type": "execute_result"
    }
   ],
   "source": [
    "compare_df"
   ]
  },
  {
   "cell_type": "code",
   "execution_count": 98,
   "metadata": {
    "id": "OJPyhMRj7ZL9"
   },
   "outputs": [],
   "source": [
    "models.append('Random Forest')\n",
    "mean_squared_error_list.append(mean_squared_error(y_test, y_pred))\n",
    "training_variance_list.append(explained_variance_score(y_train, rf.predict(X_train)))\n",
    "testing_variance_list.append(explained_variance_score(y_test, y_pred))\n",
    "r2_list.append(r2_score(y_test, y_pred))"
   ]
  },
  {
   "cell_type": "code",
   "execution_count": 99,
   "metadata": {
    "id": "RoiXAYwO7ZL9"
   },
   "outputs": [],
   "source": [
    "# Creating the feature importances dataframe for random forest only\n",
    "feature_importance = np.array(rf.named_steps['rf'].feature_importances_)\n",
    "feature_names = np.array(X.columns)\n",
    "\n",
    "feat_imp = pd.DataFrame({'feature_names':feature_names,'feature_importance':feature_importance})\n",
    "feat_imp_sorted = feat_imp.sort_values('feature_importance', ascending=False)"
   ]
  },
  {
   "cell_type": "code",
   "execution_count": 100,
   "metadata": {
    "id": "AVqQU3nH7ZL9",
    "outputId": "25a0e124-4658-44cd-fa5f-f19b01de10a3"
   },
   "outputs": [
    {
     "data": {
      "text/plain": [
       "<AxesSubplot:xlabel='feature_importance', ylabel='feature_names'>"
      ]
     },
     "execution_count": 100,
     "metadata": {},
     "output_type": "execute_result"
    },
    {
     "data": {
      "image/png": "[encoded data removed]",
      "text/plain": [
       "<Figure size 1440x1440 with 1 Axes>"
      ]
     },
     "metadata": {},
     "output_type": "display_data"
    }
   ],
   "source": [
    "plt.figure(figsize=(20,20))\n",
    "sns.barplot(x=feat_imp_sorted['feature_importance'], y=feat_imp_sorted['feature_names'])"
   ]
  },
  {
   "cell_type": "markdown",
   "metadata": {
    "id": "2FYvDY_57ZL9"
   },
   "source": [
    "##K-nearest neighnors"
   ]
  },
  {
   "cell_type": "code",
   "execution_count": 101,
   "metadata": {
    "id": "ijThXBK77ZL-"
   },
   "outputs": [],
   "source": [
    "# KNeighborsRegressor\n",
    "KNN = KNeighborsRegressor()"
   ]
  },
  {
   "cell_type": "code",
   "execution_count": 102,
   "metadata": {
    "id": "8HQFG_rx7ZL-"
   },
   "outputs": [],
   "source": [
    "#Create Pipeline\n",
    "KNN_reg = Pipeline([('scaler',scaler),('KNN',KNN)])"
   ]
  },
  {
   "cell_type": "code",
   "execution_count": 103,
   "metadata": {
    "id": "hPjo3VWP7ZL-",
    "outputId": "e1f1bac7-384e-46d7-afea-3cc84f8549d1"
   },
   "outputs": [
    {
     "name": "stdout",
     "output_type": "stream",
     "text": [
      "Wall time: 36.5 s\n"
     ]
    },
    {
     "data": {
      "text/plain": [
       "GridSearchCV(cv=10,\n",
       "             estimator=Pipeline(steps=[('scaler', StandardScaler()),\n",
       "                                       ('KNN', KNeighborsRegressor())]),\n",
       "             n_jobs=-1,\n",
       "             param_grid={'KNN__n_neighbors': [2, 3, 4, 5, 6, 7, 8, 9, 10, 11]},\n",
       "             scoring='r2')"
      ]
     },
     "execution_count": 103,
     "metadata": {},
     "output_type": "execute_result"
    }
   ],
   "source": [
    "%%time\n",
    "# Hyperparameter tuning using K-fold cross validation\n",
    "#optimising the parameter, best value for best model\n",
    "\n",
    "param_grid = {'KNN__n_neighbors': [2, 3, 4, 5, 6, 7, 8, 9, 10, 11]}\n",
    "              \n",
    "gs_KNN = GridSearchCV(KNN_reg,\n",
    "                      param_grid, \n",
    "                      cv=10,\n",
    "                      scoring='r2',\n",
    "                      n_jobs=-1)\n",
    "gs_KNN.fit(X_train, y_train)"
   ]
  },
  {
   "cell_type": "code",
   "execution_count": 104,
   "metadata": {
    "id": "Uwjqr2ZB7ZL-",
    "outputId": "356bdf31-10ba-4a32-9728-182ee554a003"
   },
   "outputs": [
    {
     "name": "stdout",
     "output_type": "stream",
     "text": [
      "Pipeline(steps=[('scaler', StandardScaler()),\n",
      "                ('KNN', KNeighborsRegressor(n_neighbors=4))])\n",
      "{'KNN__n_neighbors': 4}\n",
      "0.8221005388401166\n"
     ]
    }
   ],
   "source": [
    "# Best model hyperparameters and score\n",
    "print(gs_KNN.best_estimator_)\n",
    "print(gs_KNN.best_params_)\n",
    "print(gs_KNN.best_score_)"
   ]
  },
  {
   "cell_type": "code",
   "execution_count": 105,
   "metadata": {
    "id": "98HpkDza7ZL-",
    "outputId": "69733f9f-91dd-4025-849c-66205a913a0a"
   },
   "outputs": [
    {
     "data": {
      "text/plain": [
       "Pipeline(steps=[('scaler', StandardScaler()),\n",
       "                ('KNN', KNeighborsRegressor(n_neighbors=4))])"
      ]
     },
     "execution_count": 105,
     "metadata": {},
     "output_type": "execute_result"
    }
   ],
   "source": [
    "# Using best estimator found by GridSearchCV\n",
    "KNN = gs_KNN.best_estimator_\n",
    "KNN.fit(X_train, y_train)"
   ]
  },
  {
   "cell_type": "code",
   "execution_count": 106,
   "metadata": {
    "id": "0bJnAp6O7ZL-"
   },
   "outputs": [],
   "source": [
    "y_pred = KNN.predict(X_test)"
   ]
  },
  {
   "cell_type": "code",
   "execution_count": 107,
   "metadata": {
    "id": "PV61OYlt7ZL_"
   },
   "outputs": [],
   "source": [
    "compare_df = pd.DataFrame({\"Desired Output (Actuals)\": y_test, \n",
    "                           \"Predicted Output\": y_pred})"
   ]
  },
  {
   "cell_type": "code",
   "execution_count": 108,
   "metadata": {
    "id": "XO947Bzg7ZL_",
    "outputId": "7f70eeb6-8d5d-48f3-b745-f254bac5084a",
    "scrolled": false
   },
   "outputs": [
    {
     "data": {
      "text/html": [
       "<div>\n",
       "<style scoped>\n",
       "    .dataframe tbody tr th:only-of-type {\n",
       "        vertical-align: middle;\n",
       "    }\n",
       "\n",
       "    .dataframe tbody tr th {\n",
       "        vertical-align: top;\n",
       "    }\n",
       "\n",
       "    .dataframe thead th {\n",
       "        text-align: right;\n",
       "    }\n",
       "</style>\n",
       "<table border=\"1\" class=\"dataframe\">\n",
       "  <thead>\n",
       "    <tr style=\"text-align: right;\">\n",
       "      <th></th>\n",
       "      <th>Desired Output (Actuals)</th>\n",
       "      <th>Predicted Output</th>\n",
       "    </tr>\n",
       "  </thead>\n",
       "  <tbody>\n",
       "    <tr>\n",
       "      <th>15056</th>\n",
       "      <td>1239.81</td>\n",
       "      <td>2058.3400</td>\n",
       "    </tr>\n",
       "    <tr>\n",
       "      <th>15057</th>\n",
       "      <td>812.18</td>\n",
       "      <td>1256.3875</td>\n",
       "    </tr>\n",
       "    <tr>\n",
       "      <th>15058</th>\n",
       "      <td>2324.92</td>\n",
       "      <td>1238.9850</td>\n",
       "    </tr>\n",
       "    <tr>\n",
       "      <th>15059</th>\n",
       "      <td>885.11</td>\n",
       "      <td>962.7325</td>\n",
       "    </tr>\n",
       "    <tr>\n",
       "      <th>15060</th>\n",
       "      <td>2629.90</td>\n",
       "      <td>5200.4075</td>\n",
       "    </tr>\n",
       "    <tr>\n",
       "      <th>...</th>\n",
       "      <td>...</td>\n",
       "      <td>...</td>\n",
       "    </tr>\n",
       "    <tr>\n",
       "      <th>18814</th>\n",
       "      <td>2594.54</td>\n",
       "      <td>3287.1000</td>\n",
       "    </tr>\n",
       "    <tr>\n",
       "      <th>18815</th>\n",
       "      <td>1221.03</td>\n",
       "      <td>1964.6900</td>\n",
       "    </tr>\n",
       "    <tr>\n",
       "      <th>18816</th>\n",
       "      <td>2383.49</td>\n",
       "      <td>1834.5775</td>\n",
       "    </tr>\n",
       "    <tr>\n",
       "      <th>18817</th>\n",
       "      <td>623.22</td>\n",
       "      <td>1158.0425</td>\n",
       "    </tr>\n",
       "    <tr>\n",
       "      <th>18818</th>\n",
       "      <td>245.31</td>\n",
       "      <td>1304.1775</td>\n",
       "    </tr>\n",
       "  </tbody>\n",
       "</table>\n",
       "<p>3763 rows × 2 columns</p>\n",
       "</div>"
      ],
      "text/plain": [
       "       Desired Output (Actuals)  Predicted Output\n",
       "15056                   1239.81         2058.3400\n",
       "15057                    812.18         1256.3875\n",
       "15058                   2324.92         1238.9850\n",
       "15059                    885.11          962.7325\n",
       "15060                   2629.90         5200.4075\n",
       "...                         ...               ...\n",
       "18814                   2594.54         3287.1000\n",
       "18815                   1221.03         1964.6900\n",
       "18816                   2383.49         1834.5775\n",
       "18817                    623.22         1158.0425\n",
       "18818                    245.31         1304.1775\n",
       "\n",
       "[3763 rows x 2 columns]"
      ]
     },
     "execution_count": 108,
     "metadata": {},
     "output_type": "execute_result"
    }
   ],
   "source": [
    "compare_df"
   ]
  },
  {
   "cell_type": "code",
   "execution_count": 109,
   "metadata": {
    "id": "1vKhK3sI7ZL_"
   },
   "outputs": [],
   "source": [
    "models.append('KNN')\n",
    "mean_squared_error_list.append(mean_squared_error(y_test, y_pred))\n",
    "training_variance_list.append(explained_variance_score(y_train, KNN.predict(X_train)))\n",
    "testing_variance_list.append(explained_variance_score(y_test, y_pred))\n",
    "r2_list.append(r2_score(y_test, y_pred))"
   ]
  },
  {
   "cell_type": "markdown",
   "metadata": {
    "id": "G07X1vQrUGAn"
   },
   "source": [
    "##Multi-Level Perceptron - Neural Network"
   ]
  },
  {
   "cell_type": "code",
   "execution_count": 110,
   "metadata": {
    "id": "tQEc_OdZrB-B"
   },
   "outputs": [],
   "source": [
    "# Multi-Level Perceptron\n",
    "mlp = MLPRegressor(random_state=SEED)"
   ]
  },
  {
   "cell_type": "code",
   "execution_count": 111,
   "metadata": {
    "id": "e8bGdMIu7ZL_"
   },
   "outputs": [],
   "source": [
    "#Create Pipeline\n",
    "mlp_reg = Pipeline([('scaler',scaler),('mlp',mlp)])"
   ]
  },
  {
   "cell_type": "code",
   "execution_count": 112,
   "metadata": {
    "id": "Sm_MM5PNrB-C",
    "outputId": "2abd4322-4db8-4c64-e1a4-6bcedc2807e2",
    "scrolled": true
   },
   "outputs": [
    {
     "name": "stderr",
     "output_type": "stream",
     "text": [
      "C:\\Users\\mich\\anaconda3\\lib\\site-packages\\sklearn\\model_selection\\_search.py:918: UserWarning: One or more of the test scores are non-finite: [ 0.86360567         nan -1.1121417   0.86360567         nan -0.58832116\n",
      "  0.86360561         nan -0.18464847  0.86360566         nan  0.11685953\n",
      "  0.86360568         nan  0.34494882  0.66121807  0.60946254 -1.72945588\n",
      "  0.79254517  0.73690817 -1.71355085  0.85353742  0.82019753 -1.69273339\n",
      "  0.84048149  0.85467688 -1.67421027  0.88202796  0.87401505 -1.65835259\n",
      "  0.51469022  0.42526509 -1.73451989  0.67293714  0.70910814 -1.71756844\n",
      "  0.77964559  0.74695531 -1.70653563  0.79634055  0.75407409 -1.69143455\n",
      "  0.85105792  0.8160638  -1.67726363  0.9304875          nan -0.82510428\n",
      "  0.94807493         nan -1.74898131  0.94945253         nan  0.12596667\n",
      "  0.95354066         nan  0.35038345  0.95016405         nan -0.21876605]\n",
      "  warnings.warn(\n"
     ]
    },
    {
     "name": "stdout",
     "output_type": "stream",
     "text": [
      "Wall time: 14min 24s\n"
     ]
    },
    {
     "name": "stderr",
     "output_type": "stream",
     "text": [
      "C:\\Users\\mich\\anaconda3\\lib\\site-packages\\sklearn\\neural_network\\_multilayer_perceptron.py:500: ConvergenceWarning: lbfgs failed to converge (status=1):\n",
      "STOP: TOTAL NO. of ITERATIONS REACHED LIMIT.\n",
      "\n",
      "Increase the number of iterations (max_iter) or scale the data as shown in:\n",
      "    https://scikit-learn.org/stable/modules/preprocessing.html\n",
      "  self.n_iter_ = _check_optimize_result(\"lbfgs\", opt_res, self.max_iter)\n"
     ]
    },
    {
     "data": {
      "text/plain": [
       "GridSearchCV(cv=10,\n",
       "             estimator=Pipeline(steps=[('scaler', StandardScaler()),\n",
       "                                       ('mlp', MLPRegressor(random_state=0))]),\n",
       "             n_jobs=-1,\n",
       "             param_grid=[{'mlp__activation': ['identity', 'logistic', 'tanh',\n",
       "                                              'relu'],\n",
       "                          'mlp__hidden_layer_sizes': [(1,), (2,), (3,), (4,),\n",
       "                                                      (5,)],\n",
       "                          'mlp__solver': ['lbfgs', 'sgd', 'adam']}],\n",
       "             scoring='r2')"
      ]
     },
     "execution_count": 112,
     "metadata": {},
     "output_type": "execute_result"
    }
   ],
   "source": [
    "%%time\n",
    "# Hyperparameter tuning using K-fold cross validation\n",
    "# ... via Grid Search method\n",
    "#param_grid = {'mlp__hidden_layer_sizes': [(3,3),(2),(3)], \n",
    "              #'mlp__alpha': np.logspace(-4, -1, 4),\n",
    "              #'mlp__max_iter': [400, 450, 500, 550]}\n",
    "\n",
    "#to try        \n",
    "param_grid = [\n",
    "        {\n",
    "            'mlp__activation' : ['identity', 'logistic', 'tanh', 'relu'],\n",
    "            'mlp__solver' : ['lbfgs', 'sgd', 'adam'],\n",
    "            'mlp__hidden_layer_sizes': [(1,),(2,),(3,),(4,),(5,)\n",
    "             ]\n",
    "        }\n",
    "       ]\n",
    "\n",
    "gs_mlp = GridSearchCV(mlp_reg,\n",
    "                      param_grid, \n",
    "                      cv=10,\n",
    "                      scoring='r2',\n",
    "                      n_jobs=-1)\n",
    "gs_mlp.fit(X_train, y_train)"
   ]
  },
  {
   "cell_type": "code",
   "execution_count": 113,
   "metadata": {
    "id": "dafaAMEBrB-C",
    "outputId": "fb0bd9d1-82b1-44f6-9b0d-4703eb7942cd"
   },
   "outputs": [
    {
     "name": "stdout",
     "output_type": "stream",
     "text": [
      "Pipeline(steps=[('scaler', StandardScaler()),\n",
      "                ('mlp',\n",
      "                 MLPRegressor(hidden_layer_sizes=(4,), random_state=0,\n",
      "                              solver='lbfgs'))])\n",
      "{'mlp__activation': 'relu', 'mlp__hidden_layer_sizes': (4,), 'mlp__solver': 'lbfgs'}\n",
      "0.9535406608347465\n"
     ]
    }
   ],
   "source": [
    "# Best model hyperparameters and score\n",
    "print(gs_mlp.best_estimator_)\n",
    "print(gs_mlp.best_params_)\n",
    "print(gs_mlp.best_score_)"
   ]
  },
  {
   "cell_type": "code",
   "execution_count": 114,
   "metadata": {
    "id": "amWhRZGJrB-C",
    "outputId": "6ee0b33c-b8e0-45a2-9743-ba6ffe079364"
   },
   "outputs": [
    {
     "name": "stderr",
     "output_type": "stream",
     "text": [
      "C:\\Users\\mich\\anaconda3\\lib\\site-packages\\sklearn\\neural_network\\_multilayer_perceptron.py:500: ConvergenceWarning: lbfgs failed to converge (status=1):\n",
      "STOP: TOTAL NO. of ITERATIONS REACHED LIMIT.\n",
      "\n",
      "Increase the number of iterations (max_iter) or scale the data as shown in:\n",
      "    https://scikit-learn.org/stable/modules/preprocessing.html\n",
      "  self.n_iter_ = _check_optimize_result(\"lbfgs\", opt_res, self.max_iter)\n"
     ]
    },
    {
     "data": {
      "text/plain": [
       "Pipeline(steps=[('scaler', StandardScaler()),\n",
       "                ('mlp',\n",
       "                 MLPRegressor(hidden_layer_sizes=(4,), random_state=0,\n",
       "                              solver='lbfgs'))])"
      ]
     },
     "execution_count": 114,
     "metadata": {},
     "output_type": "execute_result"
    }
   ],
   "source": [
    "# Using best estimator found by GridSearchCV\n",
    "mlp = gs_mlp.best_estimator_\n",
    "mlp.fit(X_train, y_train)"
   ]
  },
  {
   "cell_type": "code",
   "execution_count": 115,
   "metadata": {
    "id": "mea1jOz_rB-C"
   },
   "outputs": [],
   "source": [
    "y_pred = mlp.predict(X_test)"
   ]
  },
  {
   "cell_type": "code",
   "execution_count": 116,
   "metadata": {
    "id": "MMXwsTlH7ZMA"
   },
   "outputs": [],
   "source": [
    "compare_df = pd.DataFrame({\"Desired Output (Actuals)\": y_test, \n",
    "                           \"Predicted Output\": y_pred})"
   ]
  },
  {
   "cell_type": "code",
   "execution_count": 117,
   "metadata": {
    "id": "ct4bFehR7ZMA",
    "outputId": "28bf73af-c764-4667-ba9b-05072f9e4539",
    "scrolled": false
   },
   "outputs": [
    {
     "data": {
      "text/html": [
       "<div>\n",
       "<style scoped>\n",
       "    .dataframe tbody tr th:only-of-type {\n",
       "        vertical-align: middle;\n",
       "    }\n",
       "\n",
       "    .dataframe tbody tr th {\n",
       "        vertical-align: top;\n",
       "    }\n",
       "\n",
       "    .dataframe thead th {\n",
       "        text-align: right;\n",
       "    }\n",
       "</style>\n",
       "<table border=\"1\" class=\"dataframe\">\n",
       "  <thead>\n",
       "    <tr style=\"text-align: right;\">\n",
       "      <th></th>\n",
       "      <th>Desired Output (Actuals)</th>\n",
       "      <th>Predicted Output</th>\n",
       "    </tr>\n",
       "  </thead>\n",
       "  <tbody>\n",
       "    <tr>\n",
       "      <th>15056</th>\n",
       "      <td>1239.81</td>\n",
       "      <td>1099.957754</td>\n",
       "    </tr>\n",
       "    <tr>\n",
       "      <th>15057</th>\n",
       "      <td>812.18</td>\n",
       "      <td>854.731112</td>\n",
       "    </tr>\n",
       "    <tr>\n",
       "      <th>15058</th>\n",
       "      <td>2324.92</td>\n",
       "      <td>2099.389859</td>\n",
       "    </tr>\n",
       "    <tr>\n",
       "      <th>15059</th>\n",
       "      <td>885.11</td>\n",
       "      <td>1045.170477</td>\n",
       "    </tr>\n",
       "    <tr>\n",
       "      <th>15060</th>\n",
       "      <td>2629.90</td>\n",
       "      <td>2729.980094</td>\n",
       "    </tr>\n",
       "    <tr>\n",
       "      <th>...</th>\n",
       "      <td>...</td>\n",
       "      <td>...</td>\n",
       "    </tr>\n",
       "    <tr>\n",
       "      <th>18814</th>\n",
       "      <td>2594.54</td>\n",
       "      <td>2886.384840</td>\n",
       "    </tr>\n",
       "    <tr>\n",
       "      <th>18815</th>\n",
       "      <td>1221.03</td>\n",
       "      <td>2922.804424</td>\n",
       "    </tr>\n",
       "    <tr>\n",
       "      <th>18816</th>\n",
       "      <td>2383.49</td>\n",
       "      <td>1725.500399</td>\n",
       "    </tr>\n",
       "    <tr>\n",
       "      <th>18817</th>\n",
       "      <td>623.22</td>\n",
       "      <td>1115.809094</td>\n",
       "    </tr>\n",
       "    <tr>\n",
       "      <th>18818</th>\n",
       "      <td>245.31</td>\n",
       "      <td>102.274459</td>\n",
       "    </tr>\n",
       "  </tbody>\n",
       "</table>\n",
       "<p>3763 rows × 2 columns</p>\n",
       "</div>"
      ],
      "text/plain": [
       "       Desired Output (Actuals)  Predicted Output\n",
       "15056                   1239.81       1099.957754\n",
       "15057                    812.18        854.731112\n",
       "15058                   2324.92       2099.389859\n",
       "15059                    885.11       1045.170477\n",
       "15060                   2629.90       2729.980094\n",
       "...                         ...               ...\n",
       "18814                   2594.54       2886.384840\n",
       "18815                   1221.03       2922.804424\n",
       "18816                   2383.49       1725.500399\n",
       "18817                    623.22       1115.809094\n",
       "18818                    245.31        102.274459\n",
       "\n",
       "[3763 rows x 2 columns]"
      ]
     },
     "execution_count": 117,
     "metadata": {},
     "output_type": "execute_result"
    }
   ],
   "source": [
    "compare_df"
   ]
  },
  {
   "cell_type": "code",
   "execution_count": 118,
   "metadata": {
    "id": "uQYDZ5Y5tFC6"
   },
   "outputs": [],
   "source": [
    "models.append('Multilevel Perceptron')\n",
    "mean_squared_error_list.append(mean_squared_error(y_test, y_pred))\n",
    "training_variance_list.append(explained_variance_score(y_train, mlp.predict(X_train)))\n",
    "testing_variance_list.append(explained_variance_score(y_test, y_pred))\n",
    "r2_list.append(r2_score(y_test, y_pred))"
   ]
  },
  {
   "cell_type": "markdown",
   "metadata": {
    "id": "53u8hTQuDytO"
   },
   "source": [
    "##Gradient Boosting "
   ]
  },
  {
   "cell_type": "markdown",
   "metadata": {
    "id": "99x6uP8N7ZMB"
   },
   "source": [
    "https://towardsdatascience.com/cross-validation-and-hyperparameter-tuning-how-to-optimise-your-machine-learning-model-13f005af9d7d\n",
    "https://educationalresearchtechniques.com/2019/01/14/gradient-boosting-regression-in-python/"
   ]
  },
  {
   "cell_type": "code",
   "execution_count": 119,
   "metadata": {
    "id": "PXYD_GhQ7ZMB"
   },
   "outputs": [],
   "source": [
    "gbr = GradientBoostingRegressor(random_state = SEED)"
   ]
  },
  {
   "cell_type": "code",
   "execution_count": 120,
   "metadata": {
    "id": "5faMHzsl7ZMB"
   },
   "outputs": [],
   "source": [
    "#Create Pipeline\n",
    "gbreg = Pipeline([('scaler',scaler),('gbr',gbr)])"
   ]
  },
  {
   "cell_type": "code",
   "execution_count": 121,
   "metadata": {
    "id": "zqKfK-G97ZMB",
    "outputId": "c6a73cb2-2919-414c-c181-2aff20194e79"
   },
   "outputs": [
    {
     "name": "stdout",
     "output_type": "stream",
     "text": [
      "Wall time: 12min 11s\n"
     ]
    },
    {
     "data": {
      "text/plain": [
       "GridSearchCV(cv=10,\n",
       "             estimator=Pipeline(steps=[('scaler', StandardScaler()),\n",
       "                                       ('gbr',\n",
       "                                        GradientBoostingRegressor(random_state=0))]),\n",
       "             n_jobs=-1,\n",
       "             param_grid={'gbr__max_depth': [1, 2, 4],\n",
       "                         'gbr__n_estimators': [500, 1000, 2000]},\n",
       "             scoring='r2')"
      ]
     },
     "execution_count": 121,
     "metadata": {},
     "output_type": "execute_result"
    }
   ],
   "source": [
    "%%time\n",
    "# Hyperparameter tuning using K-fold cross validation\n",
    "# ... via Grid Search method\n",
    "#,'xgbr__subsample':[.5,.75,1]\n",
    "#'xgbr__learning_rate':[.001,0.01,.1],\n",
    "search_grid={'gbr__n_estimators':[500,1000,2000],'gbr__max_depth':[1,2,4]}\n",
    "\n",
    "gs_gb = GridSearchCV(gbreg,\n",
    "                      search_grid, \n",
    "                      cv=10,\n",
    "                      scoring='r2',\n",
    "                      n_jobs=-1)\n",
    "gs_gb.fit(X_train, y_train)"
   ]
  },
  {
   "cell_type": "code",
   "execution_count": 122,
   "metadata": {
    "colab": {
     "base_uri": "https://localhost:8080/"
    },
    "id": "H9uwisCCJNF1",
    "outputId": "b9ee77cd-8575-49c6-afcd-9d38b54ee799"
   },
   "outputs": [
    {
     "name": "stdout",
     "output_type": "stream",
     "text": [
      "Pipeline(steps=[('scaler', StandardScaler()),\n",
      "                ('gbr',\n",
      "                 GradientBoostingRegressor(max_depth=4, n_estimators=2000,\n",
      "                                           random_state=0))])\n",
      "{'gbr__max_depth': 4, 'gbr__n_estimators': 2000}\n",
      "0.9997230880503254\n"
     ]
    }
   ],
   "source": [
    "# Best model hyperparameters and score\n",
    "print(gs_gb.best_estimator_)\n",
    "print(gs_gb.best_params_)\n",
    "print(gs_gb.best_score_)"
   ]
  },
  {
   "cell_type": "code",
   "execution_count": 123,
   "metadata": {
    "colab": {
     "base_uri": "https://localhost:8080/"
    },
    "id": "DaTTe3BXJNGJ",
    "outputId": "5defb7bc-0f35-47f8-fb44-64a3e789c636"
   },
   "outputs": [
    {
     "data": {
      "text/plain": [
       "Pipeline(steps=[('scaler', StandardScaler()),\n",
       "                ('gbr',\n",
       "                 GradientBoostingRegressor(max_depth=4, n_estimators=2000,\n",
       "                                           random_state=0))])"
      ]
     },
     "execution_count": 123,
     "metadata": {},
     "output_type": "execute_result"
    }
   ],
   "source": [
    "# Using best estimator found by GridSearchCV\n",
    "gb = gs_gb.best_estimator_\n",
    "gb.fit(X_train, y_train)"
   ]
  },
  {
   "cell_type": "code",
   "execution_count": 124,
   "metadata": {
    "id": "ATBjNhqyJNGL"
   },
   "outputs": [],
   "source": [
    "y_pred = gb.predict(X_test)"
   ]
  },
  {
   "cell_type": "code",
   "execution_count": 125,
   "metadata": {
    "id": "0macdU307ZMC"
   },
   "outputs": [],
   "source": [
    "compare_df = pd.DataFrame({\"Desired Output (Actuals)\": y_test, \n",
    "                           \"Predicted Output\": y_pred})"
   ]
  },
  {
   "cell_type": "code",
   "execution_count": 126,
   "metadata": {
    "id": "5NsBTo1Q7ZMC",
    "outputId": "69997206-5dd8-46ce-fa99-460a119fc3ce",
    "scrolled": true
   },
   "outputs": [
    {
     "data": {
      "text/html": [
       "<div>\n",
       "<style scoped>\n",
       "    .dataframe tbody tr th:only-of-type {\n",
       "        vertical-align: middle;\n",
       "    }\n",
       "\n",
       "    .dataframe tbody tr th {\n",
       "        vertical-align: top;\n",
       "    }\n",
       "\n",
       "    .dataframe thead th {\n",
       "        text-align: right;\n",
       "    }\n",
       "</style>\n",
       "<table border=\"1\" class=\"dataframe\">\n",
       "  <thead>\n",
       "    <tr style=\"text-align: right;\">\n",
       "      <th></th>\n",
       "      <th>Desired Output (Actuals)</th>\n",
       "      <th>Predicted Output</th>\n",
       "    </tr>\n",
       "  </thead>\n",
       "  <tbody>\n",
       "    <tr>\n",
       "      <th>15056</th>\n",
       "      <td>1239.81</td>\n",
       "      <td>1240.527833</td>\n",
       "    </tr>\n",
       "    <tr>\n",
       "      <th>15057</th>\n",
       "      <td>812.18</td>\n",
       "      <td>781.199703</td>\n",
       "    </tr>\n",
       "    <tr>\n",
       "      <th>15058</th>\n",
       "      <td>2324.92</td>\n",
       "      <td>2371.532907</td>\n",
       "    </tr>\n",
       "    <tr>\n",
       "      <th>15059</th>\n",
       "      <td>885.11</td>\n",
       "      <td>890.051719</td>\n",
       "    </tr>\n",
       "    <tr>\n",
       "      <th>15060</th>\n",
       "      <td>2629.90</td>\n",
       "      <td>2688.098524</td>\n",
       "    </tr>\n",
       "    <tr>\n",
       "      <th>...</th>\n",
       "      <td>...</td>\n",
       "      <td>...</td>\n",
       "    </tr>\n",
       "    <tr>\n",
       "      <th>18814</th>\n",
       "      <td>2594.54</td>\n",
       "      <td>2620.594705</td>\n",
       "    </tr>\n",
       "    <tr>\n",
       "      <th>18815</th>\n",
       "      <td>1221.03</td>\n",
       "      <td>1235.932031</td>\n",
       "    </tr>\n",
       "    <tr>\n",
       "      <th>18816</th>\n",
       "      <td>2383.49</td>\n",
       "      <td>2290.631233</td>\n",
       "    </tr>\n",
       "    <tr>\n",
       "      <th>18817</th>\n",
       "      <td>623.22</td>\n",
       "      <td>600.329900</td>\n",
       "    </tr>\n",
       "    <tr>\n",
       "      <th>18818</th>\n",
       "      <td>245.31</td>\n",
       "      <td>257.048028</td>\n",
       "    </tr>\n",
       "  </tbody>\n",
       "</table>\n",
       "<p>3763 rows × 2 columns</p>\n",
       "</div>"
      ],
      "text/plain": [
       "       Desired Output (Actuals)  Predicted Output\n",
       "15056                   1239.81       1240.527833\n",
       "15057                    812.18        781.199703\n",
       "15058                   2324.92       2371.532907\n",
       "15059                    885.11        890.051719\n",
       "15060                   2629.90       2688.098524\n",
       "...                         ...               ...\n",
       "18814                   2594.54       2620.594705\n",
       "18815                   1221.03       1235.932031\n",
       "18816                   2383.49       2290.631233\n",
       "18817                    623.22        600.329900\n",
       "18818                    245.31        257.048028\n",
       "\n",
       "[3763 rows x 2 columns]"
      ]
     },
     "execution_count": 126,
     "metadata": {},
     "output_type": "execute_result"
    }
   ],
   "source": [
    "compare_df"
   ]
  },
  {
   "cell_type": "code",
   "execution_count": 127,
   "metadata": {
    "id": "BC0SYf_x7ZMC"
   },
   "outputs": [],
   "source": [
    "models.append('Gradient Boosting')\n",
    "mean_squared_error_list.append(mean_squared_error(y_test, y_pred))\n",
    "training_variance_list.append(explained_variance_score(y_train, gb.predict(X_train)))\n",
    "testing_variance_list.append(explained_variance_score(y_test, y_pred))\n",
    "r2_list.append(r2_score(y_test, y_pred))"
   ]
  },
  {
   "cell_type": "markdown",
   "metadata": {
    "id": "MguGS12M7ZMC"
   },
   "source": [
    "##Extreme Gradient Boosting"
   ]
  },
  {
   "cell_type": "code",
   "execution_count": 128,
   "metadata": {
    "id": "dkqHC3Id7ZMC"
   },
   "outputs": [],
   "source": [
    "xgbr = XGBRegressor(random_state=SEED)"
   ]
  },
  {
   "cell_type": "code",
   "execution_count": 129,
   "metadata": {
    "id": "AK6251Xg7ZMC"
   },
   "outputs": [],
   "source": [
    "#Create Pipeline\n",
    "xgbreg = Pipeline([('scaler',scaler),('xgbr',xgbr)])"
   ]
  },
  {
   "cell_type": "code",
   "execution_count": 130,
   "metadata": {
    "id": "l-Mjb-4o7ZMD",
    "outputId": "211a6147-1ce5-4295-a71c-c4af3aca42be"
   },
   "outputs": [
    {
     "data": {
      "text/plain": [
       "GridSearchCV(cv=10,\n",
       "             estimator=Pipeline(steps=[('scaler', StandardScaler()),\n",
       "                                       ('xgbr',\n",
       "                                        XGBRegressor(base_score=None,\n",
       "                                                     booster=None,\n",
       "                                                     colsample_bylevel=None,\n",
       "                                                     colsample_bynode=None,\n",
       "                                                     colsample_bytree=None,\n",
       "                                                     gamma=None, gpu_id=None,\n",
       "                                                     importance_type='gain',\n",
       "                                                     interaction_constraints=None,\n",
       "                                                     learning_rate=None,\n",
       "                                                     max_delta_step=None,\n",
       "                                                     max_depth=None,\n",
       "                                                     min_child_weight=None,\n",
       "                                                     missing=nan,\n",
       "                                                     monotone_constraints=None,\n",
       "                                                     n_estimators=100,\n",
       "                                                     n_jobs=None,\n",
       "                                                     num_parallel_tree=None,\n",
       "                                                     random_state=0,\n",
       "                                                     reg_alpha=None,\n",
       "                                                     reg_lambda=None,\n",
       "                                                     scale_pos_weight=None,\n",
       "                                                     subsample=None,\n",
       "                                                     tree_method=None,\n",
       "                                                     validate_parameters=None,\n",
       "                                                     verbosity=None))]),\n",
       "             n_jobs=-1,\n",
       "             param_grid={'xgbr__learning_rate': [0.01, 0.05],\n",
       "                         'xgbr__min_child_weight': [0, 1],\n",
       "                         'xgbr__n_estimators': [2000, 3000]},\n",
       "             scoring='r2')"
      ]
     },
     "execution_count": 130,
     "metadata": {},
     "output_type": "execute_result"
    }
   ],
   "source": [
    "# Hyperparameter tuning using K-fold cross validation\n",
    "# ... via Grid Search method\n",
    "gs_xgb = GridSearchCV(xgbreg,  \n",
    "                    param_grid={'xgbr__n_estimators': [2000, 3000],\n",
    "                                'xgbr__learning_rate' : [0.01, 0.05],                                \n",
    "                                'xgbr__min_child_weight' : [0, 1]\n",
    "                               },\n",
    "                    cv = 10,\n",
    "                    scoring = 'r2',\n",
    "                    n_jobs=-1)\n",
    "gs_xgb.fit(X_train, y_train)"
   ]
  },
  {
   "cell_type": "code",
   "execution_count": 131,
   "metadata": {
    "id": "eDwEhA1L7ZMD",
    "outputId": "ab37fc1a-e854-4e73-dbdf-b556af1a0dbb"
   },
   "outputs": [
    {
     "name": "stdout",
     "output_type": "stream",
     "text": [
      "Pipeline(steps=[('scaler', StandardScaler()),\n",
      "                ('xgbr',\n",
      "                 XGBRegressor(base_score=0.5, booster='gbtree',\n",
      "                              colsample_bylevel=1, colsample_bynode=1,\n",
      "                              colsample_bytree=1, gamma=0, gpu_id=-1,\n",
      "                              importance_type='gain',\n",
      "                              interaction_constraints='', learning_rate=0.05,\n",
      "                              max_delta_step=0, max_depth=6, min_child_weight=0,\n",
      "                              missing=nan, monotone_constraints='()',\n",
      "                              n_estimators=3000, n_jobs=4, num_parallel_tree=1,\n",
      "                              random_state=0, reg_alpha=0, reg_lambda=1,\n",
      "                              scale_pos_weight=1, subsample=1,\n",
      "                              tree_method='exact', validate_parameters=1,\n",
      "                              verbosity=None))])\n",
      "{'xgbr__learning_rate': 0.05, 'xgbr__min_child_weight': 0, 'xgbr__n_estimators': 3000}\n",
      "0.9997815241995915\n"
     ]
    }
   ],
   "source": [
    "# Best model hyperparameters and score\n",
    "print(gs_xgb.best_estimator_)\n",
    "print(gs_xgb.best_params_)\n",
    "print(gs_xgb.best_score_)"
   ]
  },
  {
   "cell_type": "code",
   "execution_count": 132,
   "metadata": {
    "id": "ClLsFy777ZMD",
    "outputId": "7860dde8-0927-476b-f9a8-d1829ff3314a"
   },
   "outputs": [
    {
     "data": {
      "text/plain": [
       "Pipeline(steps=[('scaler', StandardScaler()),\n",
       "                ('xgbr',\n",
       "                 XGBRegressor(base_score=0.5, booster='gbtree',\n",
       "                              colsample_bylevel=1, colsample_bynode=1,\n",
       "                              colsample_bytree=1, gamma=0, gpu_id=-1,\n",
       "                              importance_type='gain',\n",
       "                              interaction_constraints='', learning_rate=0.05,\n",
       "                              max_delta_step=0, max_depth=6, min_child_weight=0,\n",
       "                              missing=nan, monotone_constraints='()',\n",
       "                              n_estimators=3000, n_jobs=4, num_parallel_tree=1,\n",
       "                              random_state=0, reg_alpha=0, reg_lambda=1,\n",
       "                              scale_pos_weight=1, subsample=1,\n",
       "                              tree_method='exact', validate_parameters=1,\n",
       "                              verbosity=None))])"
      ]
     },
     "execution_count": 132,
     "metadata": {},
     "output_type": "execute_result"
    }
   ],
   "source": [
    "# Using best estimator found by GridSearchCV\n",
    "xgb = gs_xgb.best_estimator_\n",
    "xgb.fit(X_train, y_train)"
   ]
  },
  {
   "cell_type": "code",
   "execution_count": 133,
   "metadata": {
    "id": "dzJlFUp07ZMD"
   },
   "outputs": [],
   "source": [
    "y_pred = xgb.predict(X_test)"
   ]
  },
  {
   "cell_type": "code",
   "execution_count": 134,
   "metadata": {
    "id": "_UEw29Ay7ZMD"
   },
   "outputs": [],
   "source": [
    "compare_df = pd.DataFrame({\"Desired Output (Actuals)\": y_test, \n",
    "                           \"Predicted Output\": y_pred})"
   ]
  },
  {
   "cell_type": "code",
   "execution_count": 135,
   "metadata": {
    "id": "u0xonHDC7ZMD",
    "outputId": "610011b5-7e06-49c2-d703-f339a38461ce",
    "scrolled": true
   },
   "outputs": [
    {
     "data": {
      "text/html": [
       "<div>\n",
       "<style scoped>\n",
       "    .dataframe tbody tr th:only-of-type {\n",
       "        vertical-align: middle;\n",
       "    }\n",
       "\n",
       "    .dataframe tbody tr th {\n",
       "        vertical-align: top;\n",
       "    }\n",
       "\n",
       "    .dataframe thead th {\n",
       "        text-align: right;\n",
       "    }\n",
       "</style>\n",
       "<table border=\"1\" class=\"dataframe\">\n",
       "  <thead>\n",
       "    <tr style=\"text-align: right;\">\n",
       "      <th></th>\n",
       "      <th>Desired Output (Actuals)</th>\n",
       "      <th>Predicted Output</th>\n",
       "    </tr>\n",
       "  </thead>\n",
       "  <tbody>\n",
       "    <tr>\n",
       "      <th>15056</th>\n",
       "      <td>1239.81</td>\n",
       "      <td>1267.171875</td>\n",
       "    </tr>\n",
       "    <tr>\n",
       "      <th>15057</th>\n",
       "      <td>812.18</td>\n",
       "      <td>810.945068</td>\n",
       "    </tr>\n",
       "    <tr>\n",
       "      <th>15058</th>\n",
       "      <td>2324.92</td>\n",
       "      <td>2355.137695</td>\n",
       "    </tr>\n",
       "    <tr>\n",
       "      <th>15059</th>\n",
       "      <td>885.11</td>\n",
       "      <td>884.453125</td>\n",
       "    </tr>\n",
       "    <tr>\n",
       "      <th>15060</th>\n",
       "      <td>2629.90</td>\n",
       "      <td>2635.295898</td>\n",
       "    </tr>\n",
       "    <tr>\n",
       "      <th>...</th>\n",
       "      <td>...</td>\n",
       "      <td>...</td>\n",
       "    </tr>\n",
       "    <tr>\n",
       "      <th>18814</th>\n",
       "      <td>2594.54</td>\n",
       "      <td>2621.624268</td>\n",
       "    </tr>\n",
       "    <tr>\n",
       "      <th>18815</th>\n",
       "      <td>1221.03</td>\n",
       "      <td>1219.926270</td>\n",
       "    </tr>\n",
       "    <tr>\n",
       "      <th>18816</th>\n",
       "      <td>2383.49</td>\n",
       "      <td>2335.338379</td>\n",
       "    </tr>\n",
       "    <tr>\n",
       "      <th>18817</th>\n",
       "      <td>623.22</td>\n",
       "      <td>610.265930</td>\n",
       "    </tr>\n",
       "    <tr>\n",
       "      <th>18818</th>\n",
       "      <td>245.31</td>\n",
       "      <td>245.363647</td>\n",
       "    </tr>\n",
       "  </tbody>\n",
       "</table>\n",
       "<p>3763 rows × 2 columns</p>\n",
       "</div>"
      ],
      "text/plain": [
       "       Desired Output (Actuals)  Predicted Output\n",
       "15056                   1239.81       1267.171875\n",
       "15057                    812.18        810.945068\n",
       "15058                   2324.92       2355.137695\n",
       "15059                    885.11        884.453125\n",
       "15060                   2629.90       2635.295898\n",
       "...                         ...               ...\n",
       "18814                   2594.54       2621.624268\n",
       "18815                   1221.03       1219.926270\n",
       "18816                   2383.49       2335.338379\n",
       "18817                    623.22        610.265930\n",
       "18818                    245.31        245.363647\n",
       "\n",
       "[3763 rows x 2 columns]"
      ]
     },
     "execution_count": 135,
     "metadata": {},
     "output_type": "execute_result"
    }
   ],
   "source": [
    "compare_df"
   ]
  },
  {
   "cell_type": "code",
   "execution_count": 136,
   "metadata": {
    "id": "ZOiB2Sjn7ZME"
   },
   "outputs": [],
   "source": [
    "models.append('Extreme Gradient Boosting')\n",
    "mean_squared_error_list.append(mean_squared_error(y_test, y_pred))\n",
    "training_variance_list.append(explained_variance_score(y_train, xgb.predict(X_train)))\n",
    "testing_variance_list.append(explained_variance_score(y_test, y_pred))\n",
    "r2_list.append(r2_score(y_test, y_pred))"
   ]
  },
  {
   "cell_type": "markdown",
   "metadata": {
    "id": "7200mSTmtYfy"
   },
   "source": [
    "#Model Performance Summary"
   ]
  },
  {
   "cell_type": "code",
   "execution_count": 137,
   "metadata": {
    "id": "D57QcAm9tOGv"
   },
   "outputs": [],
   "source": [
    "model_metrics = pd.DataFrame(zip(models, training_variance_list, testing_variance_list,\n",
    "                                mean_squared_error_list, r2_list), \n",
    "                             columns=['Model', 'Training Variance', 'Testing Variance', 'Mean Square Error', 'R2'])"
   ]
  },
  {
   "cell_type": "code",
   "execution_count": 138,
   "metadata": {
    "id": "5gNHQUFxtTEt",
    "outputId": "89f1c726-cf55-479a-95de-d05852121a02",
    "scrolled": true
   },
   "outputs": [
    {
     "data": {
      "text/html": [
       "<div>\n",
       "<style scoped>\n",
       "    .dataframe tbody tr th:only-of-type {\n",
       "        vertical-align: middle;\n",
       "    }\n",
       "\n",
       "    .dataframe tbody tr th {\n",
       "        vertical-align: top;\n",
       "    }\n",
       "\n",
       "    .dataframe thead th {\n",
       "        text-align: right;\n",
       "    }\n",
       "</style>\n",
       "<table border=\"1\" class=\"dataframe\">\n",
       "  <thead>\n",
       "    <tr style=\"text-align: right;\">\n",
       "      <th></th>\n",
       "      <th>Model</th>\n",
       "      <th>Training Variance</th>\n",
       "      <th>Testing Variance</th>\n",
       "      <th>Mean Square Error</th>\n",
       "      <th>R2</th>\n",
       "    </tr>\n",
       "  </thead>\n",
       "  <tbody>\n",
       "    <tr>\n",
       "      <th>8</th>\n",
       "      <td>Extreme Gradient Boosting</td>\n",
       "      <td>0.999978</td>\n",
       "      <td>0.999819</td>\n",
       "      <td>699.853837</td>\n",
       "      <td>0.999819</td>\n",
       "    </tr>\n",
       "    <tr>\n",
       "      <th>7</th>\n",
       "      <td>Gradient Boosting</td>\n",
       "      <td>0.999908</td>\n",
       "      <td>0.999752</td>\n",
       "      <td>961.296706</td>\n",
       "      <td>0.999752</td>\n",
       "    </tr>\n",
       "    <tr>\n",
       "      <th>4</th>\n",
       "      <td>Random Forest</td>\n",
       "      <td>0.999949</td>\n",
       "      <td>0.999641</td>\n",
       "      <td>1390.453929</td>\n",
       "      <td>0.999641</td>\n",
       "    </tr>\n",
       "    <tr>\n",
       "      <th>3</th>\n",
       "      <td>Decision Tree</td>\n",
       "      <td>0.999977</td>\n",
       "      <td>0.998542</td>\n",
       "      <td>5651.038443</td>\n",
       "      <td>0.998542</td>\n",
       "    </tr>\n",
       "    <tr>\n",
       "      <th>6</th>\n",
       "      <td>Multilevel Perceptron</td>\n",
       "      <td>0.954503</td>\n",
       "      <td>0.956739</td>\n",
       "      <td>167655.330161</td>\n",
       "      <td>0.956729</td>\n",
       "    </tr>\n",
       "    <tr>\n",
       "      <th>1</th>\n",
       "      <td>Lasso- Linear Regression</td>\n",
       "      <td>0.864388</td>\n",
       "      <td>0.870283</td>\n",
       "      <td>502697.240610</td>\n",
       "      <td>0.870258</td>\n",
       "    </tr>\n",
       "    <tr>\n",
       "      <th>0</th>\n",
       "      <td>Baseline- Linear Regression</td>\n",
       "      <td>0.864078</td>\n",
       "      <td>0.869686</td>\n",
       "      <td>505011.256143</td>\n",
       "      <td>0.869660</td>\n",
       "    </tr>\n",
       "    <tr>\n",
       "      <th>2</th>\n",
       "      <td>Ridge- Linear Regression</td>\n",
       "      <td>0.854316</td>\n",
       "      <td>0.861528</td>\n",
       "      <td>536539.523185</td>\n",
       "      <td>0.861523</td>\n",
       "    </tr>\n",
       "    <tr>\n",
       "      <th>5</th>\n",
       "      <td>KNN</td>\n",
       "      <td>0.903904</td>\n",
       "      <td>0.836228</td>\n",
       "      <td>634550.499092</td>\n",
       "      <td>0.836227</td>\n",
       "    </tr>\n",
       "  </tbody>\n",
       "</table>\n",
       "</div>"
      ],
      "text/plain": [
       "                         Model  Training Variance  Testing Variance  \\\n",
       "8    Extreme Gradient Boosting           0.999978          0.999819   \n",
       "7            Gradient Boosting           0.999908          0.999752   \n",
       "4                Random Forest           0.999949          0.999641   \n",
       "3                Decision Tree           0.999977          0.998542   \n",
       "6        Multilevel Perceptron           0.954503          0.956739   \n",
       "1     Lasso- Linear Regression           0.864388          0.870283   \n",
       "0  Baseline- Linear Regression           0.864078          0.869686   \n",
       "2     Ridge- Linear Regression           0.854316          0.861528   \n",
       "5                          KNN           0.903904          0.836228   \n",
       "\n",
       "   Mean Square Error        R2  \n",
       "8         699.853837  0.999819  \n",
       "7         961.296706  0.999752  \n",
       "4        1390.453929  0.999641  \n",
       "3        5651.038443  0.998542  \n",
       "6      167655.330161  0.956729  \n",
       "1      502697.240610  0.870258  \n",
       "0      505011.256143  0.869660  \n",
       "2      536539.523185  0.861523  \n",
       "5      634550.499092  0.836227  "
      ]
     },
     "execution_count": 138,
     "metadata": {},
     "output_type": "execute_result"
    }
   ],
   "source": [
    "model_metrics.sort_values(by='R2', ascending=False)"
   ]
  },
  {
   "cell_type": "markdown",
   "metadata": {
    "id": "EH3I5R-LeeYE"
   },
   "source": [
    "#Predict and Evaluate with the best model"
   ]
  },
  {
   "cell_type": "markdown",
   "metadata": {
    "id": "OCFvDAPltP0E"
   },
   "source": [
    "###Future Prediction"
   ]
  },
  {
   "cell_type": "markdown",
   "metadata": {},
   "source": [
    "https://www.kite.com/python/answers/how-to-convert-a-numpy-array-of-floats-into-integers-in-python"
   ]
  },
  {
   "cell_type": "code",
   "execution_count": 139,
   "metadata": {
    "id": "IfL7tDlP7ZMF",
    "outputId": "b2bb5f88-3ff6-46da-9dd9-8acc32b1b815"
   },
   "outputs": [
    {
     "name": "stdout",
     "output_type": "stream",
     "text": [
      "My target value is   = 1267.17\n",
      "My observed value is = 1239.81\n",
      "Category_Bags                          0\n",
      "Category_Books                         0\n",
      "Category_Clothing                      0\n",
      "Category_Electronics                   0\n",
      "Category_Footwear                      1\n",
      "Category_Home and Kitchen              0\n",
      "SubCategory_Academic                   0\n",
      "SubCategory_Audio and Video            0\n",
      "SubCategory_Bath                       0\n",
      "SubCategory_Cameras                    0\n",
      "SubCategory_Children Books             0\n",
      "SubCategory_Comics                     0\n",
      "SubCategory_Computers                  0\n",
      "SubCategory_DIY                        0\n",
      "SubCategory_Fiction                    0\n",
      "SubCategory_Furnishing                 0\n",
      "SubCategory_Kids' Clothing             0\n",
      "SubCategory_Kids' Footwear             0\n",
      "SubCategory_Kitchen                    0\n",
      "SubCategory_Men's Bag                  0\n",
      "SubCategory_Men's Clothing             0\n",
      "SubCategory_Men's Footwear             1\n",
      "SubCategory_Mobiles                    0\n",
      "SubCategory_Non-Fiction                0\n",
      "SubCategory_Personal Appliances        0\n",
      "SubCategory_Tools                      0\n",
      "SubCategory_Women's Bag                0\n",
      "SubCategory_Women's Clothing           0\n",
      "SubCategory_Women's Footwear           0\n",
      "Store_Type_Flagship store              0\n",
      "Store_Type_MBR                         0\n",
      "Store_Type_TeleShop                    1\n",
      "Store_Type_e-Shop                      0\n",
      "Gender                                 0\n",
      "Age                                   28\n",
      "Qty                                    2\n",
      "Year                                2011\n",
      "Price_*_Age                        15708\n",
      "Name: 15056, dtype: int32\n"
     ]
    }
   ],
   "source": [
    "my_features = X_test.iloc[0]\n",
    "own_pred = xgb.predict(X_test.iloc[[0]])\n",
    "my_features = my_features.astype(int)\n",
    "print(\"My target value is   =\", round(own_pred[0],2))\n",
    "print(\"My observed value is =\", str(y_test.iloc[0]))\n",
    "print(my_features)"
   ]
  },
  {
   "cell_type": "markdown",
   "metadata": {},
   "source": [
    "With 1 random data for prediction"
   ]
  },
  {
   "cell_type": "code",
   "execution_count": 143,
   "metadata": {},
   "outputs": [
    {
     "name": "stdout",
     "output_type": "stream",
     "text": [
      "My target value is   = 833.47\n",
      "This was the input data:\n",
      "Category_Bags                          0\n",
      "Category_Books                         1\n",
      "Category_Clothing                      0\n",
      "Category_Electronics                   0\n",
      "Category_Footwear                      0\n",
      "Category_Home and Kitchen              0\n",
      "SubCategory_Academic                   0\n",
      "SubCategory_Audio and Video            0\n",
      "SubCategory_Bath                       0\n",
      "SubCategory_Cameras                    0\n",
      "SubCategory_Children Books             0\n",
      "SubCategory_Comics                     0\n",
      "SubCategory_Computers                  0\n",
      "SubCategory_DIY                        0\n",
      "SubCategory_Fiction                    0\n",
      "SubCategory_Furnishing                 0\n",
      "SubCategory_Kids' Clothing             0\n",
      "SubCategory_Kids' Footwear             0\n",
      "SubCategory_Kitchen                    0\n",
      "SubCategory_Men's Bag                  0\n",
      "SubCategory_Men's Clothing             0\n",
      "SubCategory_Men's Footwear             0\n",
      "SubCategory_Mobiles                    0\n",
      "SubCategory_Non-Fiction                1\n",
      "SubCategory_Personal Appliances        0\n",
      "SubCategory_Tools                      0\n",
      "SubCategory_Women's Bag                0\n",
      "SubCategory_Women's Clothing           0\n",
      "SubCategory_Women's Footwear           0\n",
      "Store_Type_Flagship store              0\n",
      "Store_Type_MBR                         0\n",
      "Store_Type_TeleShop                    0\n",
      "Store_Type_e-Shop                      1\n",
      "Gender                                 1\n",
      "Age                                   33\n",
      "Qty                                    2\n",
      "Year                                2013\n",
      "Price_*_Age                        12672\n",
      "Name: 15515, dtype: int32\n"
     ]
    }
   ],
   "source": [
    "my_features = X_test.iloc[np.random.randint(0, len(X_test))]\n",
    "own_pred = xgb.predict(my_features.to_numpy().reshape(1,-1))\n",
    "my_features = my_features.astype(int)\n",
    "print(\"My target value is   =\", str(round(own_pred[0], 2)))\n",
    "print(\"This was the input data:\")\n",
    "print(my_features)"
   ]
  },
  {
   "cell_type": "markdown",
   "metadata": {},
   "source": [
    "https://stackoverflow.com/questions/59406045/convert-pandas-series-into-a-row"
   ]
  },
  {
   "cell_type": "code",
   "execution_count": 144,
   "metadata": {},
   "outputs": [
    {
     "name": "stdout",
     "output_type": "stream",
     "text": [
      "       Age  Category_Bags  Category_Books  Category_Clothing  \\\n",
      "17548   36              0               0                  0   \n",
      "\n",
      "       Category_Electronics  Category_Footwear  Category_Home and Kitchen  \\\n",
      "17548                     0                  0                          1   \n",
      "\n",
      "       Gender  Price_*_Age  Qty  ...  SubCategory_Men's Footwear  \\\n",
      "17548       0        18504    2  ...                           0   \n",
      "\n",
      "       SubCategory_Mobiles  SubCategory_Non-Fiction  \\\n",
      "17548                    0                        0   \n",
      "\n",
      "       SubCategory_Personal Appliances  SubCategory_Tools  \\\n",
      "17548                                0                  1   \n",
      "\n",
      "       SubCategory_Women's Bag  SubCategory_Women's Clothing  \\\n",
      "17548                        0                             0   \n",
      "\n",
      "       SubCategory_Women's Footwear  Year  Predicted  \n",
      "17548                             0  2013    1139.96  \n",
      "\n",
      "[1 rows x 39 columns]\n"
     ]
    }
   ],
   "source": [
    "#into data frame\n",
    "my_features = X_test.iloc[np.random.randint(0, len(X_test))]\n",
    "own_pred = xgb.predict(my_features.to_numpy().reshape(1,-1))\n",
    "my_features = my_features.astype(int)\n",
    "s = my_features.sort_index()\n",
    "#become dataframe\n",
    "df = s.to_frame().T\n",
    "#add prediction column\n",
    "df[\"Predicted\"] = str(round(own_pred[0], 2))\n",
    "print(df)"
   ]
  },
  {
   "cell_type": "markdown",
   "metadata": {},
   "source": [
    "With 10 random data for prediction"
   ]
  },
  {
   "cell_type": "markdown",
   "metadata": {},
   "source": [
    "https://stackoverflow.com/questions/28669482/appending-pandas-dataframes-generated-in-a-for-loop"
   ]
  },
  {
   "cell_type": "code",
   "execution_count": 148,
   "metadata": {
    "id": "aO3w9zPZtO-6",
    "outputId": "62acffb7-f16a-49cf-facf-3e05d49471e3",
    "scrolled": false
   },
   "outputs": [],
   "source": [
    "num = 10\n",
    "data = []\n",
    "for own_pred in range(num):\n",
    "    my_features = X_test.iloc[np.random.randint(0, len(X_test))]\n",
    "    own_pred = xgb.predict(my_features.to_numpy().reshape(1,-1))\n",
    "    my_features = my_features.astype(int)\n",
    "    s = my_features.sort_index()\n",
    "    df = s.to_frame().T\n",
    "    #add prediction column\n",
    "    df[\"Predicted\"] = str(round(own_pred[0], 2))\n",
    "    #add the prediction column inside the df\n",
    "    data.append(df)\n",
    "#Add the 10 loops together    \n",
    "data = pd.concat(data)"
   ]
  },
  {
   "cell_type": "code",
   "execution_count": 149,
   "metadata": {
    "scrolled": false
   },
   "outputs": [
    {
     "data": {
      "text/html": [
       "<div>\n",
       "<style scoped>\n",
       "    .dataframe tbody tr th:only-of-type {\n",
       "        vertical-align: middle;\n",
       "    }\n",
       "\n",
       "    .dataframe tbody tr th {\n",
       "        vertical-align: top;\n",
       "    }\n",
       "\n",
       "    .dataframe thead th {\n",
       "        text-align: right;\n",
       "    }\n",
       "</style>\n",
       "<table border=\"1\" class=\"dataframe\">\n",
       "  <thead>\n",
       "    <tr style=\"text-align: right;\">\n",
       "      <th></th>\n",
       "      <th>Age</th>\n",
       "      <th>Category_Bags</th>\n",
       "      <th>Category_Books</th>\n",
       "      <th>Category_Clothing</th>\n",
       "      <th>Category_Electronics</th>\n",
       "      <th>Category_Footwear</th>\n",
       "      <th>Category_Home and Kitchen</th>\n",
       "      <th>Gender</th>\n",
       "      <th>Price_*_Age</th>\n",
       "      <th>Qty</th>\n",
       "      <th>...</th>\n",
       "      <th>SubCategory_Men's Footwear</th>\n",
       "      <th>SubCategory_Mobiles</th>\n",
       "      <th>SubCategory_Non-Fiction</th>\n",
       "      <th>SubCategory_Personal Appliances</th>\n",
       "      <th>SubCategory_Tools</th>\n",
       "      <th>SubCategory_Women's Bag</th>\n",
       "      <th>SubCategory_Women's Clothing</th>\n",
       "      <th>SubCategory_Women's Footwear</th>\n",
       "      <th>Year</th>\n",
       "      <th>Predicted</th>\n",
       "    </tr>\n",
       "  </thead>\n",
       "  <tbody>\n",
       "    <tr>\n",
       "      <th>17644</th>\n",
       "      <td>38</td>\n",
       "      <td>0</td>\n",
       "      <td>1</td>\n",
       "      <td>0</td>\n",
       "      <td>0</td>\n",
       "      <td>0</td>\n",
       "      <td>0</td>\n",
       "      <td>1</td>\n",
       "      <td>53352</td>\n",
       "      <td>2</td>\n",
       "      <td>...</td>\n",
       "      <td>0</td>\n",
       "      <td>0</td>\n",
       "      <td>1</td>\n",
       "      <td>0</td>\n",
       "      <td>0</td>\n",
       "      <td>0</td>\n",
       "      <td>0</td>\n",
       "      <td>0</td>\n",
       "      <td>2014</td>\n",
       "      <td>3108.46</td>\n",
       "    </tr>\n",
       "    <tr>\n",
       "      <th>15212</th>\n",
       "      <td>38</td>\n",
       "      <td>1</td>\n",
       "      <td>0</td>\n",
       "      <td>0</td>\n",
       "      <td>0</td>\n",
       "      <td>0</td>\n",
       "      <td>0</td>\n",
       "      <td>0</td>\n",
       "      <td>5396</td>\n",
       "      <td>2</td>\n",
       "      <td>...</td>\n",
       "      <td>0</td>\n",
       "      <td>0</td>\n",
       "      <td>0</td>\n",
       "      <td>0</td>\n",
       "      <td>0</td>\n",
       "      <td>1</td>\n",
       "      <td>0</td>\n",
       "      <td>0</td>\n",
       "      <td>2011</td>\n",
       "      <td>317.28</td>\n",
       "    </tr>\n",
       "    <tr>\n",
       "      <th>17274</th>\n",
       "      <td>28</td>\n",
       "      <td>0</td>\n",
       "      <td>0</td>\n",
       "      <td>1</td>\n",
       "      <td>0</td>\n",
       "      <td>0</td>\n",
       "      <td>0</td>\n",
       "      <td>0</td>\n",
       "      <td>4312</td>\n",
       "      <td>1</td>\n",
       "      <td>...</td>\n",
       "      <td>0</td>\n",
       "      <td>0</td>\n",
       "      <td>0</td>\n",
       "      <td>0</td>\n",
       "      <td>0</td>\n",
       "      <td>0</td>\n",
       "      <td>0</td>\n",
       "      <td>0</td>\n",
       "      <td>2011</td>\n",
       "      <td>188.77</td>\n",
       "    </tr>\n",
       "    <tr>\n",
       "      <th>18072</th>\n",
       "      <td>30</td>\n",
       "      <td>0</td>\n",
       "      <td>1</td>\n",
       "      <td>0</td>\n",
       "      <td>0</td>\n",
       "      <td>0</td>\n",
       "      <td>0</td>\n",
       "      <td>0</td>\n",
       "      <td>36960</td>\n",
       "      <td>1</td>\n",
       "      <td>...</td>\n",
       "      <td>0</td>\n",
       "      <td>0</td>\n",
       "      <td>0</td>\n",
       "      <td>0</td>\n",
       "      <td>0</td>\n",
       "      <td>0</td>\n",
       "      <td>0</td>\n",
       "      <td>0</td>\n",
       "      <td>2013</td>\n",
       "      <td>1342.18</td>\n",
       "    </tr>\n",
       "    <tr>\n",
       "      <th>17839</th>\n",
       "      <td>21</td>\n",
       "      <td>0</td>\n",
       "      <td>1</td>\n",
       "      <td>0</td>\n",
       "      <td>0</td>\n",
       "      <td>0</td>\n",
       "      <td>0</td>\n",
       "      <td>0</td>\n",
       "      <td>27699</td>\n",
       "      <td>5</td>\n",
       "      <td>...</td>\n",
       "      <td>0</td>\n",
       "      <td>0</td>\n",
       "      <td>0</td>\n",
       "      <td>0</td>\n",
       "      <td>0</td>\n",
       "      <td>0</td>\n",
       "      <td>0</td>\n",
       "      <td>0</td>\n",
       "      <td>2012</td>\n",
       "      <td>7313.47</td>\n",
       "    </tr>\n",
       "  </tbody>\n",
       "</table>\n",
       "<p>5 rows × 39 columns</p>\n",
       "</div>"
      ],
      "text/plain": [
       "       Age  Category_Bags  Category_Books  Category_Clothing  \\\n",
       "17644   38              0               1                  0   \n",
       "15212   38              1               0                  0   \n",
       "17274   28              0               0                  1   \n",
       "18072   30              0               1                  0   \n",
       "17839   21              0               1                  0   \n",
       "\n",
       "       Category_Electronics  Category_Footwear  Category_Home and Kitchen  \\\n",
       "17644                     0                  0                          0   \n",
       "15212                     0                  0                          0   \n",
       "17274                     0                  0                          0   \n",
       "18072                     0                  0                          0   \n",
       "17839                     0                  0                          0   \n",
       "\n",
       "       Gender  Price_*_Age  Qty  ...  SubCategory_Men's Footwear  \\\n",
       "17644       1        53352    2  ...                           0   \n",
       "15212       0         5396    2  ...                           0   \n",
       "17274       0         4312    1  ...                           0   \n",
       "18072       0        36960    1  ...                           0   \n",
       "17839       0        27699    5  ...                           0   \n",
       "\n",
       "       SubCategory_Mobiles  SubCategory_Non-Fiction  \\\n",
       "17644                    0                        1   \n",
       "15212                    0                        0   \n",
       "17274                    0                        0   \n",
       "18072                    0                        0   \n",
       "17839                    0                        0   \n",
       "\n",
       "       SubCategory_Personal Appliances  SubCategory_Tools  \\\n",
       "17644                                0                  0   \n",
       "15212                                0                  0   \n",
       "17274                                0                  0   \n",
       "18072                                0                  0   \n",
       "17839                                0                  0   \n",
       "\n",
       "       SubCategory_Women's Bag  SubCategory_Women's Clothing  \\\n",
       "17644                        0                             0   \n",
       "15212                        1                             0   \n",
       "17274                        0                             0   \n",
       "18072                        0                             0   \n",
       "17839                        0                             0   \n",
       "\n",
       "       SubCategory_Women's Footwear  Year  Predicted  \n",
       "17644                             0  2014    3108.46  \n",
       "15212                             0  2011     317.28  \n",
       "17274                             0  2011     188.77  \n",
       "18072                             0  2013    1342.18  \n",
       "17839                             0  2012    7313.47  \n",
       "\n",
       "[5 rows x 39 columns]"
      ]
     },
     "execution_count": 149,
     "metadata": {},
     "output_type": "execute_result"
    }
   ],
   "source": [
    "data.head()"
   ]
  },
  {
   "cell_type": "code",
   "execution_count": 150,
   "metadata": {},
   "outputs": [
    {
     "name": "stdout",
     "output_type": "stream",
     "text": [
      "Index(['Age', 'Category_Bags', 'Category_Books', 'Category_Clothing',\n",
      "       'Category_Electronics', 'Category_Footwear',\n",
      "       'Category_Home and Kitchen', 'Gender', 'Price_*_Age', 'Qty',\n",
      "       'Store_Type_Flagship store', 'Store_Type_MBR', 'Store_Type_TeleShop',\n",
      "       'Store_Type_e-Shop', 'SubCategory_Academic',\n",
      "       'SubCategory_Audio and Video', 'SubCategory_Bath',\n",
      "       'SubCategory_Cameras', 'SubCategory_Children Books',\n",
      "       'SubCategory_Comics', 'SubCategory_Computers', 'SubCategory_DIY',\n",
      "       'SubCategory_Fiction', 'SubCategory_Furnishing',\n",
      "       'SubCategory_Kids' Clothing', 'SubCategory_Kids' Footwear',\n",
      "       'SubCategory_Kitchen', 'SubCategory_Men's Bag',\n",
      "       'SubCategory_Men's Clothing', 'SubCategory_Men's Footwear',\n",
      "       'SubCategory_Mobiles', 'SubCategory_Non-Fiction',\n",
      "       'SubCategory_Personal Appliances', 'SubCategory_Tools',\n",
      "       'SubCategory_Women's Bag', 'SubCategory_Women's Clothing',\n",
      "       'SubCategory_Women's Footwear', 'Year', 'Predicted'],\n",
      "      dtype='object')\n"
     ]
    }
   ],
   "source": [
    "print(data.columns)"
   ]
  },
  {
   "cell_type": "markdown",
   "metadata": {},
   "source": [
    "#Convert back the category, subcategory, store_type, gender"
   ]
  },
  {
   "cell_type": "code",
   "execution_count": 151,
   "metadata": {},
   "outputs": [],
   "source": [
    "category = data.iloc[:,1:7]"
   ]
  },
  {
   "cell_type": "code",
   "execution_count": 152,
   "metadata": {
    "scrolled": true
   },
   "outputs": [
    {
     "data": {
      "text/html": [
       "<div>\n",
       "<style scoped>\n",
       "    .dataframe tbody tr th:only-of-type {\n",
       "        vertical-align: middle;\n",
       "    }\n",
       "\n",
       "    .dataframe tbody tr th {\n",
       "        vertical-align: top;\n",
       "    }\n",
       "\n",
       "    .dataframe thead th {\n",
       "        text-align: right;\n",
       "    }\n",
       "</style>\n",
       "<table border=\"1\" class=\"dataframe\">\n",
       "  <thead>\n",
       "    <tr style=\"text-align: right;\">\n",
       "      <th></th>\n",
       "      <th>Category_Bags</th>\n",
       "      <th>Category_Books</th>\n",
       "      <th>Category_Clothing</th>\n",
       "      <th>Category_Electronics</th>\n",
       "      <th>Category_Footwear</th>\n",
       "      <th>Category_Home and Kitchen</th>\n",
       "    </tr>\n",
       "  </thead>\n",
       "  <tbody>\n",
       "    <tr>\n",
       "      <th>17644</th>\n",
       "      <td>0</td>\n",
       "      <td>1</td>\n",
       "      <td>0</td>\n",
       "      <td>0</td>\n",
       "      <td>0</td>\n",
       "      <td>0</td>\n",
       "    </tr>\n",
       "    <tr>\n",
       "      <th>15212</th>\n",
       "      <td>1</td>\n",
       "      <td>0</td>\n",
       "      <td>0</td>\n",
       "      <td>0</td>\n",
       "      <td>0</td>\n",
       "      <td>0</td>\n",
       "    </tr>\n",
       "    <tr>\n",
       "      <th>17274</th>\n",
       "      <td>0</td>\n",
       "      <td>0</td>\n",
       "      <td>1</td>\n",
       "      <td>0</td>\n",
       "      <td>0</td>\n",
       "      <td>0</td>\n",
       "    </tr>\n",
       "    <tr>\n",
       "      <th>18072</th>\n",
       "      <td>0</td>\n",
       "      <td>1</td>\n",
       "      <td>0</td>\n",
       "      <td>0</td>\n",
       "      <td>0</td>\n",
       "      <td>0</td>\n",
       "    </tr>\n",
       "    <tr>\n",
       "      <th>17839</th>\n",
       "      <td>0</td>\n",
       "      <td>1</td>\n",
       "      <td>0</td>\n",
       "      <td>0</td>\n",
       "      <td>0</td>\n",
       "      <td>0</td>\n",
       "    </tr>\n",
       "    <tr>\n",
       "      <th>15112</th>\n",
       "      <td>0</td>\n",
       "      <td>0</td>\n",
       "      <td>0</td>\n",
       "      <td>1</td>\n",
       "      <td>0</td>\n",
       "      <td>0</td>\n",
       "    </tr>\n",
       "    <tr>\n",
       "      <th>18097</th>\n",
       "      <td>0</td>\n",
       "      <td>1</td>\n",
       "      <td>0</td>\n",
       "      <td>0</td>\n",
       "      <td>0</td>\n",
       "      <td>0</td>\n",
       "    </tr>\n",
       "    <tr>\n",
       "      <th>17392</th>\n",
       "      <td>0</td>\n",
       "      <td>0</td>\n",
       "      <td>0</td>\n",
       "      <td>0</td>\n",
       "      <td>1</td>\n",
       "      <td>0</td>\n",
       "    </tr>\n",
       "    <tr>\n",
       "      <th>17107</th>\n",
       "      <td>0</td>\n",
       "      <td>0</td>\n",
       "      <td>1</td>\n",
       "      <td>0</td>\n",
       "      <td>0</td>\n",
       "      <td>0</td>\n",
       "    </tr>\n",
       "    <tr>\n",
       "      <th>17897</th>\n",
       "      <td>0</td>\n",
       "      <td>0</td>\n",
       "      <td>0</td>\n",
       "      <td>1</td>\n",
       "      <td>0</td>\n",
       "      <td>0</td>\n",
       "    </tr>\n",
       "  </tbody>\n",
       "</table>\n",
       "</div>"
      ],
      "text/plain": [
       "       Category_Bags  Category_Books  Category_Clothing  Category_Electronics  \\\n",
       "17644              0               1                  0                     0   \n",
       "15212              1               0                  0                     0   \n",
       "17274              0               0                  1                     0   \n",
       "18072              0               1                  0                     0   \n",
       "17839              0               1                  0                     0   \n",
       "15112              0               0                  0                     1   \n",
       "18097              0               1                  0                     0   \n",
       "17392              0               0                  0                     0   \n",
       "17107              0               0                  1                     0   \n",
       "17897              0               0                  0                     1   \n",
       "\n",
       "       Category_Footwear  Category_Home and Kitchen  \n",
       "17644                  0                          0  \n",
       "15212                  0                          0  \n",
       "17274                  0                          0  \n",
       "18072                  0                          0  \n",
       "17839                  0                          0  \n",
       "15112                  0                          0  \n",
       "18097                  0                          0  \n",
       "17392                  1                          0  \n",
       "17107                  0                          0  \n",
       "17897                  0                          0  "
      ]
     },
     "execution_count": 152,
     "metadata": {},
     "output_type": "execute_result"
    }
   ],
   "source": [
    "category"
   ]
  },
  {
   "cell_type": "markdown",
   "metadata": {},
   "source": [
    "https://stackoverflow.com/questions/26762100/reconstruct-a-categorical-variable-from-dummies-in-pandas"
   ]
  },
  {
   "cell_type": "code",
   "execution_count": 153,
   "metadata": {},
   "outputs": [
    {
     "data": {
      "text/plain": [
       "0          Category_Books\n",
       "1           Category_Bags\n",
       "2       Category_Clothing\n",
       "3          Category_Books\n",
       "4          Category_Books\n",
       "5    Category_Electronics\n",
       "6          Category_Books\n",
       "7       Category_Footwear\n",
       "8       Category_Clothing\n",
       "9    Category_Electronics\n",
       "dtype: category\n",
       "Categories (5, object): ['Category_Bags', 'Category_Books', 'Category_Clothing', 'Category_Electronics', 'Category_Footwear']"
      ]
     },
     "execution_count": 153,
     "metadata": {},
     "output_type": "execute_result"
    }
   ],
   "source": [
    "#numerical to categorical \n",
    "x = category.stack()\n",
    "category = Series(pd.Categorical(x[x!=0].index.get_level_values(1)))\n",
    "category"
   ]
  },
  {
   "cell_type": "code",
   "execution_count": 154,
   "metadata": {},
   "outputs": [],
   "source": [
    "sub_category = data.iloc[:,14:37]"
   ]
  },
  {
   "cell_type": "code",
   "execution_count": 155,
   "metadata": {},
   "outputs": [
    {
     "data": {
      "text/html": [
       "<div>\n",
       "<style scoped>\n",
       "    .dataframe tbody tr th:only-of-type {\n",
       "        vertical-align: middle;\n",
       "    }\n",
       "\n",
       "    .dataframe tbody tr th {\n",
       "        vertical-align: top;\n",
       "    }\n",
       "\n",
       "    .dataframe thead th {\n",
       "        text-align: right;\n",
       "    }\n",
       "</style>\n",
       "<table border=\"1\" class=\"dataframe\">\n",
       "  <thead>\n",
       "    <tr style=\"text-align: right;\">\n",
       "      <th></th>\n",
       "      <th>SubCategory_Academic</th>\n",
       "      <th>SubCategory_Audio and Video</th>\n",
       "      <th>SubCategory_Bath</th>\n",
       "      <th>SubCategory_Cameras</th>\n",
       "      <th>SubCategory_Children Books</th>\n",
       "      <th>SubCategory_Comics</th>\n",
       "      <th>SubCategory_Computers</th>\n",
       "      <th>SubCategory_DIY</th>\n",
       "      <th>SubCategory_Fiction</th>\n",
       "      <th>SubCategory_Furnishing</th>\n",
       "      <th>...</th>\n",
       "      <th>SubCategory_Men's Bag</th>\n",
       "      <th>SubCategory_Men's Clothing</th>\n",
       "      <th>SubCategory_Men's Footwear</th>\n",
       "      <th>SubCategory_Mobiles</th>\n",
       "      <th>SubCategory_Non-Fiction</th>\n",
       "      <th>SubCategory_Personal Appliances</th>\n",
       "      <th>SubCategory_Tools</th>\n",
       "      <th>SubCategory_Women's Bag</th>\n",
       "      <th>SubCategory_Women's Clothing</th>\n",
       "      <th>SubCategory_Women's Footwear</th>\n",
       "    </tr>\n",
       "  </thead>\n",
       "  <tbody>\n",
       "    <tr>\n",
       "      <th>17644</th>\n",
       "      <td>0</td>\n",
       "      <td>0</td>\n",
       "      <td>0</td>\n",
       "      <td>0</td>\n",
       "      <td>0</td>\n",
       "      <td>0</td>\n",
       "      <td>0</td>\n",
       "      <td>0</td>\n",
       "      <td>0</td>\n",
       "      <td>0</td>\n",
       "      <td>...</td>\n",
       "      <td>0</td>\n",
       "      <td>0</td>\n",
       "      <td>0</td>\n",
       "      <td>0</td>\n",
       "      <td>1</td>\n",
       "      <td>0</td>\n",
       "      <td>0</td>\n",
       "      <td>0</td>\n",
       "      <td>0</td>\n",
       "      <td>0</td>\n",
       "    </tr>\n",
       "    <tr>\n",
       "      <th>15212</th>\n",
       "      <td>0</td>\n",
       "      <td>0</td>\n",
       "      <td>0</td>\n",
       "      <td>0</td>\n",
       "      <td>0</td>\n",
       "      <td>0</td>\n",
       "      <td>0</td>\n",
       "      <td>0</td>\n",
       "      <td>0</td>\n",
       "      <td>0</td>\n",
       "      <td>...</td>\n",
       "      <td>0</td>\n",
       "      <td>0</td>\n",
       "      <td>0</td>\n",
       "      <td>0</td>\n",
       "      <td>0</td>\n",
       "      <td>0</td>\n",
       "      <td>0</td>\n",
       "      <td>1</td>\n",
       "      <td>0</td>\n",
       "      <td>0</td>\n",
       "    </tr>\n",
       "    <tr>\n",
       "      <th>17274</th>\n",
       "      <td>0</td>\n",
       "      <td>0</td>\n",
       "      <td>0</td>\n",
       "      <td>0</td>\n",
       "      <td>0</td>\n",
       "      <td>0</td>\n",
       "      <td>0</td>\n",
       "      <td>0</td>\n",
       "      <td>0</td>\n",
       "      <td>0</td>\n",
       "      <td>...</td>\n",
       "      <td>0</td>\n",
       "      <td>1</td>\n",
       "      <td>0</td>\n",
       "      <td>0</td>\n",
       "      <td>0</td>\n",
       "      <td>0</td>\n",
       "      <td>0</td>\n",
       "      <td>0</td>\n",
       "      <td>0</td>\n",
       "      <td>0</td>\n",
       "    </tr>\n",
       "    <tr>\n",
       "      <th>18072</th>\n",
       "      <td>0</td>\n",
       "      <td>0</td>\n",
       "      <td>0</td>\n",
       "      <td>0</td>\n",
       "      <td>1</td>\n",
       "      <td>0</td>\n",
       "      <td>0</td>\n",
       "      <td>0</td>\n",
       "      <td>0</td>\n",
       "      <td>0</td>\n",
       "      <td>...</td>\n",
       "      <td>0</td>\n",
       "      <td>0</td>\n",
       "      <td>0</td>\n",
       "      <td>0</td>\n",
       "      <td>0</td>\n",
       "      <td>0</td>\n",
       "      <td>0</td>\n",
       "      <td>0</td>\n",
       "      <td>0</td>\n",
       "      <td>0</td>\n",
       "    </tr>\n",
       "    <tr>\n",
       "      <th>17839</th>\n",
       "      <td>0</td>\n",
       "      <td>0</td>\n",
       "      <td>0</td>\n",
       "      <td>0</td>\n",
       "      <td>1</td>\n",
       "      <td>0</td>\n",
       "      <td>0</td>\n",
       "      <td>0</td>\n",
       "      <td>0</td>\n",
       "      <td>0</td>\n",
       "      <td>...</td>\n",
       "      <td>0</td>\n",
       "      <td>0</td>\n",
       "      <td>0</td>\n",
       "      <td>0</td>\n",
       "      <td>0</td>\n",
       "      <td>0</td>\n",
       "      <td>0</td>\n",
       "      <td>0</td>\n",
       "      <td>0</td>\n",
       "      <td>0</td>\n",
       "    </tr>\n",
       "    <tr>\n",
       "      <th>15112</th>\n",
       "      <td>0</td>\n",
       "      <td>0</td>\n",
       "      <td>0</td>\n",
       "      <td>1</td>\n",
       "      <td>0</td>\n",
       "      <td>0</td>\n",
       "      <td>0</td>\n",
       "      <td>0</td>\n",
       "      <td>0</td>\n",
       "      <td>0</td>\n",
       "      <td>...</td>\n",
       "      <td>0</td>\n",
       "      <td>0</td>\n",
       "      <td>0</td>\n",
       "      <td>0</td>\n",
       "      <td>0</td>\n",
       "      <td>0</td>\n",
       "      <td>0</td>\n",
       "      <td>0</td>\n",
       "      <td>0</td>\n",
       "      <td>0</td>\n",
       "    </tr>\n",
       "    <tr>\n",
       "      <th>18097</th>\n",
       "      <td>0</td>\n",
       "      <td>0</td>\n",
       "      <td>0</td>\n",
       "      <td>0</td>\n",
       "      <td>0</td>\n",
       "      <td>0</td>\n",
       "      <td>0</td>\n",
       "      <td>0</td>\n",
       "      <td>1</td>\n",
       "      <td>0</td>\n",
       "      <td>...</td>\n",
       "      <td>0</td>\n",
       "      <td>0</td>\n",
       "      <td>0</td>\n",
       "      <td>0</td>\n",
       "      <td>0</td>\n",
       "      <td>0</td>\n",
       "      <td>0</td>\n",
       "      <td>0</td>\n",
       "      <td>0</td>\n",
       "      <td>0</td>\n",
       "    </tr>\n",
       "    <tr>\n",
       "      <th>17392</th>\n",
       "      <td>0</td>\n",
       "      <td>0</td>\n",
       "      <td>0</td>\n",
       "      <td>0</td>\n",
       "      <td>0</td>\n",
       "      <td>0</td>\n",
       "      <td>0</td>\n",
       "      <td>0</td>\n",
       "      <td>0</td>\n",
       "      <td>0</td>\n",
       "      <td>...</td>\n",
       "      <td>0</td>\n",
       "      <td>0</td>\n",
       "      <td>0</td>\n",
       "      <td>0</td>\n",
       "      <td>0</td>\n",
       "      <td>0</td>\n",
       "      <td>0</td>\n",
       "      <td>0</td>\n",
       "      <td>0</td>\n",
       "      <td>0</td>\n",
       "    </tr>\n",
       "    <tr>\n",
       "      <th>17107</th>\n",
       "      <td>0</td>\n",
       "      <td>0</td>\n",
       "      <td>0</td>\n",
       "      <td>0</td>\n",
       "      <td>0</td>\n",
       "      <td>0</td>\n",
       "      <td>0</td>\n",
       "      <td>0</td>\n",
       "      <td>0</td>\n",
       "      <td>0</td>\n",
       "      <td>...</td>\n",
       "      <td>0</td>\n",
       "      <td>0</td>\n",
       "      <td>0</td>\n",
       "      <td>0</td>\n",
       "      <td>0</td>\n",
       "      <td>0</td>\n",
       "      <td>0</td>\n",
       "      <td>0</td>\n",
       "      <td>0</td>\n",
       "      <td>0</td>\n",
       "    </tr>\n",
       "    <tr>\n",
       "      <th>17897</th>\n",
       "      <td>0</td>\n",
       "      <td>0</td>\n",
       "      <td>0</td>\n",
       "      <td>1</td>\n",
       "      <td>0</td>\n",
       "      <td>0</td>\n",
       "      <td>0</td>\n",
       "      <td>0</td>\n",
       "      <td>0</td>\n",
       "      <td>0</td>\n",
       "      <td>...</td>\n",
       "      <td>0</td>\n",
       "      <td>0</td>\n",
       "      <td>0</td>\n",
       "      <td>0</td>\n",
       "      <td>0</td>\n",
       "      <td>0</td>\n",
       "      <td>0</td>\n",
       "      <td>0</td>\n",
       "      <td>0</td>\n",
       "      <td>0</td>\n",
       "    </tr>\n",
       "  </tbody>\n",
       "</table>\n",
       "<p>10 rows × 23 columns</p>\n",
       "</div>"
      ],
      "text/plain": [
       "       SubCategory_Academic  SubCategory_Audio and Video  SubCategory_Bath  \\\n",
       "17644                     0                            0                 0   \n",
       "15212                     0                            0                 0   \n",
       "17274                     0                            0                 0   \n",
       "18072                     0                            0                 0   \n",
       "17839                     0                            0                 0   \n",
       "15112                     0                            0                 0   \n",
       "18097                     0                            0                 0   \n",
       "17392                     0                            0                 0   \n",
       "17107                     0                            0                 0   \n",
       "17897                     0                            0                 0   \n",
       "\n",
       "       SubCategory_Cameras  SubCategory_Children Books  SubCategory_Comics  \\\n",
       "17644                    0                           0                   0   \n",
       "15212                    0                           0                   0   \n",
       "17274                    0                           0                   0   \n",
       "18072                    0                           1                   0   \n",
       "17839                    0                           1                   0   \n",
       "15112                    1                           0                   0   \n",
       "18097                    0                           0                   0   \n",
       "17392                    0                           0                   0   \n",
       "17107                    0                           0                   0   \n",
       "17897                    1                           0                   0   \n",
       "\n",
       "       SubCategory_Computers  SubCategory_DIY  SubCategory_Fiction  \\\n",
       "17644                      0                0                    0   \n",
       "15212                      0                0                    0   \n",
       "17274                      0                0                    0   \n",
       "18072                      0                0                    0   \n",
       "17839                      0                0                    0   \n",
       "15112                      0                0                    0   \n",
       "18097                      0                0                    1   \n",
       "17392                      0                0                    0   \n",
       "17107                      0                0                    0   \n",
       "17897                      0                0                    0   \n",
       "\n",
       "       SubCategory_Furnishing  ...  SubCategory_Men's Bag  \\\n",
       "17644                       0  ...                      0   \n",
       "15212                       0  ...                      0   \n",
       "17274                       0  ...                      0   \n",
       "18072                       0  ...                      0   \n",
       "17839                       0  ...                      0   \n",
       "15112                       0  ...                      0   \n",
       "18097                       0  ...                      0   \n",
       "17392                       0  ...                      0   \n",
       "17107                       0  ...                      0   \n",
       "17897                       0  ...                      0   \n",
       "\n",
       "       SubCategory_Men's Clothing  SubCategory_Men's Footwear  \\\n",
       "17644                           0                           0   \n",
       "15212                           0                           0   \n",
       "17274                           1                           0   \n",
       "18072                           0                           0   \n",
       "17839                           0                           0   \n",
       "15112                           0                           0   \n",
       "18097                           0                           0   \n",
       "17392                           0                           0   \n",
       "17107                           0                           0   \n",
       "17897                           0                           0   \n",
       "\n",
       "       SubCategory_Mobiles  SubCategory_Non-Fiction  \\\n",
       "17644                    0                        1   \n",
       "15212                    0                        0   \n",
       "17274                    0                        0   \n",
       "18072                    0                        0   \n",
       "17839                    0                        0   \n",
       "15112                    0                        0   \n",
       "18097                    0                        0   \n",
       "17392                    0                        0   \n",
       "17107                    0                        0   \n",
       "17897                    0                        0   \n",
       "\n",
       "       SubCategory_Personal Appliances  SubCategory_Tools  \\\n",
       "17644                                0                  0   \n",
       "15212                                0                  0   \n",
       "17274                                0                  0   \n",
       "18072                                0                  0   \n",
       "17839                                0                  0   \n",
       "15112                                0                  0   \n",
       "18097                                0                  0   \n",
       "17392                                0                  0   \n",
       "17107                                0                  0   \n",
       "17897                                0                  0   \n",
       "\n",
       "       SubCategory_Women's Bag  SubCategory_Women's Clothing  \\\n",
       "17644                        0                             0   \n",
       "15212                        1                             0   \n",
       "17274                        0                             0   \n",
       "18072                        0                             0   \n",
       "17839                        0                             0   \n",
       "15112                        0                             0   \n",
       "18097                        0                             0   \n",
       "17392                        0                             0   \n",
       "17107                        0                             0   \n",
       "17897                        0                             0   \n",
       "\n",
       "       SubCategory_Women's Footwear  \n",
       "17644                             0  \n",
       "15212                             0  \n",
       "17274                             0  \n",
       "18072                             0  \n",
       "17839                             0  \n",
       "15112                             0  \n",
       "18097                             0  \n",
       "17392                             0  \n",
       "17107                             0  \n",
       "17897                             0  \n",
       "\n",
       "[10 rows x 23 columns]"
      ]
     },
     "execution_count": 155,
     "metadata": {},
     "output_type": "execute_result"
    }
   ],
   "source": [
    "sub_category"
   ]
  },
  {
   "cell_type": "code",
   "execution_count": 156,
   "metadata": {},
   "outputs": [
    {
     "data": {
      "text/plain": [
       "0       SubCategory_Non-Fiction\n",
       "1       SubCategory_Women's Bag\n",
       "2    SubCategory_Men's Clothing\n",
       "3    SubCategory_Children Books\n",
       "4    SubCategory_Children Books\n",
       "5           SubCategory_Cameras\n",
       "6           SubCategory_Fiction\n",
       "7    SubCategory_Kids' Footwear\n",
       "8    SubCategory_Kids' Clothing\n",
       "9           SubCategory_Cameras\n",
       "dtype: category\n",
       "Categories (8, object): ['SubCategory_Cameras', 'SubCategory_Children Books', 'SubCategory_Fiction', 'SubCategory_Kids' Clothing', 'SubCategory_Kids' Footwear', 'SubCategory_Men's Clothing', 'SubCategory_Non-Fiction', 'SubCategory_Women's Bag']"
      ]
     },
     "execution_count": 156,
     "metadata": {},
     "output_type": "execute_result"
    }
   ],
   "source": [
    "#numerical to categorical \n",
    "x = sub_category.stack()\n",
    "sub_category = Series(pd.Categorical(x[x!=0].index.get_level_values(1)))\n",
    "sub_category"
   ]
  },
  {
   "cell_type": "code",
   "execution_count": 157,
   "metadata": {},
   "outputs": [],
   "source": [
    "stores_type = data.iloc[:,10:14]"
   ]
  },
  {
   "cell_type": "code",
   "execution_count": 158,
   "metadata": {},
   "outputs": [
    {
     "data": {
      "text/html": [
       "<div>\n",
       "<style scoped>\n",
       "    .dataframe tbody tr th:only-of-type {\n",
       "        vertical-align: middle;\n",
       "    }\n",
       "\n",
       "    .dataframe tbody tr th {\n",
       "        vertical-align: top;\n",
       "    }\n",
       "\n",
       "    .dataframe thead th {\n",
       "        text-align: right;\n",
       "    }\n",
       "</style>\n",
       "<table border=\"1\" class=\"dataframe\">\n",
       "  <thead>\n",
       "    <tr style=\"text-align: right;\">\n",
       "      <th></th>\n",
       "      <th>Store_Type_Flagship store</th>\n",
       "      <th>Store_Type_MBR</th>\n",
       "      <th>Store_Type_TeleShop</th>\n",
       "      <th>Store_Type_e-Shop</th>\n",
       "    </tr>\n",
       "  </thead>\n",
       "  <tbody>\n",
       "    <tr>\n",
       "      <th>17644</th>\n",
       "      <td>0</td>\n",
       "      <td>0</td>\n",
       "      <td>0</td>\n",
       "      <td>1</td>\n",
       "    </tr>\n",
       "    <tr>\n",
       "      <th>15212</th>\n",
       "      <td>1</td>\n",
       "      <td>0</td>\n",
       "      <td>0</td>\n",
       "      <td>0</td>\n",
       "    </tr>\n",
       "    <tr>\n",
       "      <th>17274</th>\n",
       "      <td>0</td>\n",
       "      <td>0</td>\n",
       "      <td>0</td>\n",
       "      <td>1</td>\n",
       "    </tr>\n",
       "    <tr>\n",
       "      <th>18072</th>\n",
       "      <td>0</td>\n",
       "      <td>0</td>\n",
       "      <td>1</td>\n",
       "      <td>0</td>\n",
       "    </tr>\n",
       "    <tr>\n",
       "      <th>17839</th>\n",
       "      <td>0</td>\n",
       "      <td>1</td>\n",
       "      <td>0</td>\n",
       "      <td>0</td>\n",
       "    </tr>\n",
       "    <tr>\n",
       "      <th>15112</th>\n",
       "      <td>0</td>\n",
       "      <td>0</td>\n",
       "      <td>0</td>\n",
       "      <td>1</td>\n",
       "    </tr>\n",
       "    <tr>\n",
       "      <th>18097</th>\n",
       "      <td>0</td>\n",
       "      <td>0</td>\n",
       "      <td>0</td>\n",
       "      <td>1</td>\n",
       "    </tr>\n",
       "    <tr>\n",
       "      <th>17392</th>\n",
       "      <td>0</td>\n",
       "      <td>0</td>\n",
       "      <td>0</td>\n",
       "      <td>1</td>\n",
       "    </tr>\n",
       "    <tr>\n",
       "      <th>17107</th>\n",
       "      <td>0</td>\n",
       "      <td>0</td>\n",
       "      <td>1</td>\n",
       "      <td>0</td>\n",
       "    </tr>\n",
       "    <tr>\n",
       "      <th>17897</th>\n",
       "      <td>0</td>\n",
       "      <td>1</td>\n",
       "      <td>0</td>\n",
       "      <td>0</td>\n",
       "    </tr>\n",
       "  </tbody>\n",
       "</table>\n",
       "</div>"
      ],
      "text/plain": [
       "       Store_Type_Flagship store  Store_Type_MBR  Store_Type_TeleShop  \\\n",
       "17644                          0               0                    0   \n",
       "15212                          1               0                    0   \n",
       "17274                          0               0                    0   \n",
       "18072                          0               0                    1   \n",
       "17839                          0               1                    0   \n",
       "15112                          0               0                    0   \n",
       "18097                          0               0                    0   \n",
       "17392                          0               0                    0   \n",
       "17107                          0               0                    1   \n",
       "17897                          0               1                    0   \n",
       "\n",
       "       Store_Type_e-Shop  \n",
       "17644                  1  \n",
       "15212                  0  \n",
       "17274                  1  \n",
       "18072                  0  \n",
       "17839                  0  \n",
       "15112                  1  \n",
       "18097                  1  \n",
       "17392                  1  \n",
       "17107                  0  \n",
       "17897                  0  "
      ]
     },
     "execution_count": 158,
     "metadata": {},
     "output_type": "execute_result"
    }
   ],
   "source": [
    "stores_type"
   ]
  },
  {
   "cell_type": "code",
   "execution_count": 159,
   "metadata": {},
   "outputs": [
    {
     "data": {
      "text/plain": [
       "0            Store_Type_e-Shop\n",
       "1    Store_Type_Flagship store\n",
       "2            Store_Type_e-Shop\n",
       "3          Store_Type_TeleShop\n",
       "4               Store_Type_MBR\n",
       "5            Store_Type_e-Shop\n",
       "6            Store_Type_e-Shop\n",
       "7            Store_Type_e-Shop\n",
       "8          Store_Type_TeleShop\n",
       "9               Store_Type_MBR\n",
       "dtype: category\n",
       "Categories (4, object): ['Store_Type_Flagship store', 'Store_Type_MBR', 'Store_Type_TeleShop', 'Store_Type_e-Shop']"
      ]
     },
     "execution_count": 159,
     "metadata": {},
     "output_type": "execute_result"
    }
   ],
   "source": [
    "#numerical to categorical \n",
    "x = stores_type.stack()\n",
    "stores_type = Series(pd.Categorical(x[x!=0].index.get_level_values(1)))\n",
    "stores_type"
   ]
  },
  {
   "cell_type": "code",
   "execution_count": 160,
   "metadata": {},
   "outputs": [],
   "source": [
    "predict_data = data.drop(data.iloc[:, 1:7], axis = 1)"
   ]
  },
  {
   "cell_type": "code",
   "execution_count": 161,
   "metadata": {},
   "outputs": [],
   "source": [
    "predict_data = predict_data.drop(data.iloc[:, 10:37], axis = 1)"
   ]
  },
  {
   "cell_type": "markdown",
   "metadata": {},
   "source": [
    "https://stackoverflow.com/questions/38862293/how-to-add-incremental-numbers-to-a-new-column-using-pandas/38862389"
   ]
  },
  {
   "cell_type": "code",
   "execution_count": 162,
   "metadata": {},
   "outputs": [],
   "source": [
    "#make it the same index with other df\n",
    "predict_data = predict_data.reset_index()\n",
    "predict_data = predict_data.rename(columns={\"index\":\"index\"})\n",
    "predict_data['index'] = predict_data.index + 1"
   ]
  },
  {
   "cell_type": "code",
   "execution_count": 163,
   "metadata": {
    "scrolled": true
   },
   "outputs": [
    {
     "data": {
      "text/html": [
       "<div>\n",
       "<style scoped>\n",
       "    .dataframe tbody tr th:only-of-type {\n",
       "        vertical-align: middle;\n",
       "    }\n",
       "\n",
       "    .dataframe tbody tr th {\n",
       "        vertical-align: top;\n",
       "    }\n",
       "\n",
       "    .dataframe thead th {\n",
       "        text-align: right;\n",
       "    }\n",
       "</style>\n",
       "<table border=\"1\" class=\"dataframe\">\n",
       "  <thead>\n",
       "    <tr style=\"text-align: right;\">\n",
       "      <th></th>\n",
       "      <th>index</th>\n",
       "      <th>Age</th>\n",
       "      <th>Gender</th>\n",
       "      <th>Price_*_Age</th>\n",
       "      <th>Qty</th>\n",
       "      <th>Year</th>\n",
       "      <th>Predicted</th>\n",
       "    </tr>\n",
       "  </thead>\n",
       "  <tbody>\n",
       "    <tr>\n",
       "      <th>0</th>\n",
       "      <td>1</td>\n",
       "      <td>38</td>\n",
       "      <td>1</td>\n",
       "      <td>53352</td>\n",
       "      <td>2</td>\n",
       "      <td>2014</td>\n",
       "      <td>3108.46</td>\n",
       "    </tr>\n",
       "    <tr>\n",
       "      <th>1</th>\n",
       "      <td>2</td>\n",
       "      <td>38</td>\n",
       "      <td>0</td>\n",
       "      <td>5396</td>\n",
       "      <td>2</td>\n",
       "      <td>2011</td>\n",
       "      <td>317.28</td>\n",
       "    </tr>\n",
       "    <tr>\n",
       "      <th>2</th>\n",
       "      <td>3</td>\n",
       "      <td>28</td>\n",
       "      <td>0</td>\n",
       "      <td>4312</td>\n",
       "      <td>1</td>\n",
       "      <td>2011</td>\n",
       "      <td>188.77</td>\n",
       "    </tr>\n",
       "    <tr>\n",
       "      <th>3</th>\n",
       "      <td>4</td>\n",
       "      <td>30</td>\n",
       "      <td>0</td>\n",
       "      <td>36960</td>\n",
       "      <td>1</td>\n",
       "      <td>2013</td>\n",
       "      <td>1342.18</td>\n",
       "    </tr>\n",
       "    <tr>\n",
       "      <th>4</th>\n",
       "      <td>5</td>\n",
       "      <td>21</td>\n",
       "      <td>0</td>\n",
       "      <td>27699</td>\n",
       "      <td>5</td>\n",
       "      <td>2012</td>\n",
       "      <td>7313.47</td>\n",
       "    </tr>\n",
       "    <tr>\n",
       "      <th>5</th>\n",
       "      <td>6</td>\n",
       "      <td>37</td>\n",
       "      <td>1</td>\n",
       "      <td>10397</td>\n",
       "      <td>5</td>\n",
       "      <td>2011</td>\n",
       "      <td>1548.29</td>\n",
       "    </tr>\n",
       "    <tr>\n",
       "      <th>6</th>\n",
       "      <td>7</td>\n",
       "      <td>35</td>\n",
       "      <td>1</td>\n",
       "      <td>5355</td>\n",
       "      <td>4</td>\n",
       "      <td>2013</td>\n",
       "      <td>678.61</td>\n",
       "    </tr>\n",
       "    <tr>\n",
       "      <th>7</th>\n",
       "      <td>8</td>\n",
       "      <td>29</td>\n",
       "      <td>1</td>\n",
       "      <td>12064</td>\n",
       "      <td>5</td>\n",
       "      <td>2011</td>\n",
       "      <td>2286.0</td>\n",
       "    </tr>\n",
       "    <tr>\n",
       "      <th>8</th>\n",
       "      <td>9</td>\n",
       "      <td>25</td>\n",
       "      <td>0</td>\n",
       "      <td>17875</td>\n",
       "      <td>5</td>\n",
       "      <td>2012</td>\n",
       "      <td>3958.5</td>\n",
       "    </tr>\n",
       "    <tr>\n",
       "      <th>9</th>\n",
       "      <td>10</td>\n",
       "      <td>24</td>\n",
       "      <td>0</td>\n",
       "      <td>29592</td>\n",
       "      <td>2</td>\n",
       "      <td>2011</td>\n",
       "      <td>2748.81</td>\n",
       "    </tr>\n",
       "  </tbody>\n",
       "</table>\n",
       "</div>"
      ],
      "text/plain": [
       "   index  Age  Gender  Price_*_Age  Qty  Year Predicted\n",
       "0      1   38       1        53352    2  2014   3108.46\n",
       "1      2   38       0         5396    2  2011    317.28\n",
       "2      3   28       0         4312    1  2011    188.77\n",
       "3      4   30       0        36960    1  2013   1342.18\n",
       "4      5   21       0        27699    5  2012   7313.47\n",
       "5      6   37       1        10397    5  2011   1548.29\n",
       "6      7   35       1         5355    4  2013    678.61\n",
       "7      8   29       1        12064    5  2011    2286.0\n",
       "8      9   25       0        17875    5  2012    3958.5\n",
       "9     10   24       0        29592    2  2011   2748.81"
      ]
     },
     "execution_count": 163,
     "metadata": {},
     "output_type": "execute_result"
    }
   ],
   "source": [
    "predict_data"
   ]
  },
  {
   "cell_type": "code",
   "execution_count": 164,
   "metadata": {},
   "outputs": [],
   "source": [
    "#make it the same index with other df\n",
    "stores_type = stores_type.reset_index()\n",
    "stores_type = stores_type.rename(columns={\"index\":\"index\"})\n",
    "stores_type['index'] = stores_type.index + 1"
   ]
  },
  {
   "cell_type": "code",
   "execution_count": 165,
   "metadata": {},
   "outputs": [
    {
     "data": {
      "text/html": [
       "<div>\n",
       "<style scoped>\n",
       "    .dataframe tbody tr th:only-of-type {\n",
       "        vertical-align: middle;\n",
       "    }\n",
       "\n",
       "    .dataframe tbody tr th {\n",
       "        vertical-align: top;\n",
       "    }\n",
       "\n",
       "    .dataframe thead th {\n",
       "        text-align: right;\n",
       "    }\n",
       "</style>\n",
       "<table border=\"1\" class=\"dataframe\">\n",
       "  <thead>\n",
       "    <tr style=\"text-align: right;\">\n",
       "      <th></th>\n",
       "      <th>index</th>\n",
       "      <th>0</th>\n",
       "    </tr>\n",
       "  </thead>\n",
       "  <tbody>\n",
       "    <tr>\n",
       "      <th>0</th>\n",
       "      <td>1</td>\n",
       "      <td>Store_Type_e-Shop</td>\n",
       "    </tr>\n",
       "    <tr>\n",
       "      <th>1</th>\n",
       "      <td>2</td>\n",
       "      <td>Store_Type_Flagship store</td>\n",
       "    </tr>\n",
       "    <tr>\n",
       "      <th>2</th>\n",
       "      <td>3</td>\n",
       "      <td>Store_Type_e-Shop</td>\n",
       "    </tr>\n",
       "    <tr>\n",
       "      <th>3</th>\n",
       "      <td>4</td>\n",
       "      <td>Store_Type_TeleShop</td>\n",
       "    </tr>\n",
       "    <tr>\n",
       "      <th>4</th>\n",
       "      <td>5</td>\n",
       "      <td>Store_Type_MBR</td>\n",
       "    </tr>\n",
       "    <tr>\n",
       "      <th>5</th>\n",
       "      <td>6</td>\n",
       "      <td>Store_Type_e-Shop</td>\n",
       "    </tr>\n",
       "    <tr>\n",
       "      <th>6</th>\n",
       "      <td>7</td>\n",
       "      <td>Store_Type_e-Shop</td>\n",
       "    </tr>\n",
       "    <tr>\n",
       "      <th>7</th>\n",
       "      <td>8</td>\n",
       "      <td>Store_Type_e-Shop</td>\n",
       "    </tr>\n",
       "    <tr>\n",
       "      <th>8</th>\n",
       "      <td>9</td>\n",
       "      <td>Store_Type_TeleShop</td>\n",
       "    </tr>\n",
       "    <tr>\n",
       "      <th>9</th>\n",
       "      <td>10</td>\n",
       "      <td>Store_Type_MBR</td>\n",
       "    </tr>\n",
       "  </tbody>\n",
       "</table>\n",
       "</div>"
      ],
      "text/plain": [
       "   index                          0\n",
       "0      1          Store_Type_e-Shop\n",
       "1      2  Store_Type_Flagship store\n",
       "2      3          Store_Type_e-Shop\n",
       "3      4        Store_Type_TeleShop\n",
       "4      5             Store_Type_MBR\n",
       "5      6          Store_Type_e-Shop\n",
       "6      7          Store_Type_e-Shop\n",
       "7      8          Store_Type_e-Shop\n",
       "8      9        Store_Type_TeleShop\n",
       "9     10             Store_Type_MBR"
      ]
     },
     "execution_count": 165,
     "metadata": {},
     "output_type": "execute_result"
    }
   ],
   "source": [
    "stores_type"
   ]
  },
  {
   "cell_type": "code",
   "execution_count": 166,
   "metadata": {},
   "outputs": [],
   "source": [
    "#make it the same index with other df\n",
    "category = category.reset_index()\n",
    "category = category.rename(columns={\"index\":\"index\"})\n",
    "category['index'] = category.index + 1"
   ]
  },
  {
   "cell_type": "code",
   "execution_count": 167,
   "metadata": {},
   "outputs": [
    {
     "data": {
      "text/html": [
       "<div>\n",
       "<style scoped>\n",
       "    .dataframe tbody tr th:only-of-type {\n",
       "        vertical-align: middle;\n",
       "    }\n",
       "\n",
       "    .dataframe tbody tr th {\n",
       "        vertical-align: top;\n",
       "    }\n",
       "\n",
       "    .dataframe thead th {\n",
       "        text-align: right;\n",
       "    }\n",
       "</style>\n",
       "<table border=\"1\" class=\"dataframe\">\n",
       "  <thead>\n",
       "    <tr style=\"text-align: right;\">\n",
       "      <th></th>\n",
       "      <th>index</th>\n",
       "      <th>0</th>\n",
       "    </tr>\n",
       "  </thead>\n",
       "  <tbody>\n",
       "    <tr>\n",
       "      <th>0</th>\n",
       "      <td>1</td>\n",
       "      <td>Category_Books</td>\n",
       "    </tr>\n",
       "    <tr>\n",
       "      <th>1</th>\n",
       "      <td>2</td>\n",
       "      <td>Category_Bags</td>\n",
       "    </tr>\n",
       "    <tr>\n",
       "      <th>2</th>\n",
       "      <td>3</td>\n",
       "      <td>Category_Clothing</td>\n",
       "    </tr>\n",
       "    <tr>\n",
       "      <th>3</th>\n",
       "      <td>4</td>\n",
       "      <td>Category_Books</td>\n",
       "    </tr>\n",
       "    <tr>\n",
       "      <th>4</th>\n",
       "      <td>5</td>\n",
       "      <td>Category_Books</td>\n",
       "    </tr>\n",
       "    <tr>\n",
       "      <th>5</th>\n",
       "      <td>6</td>\n",
       "      <td>Category_Electronics</td>\n",
       "    </tr>\n",
       "    <tr>\n",
       "      <th>6</th>\n",
       "      <td>7</td>\n",
       "      <td>Category_Books</td>\n",
       "    </tr>\n",
       "    <tr>\n",
       "      <th>7</th>\n",
       "      <td>8</td>\n",
       "      <td>Category_Footwear</td>\n",
       "    </tr>\n",
       "    <tr>\n",
       "      <th>8</th>\n",
       "      <td>9</td>\n",
       "      <td>Category_Clothing</td>\n",
       "    </tr>\n",
       "    <tr>\n",
       "      <th>9</th>\n",
       "      <td>10</td>\n",
       "      <td>Category_Electronics</td>\n",
       "    </tr>\n",
       "  </tbody>\n",
       "</table>\n",
       "</div>"
      ],
      "text/plain": [
       "   index                     0\n",
       "0      1        Category_Books\n",
       "1      2         Category_Bags\n",
       "2      3     Category_Clothing\n",
       "3      4        Category_Books\n",
       "4      5        Category_Books\n",
       "5      6  Category_Electronics\n",
       "6      7        Category_Books\n",
       "7      8     Category_Footwear\n",
       "8      9     Category_Clothing\n",
       "9     10  Category_Electronics"
      ]
     },
     "execution_count": 167,
     "metadata": {},
     "output_type": "execute_result"
    }
   ],
   "source": [
    "category"
   ]
  },
  {
   "cell_type": "code",
   "execution_count": 168,
   "metadata": {},
   "outputs": [],
   "source": [
    "#make it the same index with other df\n",
    "sub_category = sub_category.reset_index()\n",
    "sub_category = sub_category.rename(columns={\"index\":\"index\"})\n",
    "sub_category['index'] = sub_category.index + 1"
   ]
  },
  {
   "cell_type": "code",
   "execution_count": 169,
   "metadata": {},
   "outputs": [
    {
     "data": {
      "text/html": [
       "<div>\n",
       "<style scoped>\n",
       "    .dataframe tbody tr th:only-of-type {\n",
       "        vertical-align: middle;\n",
       "    }\n",
       "\n",
       "    .dataframe tbody tr th {\n",
       "        vertical-align: top;\n",
       "    }\n",
       "\n",
       "    .dataframe thead th {\n",
       "        text-align: right;\n",
       "    }\n",
       "</style>\n",
       "<table border=\"1\" class=\"dataframe\">\n",
       "  <thead>\n",
       "    <tr style=\"text-align: right;\">\n",
       "      <th></th>\n",
       "      <th>index</th>\n",
       "      <th>0</th>\n",
       "    </tr>\n",
       "  </thead>\n",
       "  <tbody>\n",
       "    <tr>\n",
       "      <th>0</th>\n",
       "      <td>1</td>\n",
       "      <td>SubCategory_Non-Fiction</td>\n",
       "    </tr>\n",
       "    <tr>\n",
       "      <th>1</th>\n",
       "      <td>2</td>\n",
       "      <td>SubCategory_Women's Bag</td>\n",
       "    </tr>\n",
       "    <tr>\n",
       "      <th>2</th>\n",
       "      <td>3</td>\n",
       "      <td>SubCategory_Men's Clothing</td>\n",
       "    </tr>\n",
       "    <tr>\n",
       "      <th>3</th>\n",
       "      <td>4</td>\n",
       "      <td>SubCategory_Children Books</td>\n",
       "    </tr>\n",
       "    <tr>\n",
       "      <th>4</th>\n",
       "      <td>5</td>\n",
       "      <td>SubCategory_Children Books</td>\n",
       "    </tr>\n",
       "    <tr>\n",
       "      <th>5</th>\n",
       "      <td>6</td>\n",
       "      <td>SubCategory_Cameras</td>\n",
       "    </tr>\n",
       "    <tr>\n",
       "      <th>6</th>\n",
       "      <td>7</td>\n",
       "      <td>SubCategory_Fiction</td>\n",
       "    </tr>\n",
       "    <tr>\n",
       "      <th>7</th>\n",
       "      <td>8</td>\n",
       "      <td>SubCategory_Kids' Footwear</td>\n",
       "    </tr>\n",
       "    <tr>\n",
       "      <th>8</th>\n",
       "      <td>9</td>\n",
       "      <td>SubCategory_Kids' Clothing</td>\n",
       "    </tr>\n",
       "    <tr>\n",
       "      <th>9</th>\n",
       "      <td>10</td>\n",
       "      <td>SubCategory_Cameras</td>\n",
       "    </tr>\n",
       "  </tbody>\n",
       "</table>\n",
       "</div>"
      ],
      "text/plain": [
       "   index                           0\n",
       "0      1     SubCategory_Non-Fiction\n",
       "1      2     SubCategory_Women's Bag\n",
       "2      3  SubCategory_Men's Clothing\n",
       "3      4  SubCategory_Children Books\n",
       "4      5  SubCategory_Children Books\n",
       "5      6         SubCategory_Cameras\n",
       "6      7         SubCategory_Fiction\n",
       "7      8  SubCategory_Kids' Footwear\n",
       "8      9  SubCategory_Kids' Clothing\n",
       "9     10         SubCategory_Cameras"
      ]
     },
     "execution_count": 169,
     "metadata": {},
     "output_type": "execute_result"
    }
   ],
   "source": [
    "sub_category"
   ]
  },
  {
   "cell_type": "code",
   "execution_count": 170,
   "metadata": {},
   "outputs": [],
   "source": [
    "# Merge into a single data frame\n",
    "transaction_sql_csv = pd.concat([category, sub_category, stores_type, predict_data], axis=1) "
   ]
  },
  {
   "cell_type": "code",
   "execution_count": 171,
   "metadata": {},
   "outputs": [],
   "source": [
    "transaction_sql_csv = transaction_sql_csv.drop('index', axis = 1)"
   ]
  },
  {
   "cell_type": "code",
   "execution_count": 172,
   "metadata": {},
   "outputs": [],
   "source": [
    "transaction_sql_csv = transaction_sql_csv.drop('Price_*_Age', axis = 1)"
   ]
  },
  {
   "cell_type": "code",
   "execution_count": 186,
   "metadata": {},
   "outputs": [],
   "source": [
    "# Remap to gender name\n",
    "transaction_sql_csv['Gender'] = [\"Male\" if x == 0 else 'Female' for x in transaction_sql_csv['Gender']]"
   ]
  },
  {
   "cell_type": "code",
   "execution_count": 187,
   "metadata": {},
   "outputs": [
    {
     "data": {
      "text/html": [
       "<div>\n",
       "<style scoped>\n",
       "    .dataframe tbody tr th:only-of-type {\n",
       "        vertical-align: middle;\n",
       "    }\n",
       "\n",
       "    .dataframe tbody tr th {\n",
       "        vertical-align: top;\n",
       "    }\n",
       "\n",
       "    .dataframe thead th {\n",
       "        text-align: right;\n",
       "    }\n",
       "</style>\n",
       "<table border=\"1\" class=\"dataframe\">\n",
       "  <thead>\n",
       "    <tr style=\"text-align: right;\">\n",
       "      <th></th>\n",
       "      <th>0</th>\n",
       "      <th>0</th>\n",
       "      <th>0</th>\n",
       "      <th>Age</th>\n",
       "      <th>Gender</th>\n",
       "      <th>Qty</th>\n",
       "      <th>Year</th>\n",
       "      <th>Predicted</th>\n",
       "    </tr>\n",
       "  </thead>\n",
       "  <tbody>\n",
       "    <tr>\n",
       "      <th>0</th>\n",
       "      <td>Category_Books</td>\n",
       "      <td>SubCategory_Non-Fiction</td>\n",
       "      <td>Store_Type_e-Shop</td>\n",
       "      <td>38</td>\n",
       "      <td>Female</td>\n",
       "      <td>2</td>\n",
       "      <td>2014</td>\n",
       "      <td>3108.46</td>\n",
       "    </tr>\n",
       "    <tr>\n",
       "      <th>1</th>\n",
       "      <td>Category_Bags</td>\n",
       "      <td>SubCategory_Women's Bag</td>\n",
       "      <td>Store_Type_Flagship store</td>\n",
       "      <td>38</td>\n",
       "      <td>Male</td>\n",
       "      <td>2</td>\n",
       "      <td>2011</td>\n",
       "      <td>317.28</td>\n",
       "    </tr>\n",
       "    <tr>\n",
       "      <th>2</th>\n",
       "      <td>Category_Clothing</td>\n",
       "      <td>SubCategory_Men's Clothing</td>\n",
       "      <td>Store_Type_e-Shop</td>\n",
       "      <td>28</td>\n",
       "      <td>Male</td>\n",
       "      <td>1</td>\n",
       "      <td>2011</td>\n",
       "      <td>188.77</td>\n",
       "    </tr>\n",
       "    <tr>\n",
       "      <th>3</th>\n",
       "      <td>Category_Books</td>\n",
       "      <td>SubCategory_Children Books</td>\n",
       "      <td>Store_Type_TeleShop</td>\n",
       "      <td>30</td>\n",
       "      <td>Male</td>\n",
       "      <td>1</td>\n",
       "      <td>2013</td>\n",
       "      <td>1342.18</td>\n",
       "    </tr>\n",
       "    <tr>\n",
       "      <th>4</th>\n",
       "      <td>Category_Books</td>\n",
       "      <td>SubCategory_Children Books</td>\n",
       "      <td>Store_Type_MBR</td>\n",
       "      <td>21</td>\n",
       "      <td>Male</td>\n",
       "      <td>5</td>\n",
       "      <td>2012</td>\n",
       "      <td>7313.47</td>\n",
       "    </tr>\n",
       "    <tr>\n",
       "      <th>5</th>\n",
       "      <td>Category_Electronics</td>\n",
       "      <td>SubCategory_Cameras</td>\n",
       "      <td>Store_Type_e-Shop</td>\n",
       "      <td>37</td>\n",
       "      <td>Female</td>\n",
       "      <td>5</td>\n",
       "      <td>2011</td>\n",
       "      <td>1548.29</td>\n",
       "    </tr>\n",
       "    <tr>\n",
       "      <th>6</th>\n",
       "      <td>Category_Books</td>\n",
       "      <td>SubCategory_Fiction</td>\n",
       "      <td>Store_Type_e-Shop</td>\n",
       "      <td>35</td>\n",
       "      <td>Female</td>\n",
       "      <td>4</td>\n",
       "      <td>2013</td>\n",
       "      <td>678.61</td>\n",
       "    </tr>\n",
       "    <tr>\n",
       "      <th>7</th>\n",
       "      <td>Category_Footwear</td>\n",
       "      <td>SubCategory_Kids' Footwear</td>\n",
       "      <td>Store_Type_e-Shop</td>\n",
       "      <td>29</td>\n",
       "      <td>Female</td>\n",
       "      <td>5</td>\n",
       "      <td>2011</td>\n",
       "      <td>2286.0</td>\n",
       "    </tr>\n",
       "    <tr>\n",
       "      <th>8</th>\n",
       "      <td>Category_Clothing</td>\n",
       "      <td>SubCategory_Kids' Clothing</td>\n",
       "      <td>Store_Type_TeleShop</td>\n",
       "      <td>25</td>\n",
       "      <td>Male</td>\n",
       "      <td>5</td>\n",
       "      <td>2012</td>\n",
       "      <td>3958.5</td>\n",
       "    </tr>\n",
       "    <tr>\n",
       "      <th>9</th>\n",
       "      <td>Category_Electronics</td>\n",
       "      <td>SubCategory_Cameras</td>\n",
       "      <td>Store_Type_MBR</td>\n",
       "      <td>24</td>\n",
       "      <td>Male</td>\n",
       "      <td>2</td>\n",
       "      <td>2011</td>\n",
       "      <td>2748.81</td>\n",
       "    </tr>\n",
       "  </tbody>\n",
       "</table>\n",
       "</div>"
      ],
      "text/plain": [
       "                      0                           0  \\\n",
       "0        Category_Books     SubCategory_Non-Fiction   \n",
       "1         Category_Bags     SubCategory_Women's Bag   \n",
       "2     Category_Clothing  SubCategory_Men's Clothing   \n",
       "3        Category_Books  SubCategory_Children Books   \n",
       "4        Category_Books  SubCategory_Children Books   \n",
       "5  Category_Electronics         SubCategory_Cameras   \n",
       "6        Category_Books         SubCategory_Fiction   \n",
       "7     Category_Footwear  SubCategory_Kids' Footwear   \n",
       "8     Category_Clothing  SubCategory_Kids' Clothing   \n",
       "9  Category_Electronics         SubCategory_Cameras   \n",
       "\n",
       "                           0  Age  Gender  Qty  Year Predicted  \n",
       "0          Store_Type_e-Shop   38  Female    2  2014   3108.46  \n",
       "1  Store_Type_Flagship store   38    Male    2  2011    317.28  \n",
       "2          Store_Type_e-Shop   28    Male    1  2011    188.77  \n",
       "3        Store_Type_TeleShop   30    Male    1  2013   1342.18  \n",
       "4             Store_Type_MBR   21    Male    5  2012   7313.47  \n",
       "5          Store_Type_e-Shop   37  Female    5  2011   1548.29  \n",
       "6          Store_Type_e-Shop   35  Female    4  2013    678.61  \n",
       "7          Store_Type_e-Shop   29  Female    5  2011    2286.0  \n",
       "8        Store_Type_TeleShop   25    Male    5  2012    3958.5  \n",
       "9             Store_Type_MBR   24    Male    2  2011   2748.81  "
      ]
     },
     "execution_count": 187,
     "metadata": {},
     "output_type": "execute_result"
    }
   ],
   "source": [
    "transaction_sql_csv"
   ]
  },
  {
   "cell_type": "code",
   "execution_count": 188,
   "metadata": {},
   "outputs": [],
   "source": [
    "#name the columns\n",
    "transaction_sql_csv.columns = ['Category', 'SubCategory', 'Store_type', 'Age', 'Gender', 'Qty', 'Year', 'Predicted_Output']"
   ]
  },
  {
   "cell_type": "code",
   "execution_count": 189,
   "metadata": {
    "scrolled": true
   },
   "outputs": [
    {
     "data": {
      "text/html": [
       "<div>\n",
       "<style scoped>\n",
       "    .dataframe tbody tr th:only-of-type {\n",
       "        vertical-align: middle;\n",
       "    }\n",
       "\n",
       "    .dataframe tbody tr th {\n",
       "        vertical-align: top;\n",
       "    }\n",
       "\n",
       "    .dataframe thead th {\n",
       "        text-align: right;\n",
       "    }\n",
       "</style>\n",
       "<table border=\"1\" class=\"dataframe\">\n",
       "  <thead>\n",
       "    <tr style=\"text-align: right;\">\n",
       "      <th></th>\n",
       "      <th>Category</th>\n",
       "      <th>SubCategory</th>\n",
       "      <th>Store_type</th>\n",
       "      <th>Age</th>\n",
       "      <th>Gender</th>\n",
       "      <th>Qty</th>\n",
       "      <th>Year</th>\n",
       "      <th>Predicted_Output</th>\n",
       "    </tr>\n",
       "  </thead>\n",
       "  <tbody>\n",
       "    <tr>\n",
       "      <th>0</th>\n",
       "      <td>Category_Books</td>\n",
       "      <td>SubCategory_Non-Fiction</td>\n",
       "      <td>Store_Type_e-Shop</td>\n",
       "      <td>38</td>\n",
       "      <td>Female</td>\n",
       "      <td>2</td>\n",
       "      <td>2014</td>\n",
       "      <td>3108.46</td>\n",
       "    </tr>\n",
       "    <tr>\n",
       "      <th>1</th>\n",
       "      <td>Category_Bags</td>\n",
       "      <td>SubCategory_Women's Bag</td>\n",
       "      <td>Store_Type_Flagship store</td>\n",
       "      <td>38</td>\n",
       "      <td>Male</td>\n",
       "      <td>2</td>\n",
       "      <td>2011</td>\n",
       "      <td>317.28</td>\n",
       "    </tr>\n",
       "    <tr>\n",
       "      <th>2</th>\n",
       "      <td>Category_Clothing</td>\n",
       "      <td>SubCategory_Men's Clothing</td>\n",
       "      <td>Store_Type_e-Shop</td>\n",
       "      <td>28</td>\n",
       "      <td>Male</td>\n",
       "      <td>1</td>\n",
       "      <td>2011</td>\n",
       "      <td>188.77</td>\n",
       "    </tr>\n",
       "    <tr>\n",
       "      <th>3</th>\n",
       "      <td>Category_Books</td>\n",
       "      <td>SubCategory_Children Books</td>\n",
       "      <td>Store_Type_TeleShop</td>\n",
       "      <td>30</td>\n",
       "      <td>Male</td>\n",
       "      <td>1</td>\n",
       "      <td>2013</td>\n",
       "      <td>1342.18</td>\n",
       "    </tr>\n",
       "    <tr>\n",
       "      <th>4</th>\n",
       "      <td>Category_Books</td>\n",
       "      <td>SubCategory_Children Books</td>\n",
       "      <td>Store_Type_MBR</td>\n",
       "      <td>21</td>\n",
       "      <td>Male</td>\n",
       "      <td>5</td>\n",
       "      <td>2012</td>\n",
       "      <td>7313.47</td>\n",
       "    </tr>\n",
       "    <tr>\n",
       "      <th>5</th>\n",
       "      <td>Category_Electronics</td>\n",
       "      <td>SubCategory_Cameras</td>\n",
       "      <td>Store_Type_e-Shop</td>\n",
       "      <td>37</td>\n",
       "      <td>Female</td>\n",
       "      <td>5</td>\n",
       "      <td>2011</td>\n",
       "      <td>1548.29</td>\n",
       "    </tr>\n",
       "    <tr>\n",
       "      <th>6</th>\n",
       "      <td>Category_Books</td>\n",
       "      <td>SubCategory_Fiction</td>\n",
       "      <td>Store_Type_e-Shop</td>\n",
       "      <td>35</td>\n",
       "      <td>Female</td>\n",
       "      <td>4</td>\n",
       "      <td>2013</td>\n",
       "      <td>678.61</td>\n",
       "    </tr>\n",
       "    <tr>\n",
       "      <th>7</th>\n",
       "      <td>Category_Footwear</td>\n",
       "      <td>SubCategory_Kids' Footwear</td>\n",
       "      <td>Store_Type_e-Shop</td>\n",
       "      <td>29</td>\n",
       "      <td>Female</td>\n",
       "      <td>5</td>\n",
       "      <td>2011</td>\n",
       "      <td>2286.0</td>\n",
       "    </tr>\n",
       "    <tr>\n",
       "      <th>8</th>\n",
       "      <td>Category_Clothing</td>\n",
       "      <td>SubCategory_Kids' Clothing</td>\n",
       "      <td>Store_Type_TeleShop</td>\n",
       "      <td>25</td>\n",
       "      <td>Male</td>\n",
       "      <td>5</td>\n",
       "      <td>2012</td>\n",
       "      <td>3958.5</td>\n",
       "    </tr>\n",
       "    <tr>\n",
       "      <th>9</th>\n",
       "      <td>Category_Electronics</td>\n",
       "      <td>SubCategory_Cameras</td>\n",
       "      <td>Store_Type_MBR</td>\n",
       "      <td>24</td>\n",
       "      <td>Male</td>\n",
       "      <td>2</td>\n",
       "      <td>2011</td>\n",
       "      <td>2748.81</td>\n",
       "    </tr>\n",
       "  </tbody>\n",
       "</table>\n",
       "</div>"
      ],
      "text/plain": [
       "               Category                 SubCategory  \\\n",
       "0        Category_Books     SubCategory_Non-Fiction   \n",
       "1         Category_Bags     SubCategory_Women's Bag   \n",
       "2     Category_Clothing  SubCategory_Men's Clothing   \n",
       "3        Category_Books  SubCategory_Children Books   \n",
       "4        Category_Books  SubCategory_Children Books   \n",
       "5  Category_Electronics         SubCategory_Cameras   \n",
       "6        Category_Books         SubCategory_Fiction   \n",
       "7     Category_Footwear  SubCategory_Kids' Footwear   \n",
       "8     Category_Clothing  SubCategory_Kids' Clothing   \n",
       "9  Category_Electronics         SubCategory_Cameras   \n",
       "\n",
       "                  Store_type  Age  Gender  Qty  Year Predicted_Output  \n",
       "0          Store_Type_e-Shop   38  Female    2  2014          3108.46  \n",
       "1  Store_Type_Flagship store   38    Male    2  2011           317.28  \n",
       "2          Store_Type_e-Shop   28    Male    1  2011           188.77  \n",
       "3        Store_Type_TeleShop   30    Male    1  2013          1342.18  \n",
       "4             Store_Type_MBR   21    Male    5  2012          7313.47  \n",
       "5          Store_Type_e-Shop   37  Female    5  2011          1548.29  \n",
       "6          Store_Type_e-Shop   35  Female    4  2013           678.61  \n",
       "7          Store_Type_e-Shop   29  Female    5  2011           2286.0  \n",
       "8        Store_Type_TeleShop   25    Male    5  2012           3958.5  \n",
       "9             Store_Type_MBR   24    Male    2  2011          2748.81  "
      ]
     },
     "execution_count": 189,
     "metadata": {},
     "output_type": "execute_result"
    }
   ],
   "source": [
    "transaction_sql_csv"
   ]
  },
  {
   "cell_type": "markdown",
   "metadata": {},
   "source": [
    "#Python to SQL"
   ]
  },
  {
   "cell_type": "markdown",
   "metadata": {},
   "source": [
    "https://stackoverflow.com/questions/37692780/error-28000-login-failed-for-user-domain-user-with-pyodbc\n",
    "\n",
    "https://docs.microsoft.com/en-us/sql/machine-learning/data-exploration/python-dataframe-sql-server?view=sql-server-ver15"
   ]
  },
  {
   "cell_type": "code",
   "execution_count": 195,
   "metadata": {},
   "outputs": [],
   "source": [
    "cnxn = pyodbc.connect(driver='{SQL Server Native Client 11.0}',\n",
    "                      server='A0126316\\SQLEXPRESS', \n",
    "                      database='capstone_project1',  \n",
    "                      #must put in then can access sql\n",
    "                      trusted_connection='yes')"
   ]
  },
  {
   "cell_type": "code",
   "execution_count": 196,
   "metadata": {},
   "outputs": [],
   "source": [
    "# Some other example server values are\n",
    "cursor = cnxn.cursor()\n",
    "# Insert Dataframe into SQL Server:\n",
    "for index, row in transaction_sql_csv.iterrows():\n",
    "    cursor.execute(\"INSERT INTO Predict_Table (Category, SubCategory, Store_type, Age, Gender, Qty, Year, Predicted_Output) values(?,?,?,?,?,?,?,?)\", row.Category, row.SubCategory, row.Store_type,  row.Age, row.Gender, row.Qty, row.Year, row.Predicted_Output)\n",
    "cnxn.commit()\n",
    "cursor.close()"
   ]
  },
  {
   "cell_type": "markdown",
   "metadata": {},
   "source": [
    "#Python to CSV"
   ]
  },
  {
   "cell_type": "markdown",
   "metadata": {},
   "source": [
    "https://datatofish.com/export-dataframe-to-csv/"
   ]
  },
  {
   "cell_type": "code",
   "execution_count": 192,
   "metadata": {
    "scrolled": true
   },
   "outputs": [
    {
     "name": "stdout",
     "output_type": "stream",
     "text": [
      "               Category                 SubCategory  \\\n",
      "0        Category_Books     SubCategory_Non-Fiction   \n",
      "1         Category_Bags     SubCategory_Women's Bag   \n",
      "2     Category_Clothing  SubCategory_Men's Clothing   \n",
      "3        Category_Books  SubCategory_Children Books   \n",
      "4        Category_Books  SubCategory_Children Books   \n",
      "5  Category_Electronics         SubCategory_Cameras   \n",
      "6        Category_Books         SubCategory_Fiction   \n",
      "7     Category_Footwear  SubCategory_Kids' Footwear   \n",
      "8     Category_Clothing  SubCategory_Kids' Clothing   \n",
      "9  Category_Electronics         SubCategory_Cameras   \n",
      "\n",
      "                  Store_type  Age  Gender  Qty  Year Predicted_Output  \n",
      "0          Store_Type_e-Shop   38  Female    2  2014          3108.46  \n",
      "1  Store_Type_Flagship store   38    Male    2  2011           317.28  \n",
      "2          Store_Type_e-Shop   28    Male    1  2011           188.77  \n",
      "3        Store_Type_TeleShop   30    Male    1  2013          1342.18  \n",
      "4             Store_Type_MBR   21    Male    5  2012          7313.47  \n",
      "5          Store_Type_e-Shop   37  Female    5  2011          1548.29  \n",
      "6          Store_Type_e-Shop   35  Female    4  2013           678.61  \n",
      "7          Store_Type_e-Shop   29  Female    5  2011           2286.0  \n",
      "8        Store_Type_TeleShop   25    Male    5  2012           3958.5  \n",
      "9             Store_Type_MBR   24    Male    2  2011          2748.81  \n"
     ]
    }
   ],
   "source": [
    "transaction_sql_csv.to_csv (r'C:\\Users\\mich\\Desktop\\Summative Project\\export_dataframe.csv', index = False, header=True)\n",
    "\n",
    "print(transaction_sql_csv)"
   ]
  },
  {
   "cell_type": "markdown",
   "metadata": {},
   "source": [
    "#Python to SQLite"
   ]
  },
  {
   "cell_type": "markdown",
   "metadata": {},
   "source": [
    "https://pandas.pydata.org/pandas-docs/stable/reference/api/pandas.DataFrame.to_sql.html"
   ]
  },
  {
   "cell_type": "code",
   "execution_count": 193,
   "metadata": {},
   "outputs": [],
   "source": [
    "from sqlalchemy import create_engine\n",
    "engine = create_engine('sqlite://', echo=False)"
   ]
  },
  {
   "cell_type": "code",
   "execution_count": 194,
   "metadata": {
    "scrolled": true
   },
   "outputs": [
    {
     "data": {
      "text/plain": [
       "[(0, 'Category_Books', 'SubCategory_Non-Fiction', 'Store_Type_e-Shop', 38, 'Female', 2, 2014, '3108.46'),\n",
       " (1, 'Category_Bags', \"SubCategory_Women's Bag\", 'Store_Type_Flagship store', 38, 'Male', 2, 2011, '317.28'),\n",
       " (2, 'Category_Clothing', \"SubCategory_Men's Clothing\", 'Store_Type_e-Shop', 28, 'Male', 1, 2011, '188.77'),\n",
       " (3, 'Category_Books', 'SubCategory_Children Books', 'Store_Type_TeleShop', 30, 'Male', 1, 2013, '1342.18'),\n",
       " (4, 'Category_Books', 'SubCategory_Children Books', 'Store_Type_MBR', 21, 'Male', 5, 2012, '7313.47'),\n",
       " (5, 'Category_Electronics', 'SubCategory_Cameras', 'Store_Type_e-Shop', 37, 'Female', 5, 2011, '1548.29'),\n",
       " (6, 'Category_Books', 'SubCategory_Fiction', 'Store_Type_e-Shop', 35, 'Female', 4, 2013, '678.61'),\n",
       " (7, 'Category_Footwear', \"SubCategory_Kids' Footwear\", 'Store_Type_e-Shop', 29, 'Female', 5, 2011, '2286.0'),\n",
       " (8, 'Category_Clothing', \"SubCategory_Kids' Clothing\", 'Store_Type_TeleShop', 25, 'Male', 5, 2012, '3958.5'),\n",
       " (9, 'Category_Electronics', 'SubCategory_Cameras', 'Store_Type_MBR', 24, 'Male', 2, 2011, '2748.81')]"
      ]
     },
     "execution_count": 194,
     "metadata": {},
     "output_type": "execute_result"
    }
   ],
   "source": [
    "transaction_sql_csv.to_sql('predict', con=engine)\n",
    "engine.execute(\"SELECT * FROM predict\").fetchall()"
   ]
  }
 ],
 "metadata": {
  "colab": {
   "collapsed_sections": [],
   "name": "MLPrediction__CapstoneProj1_ replace - drop price&tax - feature engin - table change.ipynb",
   "provenance": [],
   "toc_visible": true
  },
  "kernelspec": {
   "display_name": "Python 3",
   "language": "python",
   "name": "python3"
  },
  "language_info": {
   "codemirror_mode": {
    "name": "ipython",
    "version": 3
   },
   "file_extension": ".py",
   "mimetype": "text/x-python",
   "name": "python",
   "nbconvert_exporter": "python",
   "pygments_lexer": "ipython3",
   "version": "3.8.5"
  }
 },
 "nbformat": 4,
 "nbformat_minor": 1
}
